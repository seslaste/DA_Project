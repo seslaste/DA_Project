{
 "cells": [
  {
   "cell_type": "markdown",
   "id": "1e84aff8",
   "metadata": {},
   "source": [
    "# Linear regression"
   ]
  },
  {
   "cell_type": "markdown",
   "id": "d9ca506b",
   "metadata": {},
   "source": [
    "## Libraries and settings"
   ]
  },
  {
   "cell_type": "code",
   "execution_count": 67,
   "id": "3cc498a3",
   "metadata": {},
   "outputs": [
    {
     "name": "stdout",
     "output_type": "stream",
     "text": [
      "/workspaces/DA_Project/Project/Minimum/5\n"
     ]
    }
   ],
   "source": [
    "# Libraries\n",
    "import os\n",
    "import numpy as np\n",
    "import pandas as pd\n",
    "import scipy.stats as stats\n",
    "import statsmodels.api as sm\n",
    "import matplotlib.pyplot as plt\n",
    "from sklearn import linear_model\n",
    "from sklearn.model_selection import train_test_split\n",
    "\n",
    "# Ignore warnings\n",
    "import warnings\n",
    "warnings.filterwarnings('ignore')\n",
    "\n",
    "# Show current working directory\n",
    "print(os.getcwd())"
   ]
  },
  {
   "cell_type": "markdown",
   "id": "514d3419",
   "metadata": {},
   "source": [
    "## Import the apartment data"
   ]
  },
  {
   "cell_type": "code",
   "execution_count": 68,
   "id": "fc8846ed",
   "metadata": {},
   "outputs": [
    {
     "name": "stdout",
     "output_type": "stream",
     "text": [
      "(50, 19)\n"
     ]
    },
    {
     "data": {
      "text/html": [
       "<div>\n",
       "<style scoped>\n",
       "    .dataframe tbody tr th:only-of-type {\n",
       "        vertical-align: middle;\n",
       "    }\n",
       "\n",
       "    .dataframe tbody tr th {\n",
       "        vertical-align: top;\n",
       "    }\n",
       "\n",
       "    .dataframe thead th {\n",
       "        text-align: right;\n",
       "    }\n",
       "</style>\n",
       "<table border=\"1\" class=\"dataframe\">\n",
       "  <thead>\n",
       "    <tr style=\"text-align: right;\">\n",
       "      <th></th>\n",
       "      <th>id</th>\n",
       "      <th>web-scraper-start-url</th>\n",
       "      <th>text_raw</th>\n",
       "      <th>price_raw</th>\n",
       "      <th>model_raw</th>\n",
       "      <th>type_year_km_transmission_fuel</th>\n",
       "      <th>Location</th>\n",
       "      <th>PLZ</th>\n",
       "      <th>km_raw</th>\n",
       "      <th>Year</th>\n",
       "      <th>price</th>\n",
       "      <th>km</th>\n",
       "      <th>luxury</th>\n",
       "      <th>competition</th>\n",
       "      <th>xDrive</th>\n",
       "      <th>automat</th>\n",
       "      <th>km_cat</th>\n",
       "      <th>km_per_year</th>\n",
       "      <th>km_per_year_cat</th>\n",
       "    </tr>\n",
       "  </thead>\n",
       "  <tbody>\n",
       "    <tr>\n",
       "      <th>0</th>\n",
       "      <td>1704481912-1</td>\n",
       "      <td>https://www.comparis.ch/carfinder/marktplatz/b...</td>\n",
       "      <td>BMW 220 GRAN TOURER 220D XDRIVE GRAN TOURER ST...</td>\n",
       "      <td>CHF 21'000</td>\n",
       "      <td>220d xDrive Gran Tourer Steptronic</td>\n",
       "      <td>Occasion10.2017107.000 kmAutomatDiesel1299 (VD)</td>\n",
       "      <td>VD</td>\n",
       "      <td>1299</td>\n",
       "      <td>107.0</td>\n",
       "      <td>2017</td>\n",
       "      <td>21000</td>\n",
       "      <td>107000</td>\n",
       "      <td>0</td>\n",
       "      <td>0</td>\n",
       "      <td>1</td>\n",
       "      <td>1</td>\n",
       "      <td>50-120k</td>\n",
       "      <td>15285.71</td>\n",
       "      <td>high</td>\n",
       "    </tr>\n",
       "    <tr>\n",
       "      <th>1</th>\n",
       "      <td>1704481912-2</td>\n",
       "      <td>https://www.comparis.ch/carfinder/marktplatz/b...</td>\n",
       "      <td>BMW X5M X5M STEPTRONICCHF 38'500AB CHF 616 / M...</td>\n",
       "      <td>CHF 38'500</td>\n",
       "      <td>X5M Steptronic</td>\n",
       "      <td>Occasion08.2016171.000 kmAutomatBenzin8730 (SG)</td>\n",
       "      <td>SG</td>\n",
       "      <td>8730</td>\n",
       "      <td>171.0</td>\n",
       "      <td>2016</td>\n",
       "      <td>38500</td>\n",
       "      <td>171000</td>\n",
       "      <td>0</td>\n",
       "      <td>0</td>\n",
       "      <td>0</td>\n",
       "      <td>1</td>\n",
       "      <td>120k+</td>\n",
       "      <td>21375.00</td>\n",
       "      <td>high</td>\n",
       "    </tr>\n",
       "    <tr>\n",
       "      <th>2</th>\n",
       "      <td>1704481912-3</td>\n",
       "      <td>https://www.comparis.ch/carfinder/marktplatz/b...</td>\n",
       "      <td>BMW X3 X3 M40D INDIVIDUAL STEPTRONICCHF 44'990...</td>\n",
       "      <td>CHF 44'990</td>\n",
       "      <td>X3 M40d Individual Steptronic</td>\n",
       "      <td>Occasion12.201988.900 kmAutomatDiesel3178 (FR)</td>\n",
       "      <td>FR</td>\n",
       "      <td>3178</td>\n",
       "      <td>88.9</td>\n",
       "      <td>2019</td>\n",
       "      <td>44990</td>\n",
       "      <td>88900</td>\n",
       "      <td>0</td>\n",
       "      <td>0</td>\n",
       "      <td>0</td>\n",
       "      <td>1</td>\n",
       "      <td>50-120k</td>\n",
       "      <td>17780.00</td>\n",
       "      <td>high</td>\n",
       "    </tr>\n",
       "    <tr>\n",
       "      <th>3</th>\n",
       "      <td>1704481912-4</td>\n",
       "      <td>https://www.comparis.ch/carfinder/marktplatz/b...</td>\n",
       "      <td>BMW X5 X5 XDRIVE 30D STEPTRONICCHF 26'500AB CH...</td>\n",
       "      <td>CHF 26'500</td>\n",
       "      <td>X5 xDrive 30d Steptronic</td>\n",
       "      <td>Occasion11.2016164.900 kmAutomatDiesel4461 (BL)</td>\n",
       "      <td>BL</td>\n",
       "      <td>4461</td>\n",
       "      <td>164.9</td>\n",
       "      <td>2016</td>\n",
       "      <td>26500</td>\n",
       "      <td>164900</td>\n",
       "      <td>0</td>\n",
       "      <td>0</td>\n",
       "      <td>1</td>\n",
       "      <td>1</td>\n",
       "      <td>120k+</td>\n",
       "      <td>20612.50</td>\n",
       "      <td>high</td>\n",
       "    </tr>\n",
       "    <tr>\n",
       "      <th>4</th>\n",
       "      <td>1704481912-5</td>\n",
       "      <td>https://www.comparis.ch/carfinder/marktplatz/b...</td>\n",
       "      <td>BMW 320 320I CABRIOLET STEPTRONICCHF 16'750AB ...</td>\n",
       "      <td>CHF 16'750</td>\n",
       "      <td>320i Cabriolet Steptronic</td>\n",
       "      <td>Occasion06.201079.600 kmAutomatBenzin4461 (BL)</td>\n",
       "      <td>BL</td>\n",
       "      <td>4461</td>\n",
       "      <td>79.6</td>\n",
       "      <td>2010</td>\n",
       "      <td>16750</td>\n",
       "      <td>79600</td>\n",
       "      <td>0</td>\n",
       "      <td>0</td>\n",
       "      <td>0</td>\n",
       "      <td>1</td>\n",
       "      <td>50-120k</td>\n",
       "      <td>5685.71</td>\n",
       "      <td>low</td>\n",
       "    </tr>\n",
       "  </tbody>\n",
       "</table>\n",
       "</div>"
      ],
      "text/plain": [
       "             id                              web-scraper-start-url  \\\n",
       "0  1704481912-1  https://www.comparis.ch/carfinder/marktplatz/b...   \n",
       "1  1704481912-2  https://www.comparis.ch/carfinder/marktplatz/b...   \n",
       "2  1704481912-3  https://www.comparis.ch/carfinder/marktplatz/b...   \n",
       "3  1704481912-4  https://www.comparis.ch/carfinder/marktplatz/b...   \n",
       "4  1704481912-5  https://www.comparis.ch/carfinder/marktplatz/b...   \n",
       "\n",
       "                                            text_raw   price_raw  \\\n",
       "0  BMW 220 GRAN TOURER 220D XDRIVE GRAN TOURER ST...  CHF 21'000   \n",
       "1  BMW X5M X5M STEPTRONICCHF 38'500AB CHF 616 / M...  CHF 38'500   \n",
       "2  BMW X3 X3 M40D INDIVIDUAL STEPTRONICCHF 44'990...  CHF 44'990   \n",
       "3  BMW X5 X5 XDRIVE 30D STEPTRONICCHF 26'500AB CH...  CHF 26'500   \n",
       "4  BMW 320 320I CABRIOLET STEPTRONICCHF 16'750AB ...  CHF 16'750   \n",
       "\n",
       "                            model_raw  \\\n",
       "0  220d xDrive Gran Tourer Steptronic   \n",
       "1                      X5M Steptronic   \n",
       "2       X3 M40d Individual Steptronic   \n",
       "3            X5 xDrive 30d Steptronic   \n",
       "4           320i Cabriolet Steptronic   \n",
       "\n",
       "                    type_year_km_transmission_fuel Location   PLZ  km_raw  \\\n",
       "0  Occasion10.2017107.000 kmAutomatDiesel1299 (VD)       VD  1299   107.0   \n",
       "1  Occasion08.2016171.000 kmAutomatBenzin8730 (SG)       SG  8730   171.0   \n",
       "2   Occasion12.201988.900 kmAutomatDiesel3178 (FR)       FR  3178    88.9   \n",
       "3  Occasion11.2016164.900 kmAutomatDiesel4461 (BL)       BL  4461   164.9   \n",
       "4   Occasion06.201079.600 kmAutomatBenzin4461 (BL)       BL  4461    79.6   \n",
       "\n",
       "   Year  price      km  luxury  competition  xDrive  automat   km_cat  \\\n",
       "0  2017  21000  107000       0            0       1        1  50-120k   \n",
       "1  2016  38500  171000       0            0       0        1    120k+   \n",
       "2  2019  44990   88900       0            0       0        1  50-120k   \n",
       "3  2016  26500  164900       0            0       1        1    120k+   \n",
       "4  2010  16750   79600       0            0       0        1  50-120k   \n",
       "\n",
       "   km_per_year km_per_year_cat  \n",
       "0     15285.71            high  \n",
       "1     21375.00            high  \n",
       "2     17780.00            high  \n",
       "3     20612.50            high  \n",
       "4      5685.71             low  "
      ]
     },
     "execution_count": 68,
     "metadata": {},
     "output_type": "execute_result"
    }
   ],
   "source": [
    "# Read data to pandas data frame\n",
    "df_orig = pd.read_csv('bmw_data_prepared.csv', \n",
    "                      sep=',', \n",
    "                      encoding='utf-8')\n",
    "\n",
    "# Copy of data with selected colums\n",
    "columns = [ 'web-scraper-order', \n",
    "                'model_raw',\n",
    "                'Location',\n",
    "                'PLZ',\n",
    "                'Year',\n",
    "                'price',\n",
    "                'km',\n",
    "                'luxury',\n",
    "                'competition',\n",
    "                'xDrive',\n",
    "                'automat',\n",
    "                'km_cat',\n",
    "                'km_per_year',]\n",
    "df = df_orig[columns]\n",
    "\n",
    "# Rename variable 'web-scraper-order' to 'apmt_id'\n",
    "df_orig = df_orig.rename(columns={'web-scraper-order': 'id'})\n",
    "\n",
    "# Remove missing values\n",
    "df = df_orig.dropna()\n",
    "df.head(5)\n",
    "\n",
    "# Remove duplicates\n",
    "df = df.drop_duplicates()\n",
    "\n",
    "# Remove some 'extreme' values\n",
    "df = df.loc[(df['price'] >= 2000) & \n",
    "            (df['price'] <= 100000)]\n",
    "\n",
    "print(df.shape)\n",
    "df.head(5)"
   ]
  },
  {
   "cell_type": "markdown",
   "id": "e43dabac",
   "metadata": {},
   "source": [
    "## Simple linear regression (only one explanatory variable in the model)\n",
    "For details see: https://docs.scipy.org/doc/scipy/reference/generated/scipy.stats.linregress.html"
   ]
  },
  {
   "cell_type": "markdown",
   "id": "f2ba09cd",
   "metadata": {},
   "source": [
    "### Create train and test samples (train = 80%, test = 20% of the data)"
   ]
  },
  {
   "cell_type": "code",
   "execution_count": 69,
   "id": "ebba6b44",
   "metadata": {},
   "outputs": [
    {
     "name": "stdout",
     "output_type": "stream",
     "text": [
      "X_train:\n",
      "12     88900\n",
      "4      79600\n",
      "37    250000\n",
      "8      59900\n",
      "3     164900\n",
      "Name: km, dtype: int64 \n",
      "\n",
      "y_train:\n",
      "12    44990\n",
      "4     16750\n",
      "37     8900\n",
      "8     63890\n",
      "3     26500\n",
      "Name: price, dtype: int64\n"
     ]
    }
   ],
   "source": [
    "# Create train and test samples\n",
    "X_train, X_test, y_train, y_test = train_test_split(df['km'], \n",
    "                                                    df['price'], \n",
    "                                                    test_size=0.20, \n",
    "                                                    random_state=42)\n",
    "# Show X_train\n",
    "print('X_train:')\n",
    "print(X_train.head(), '\\n')\n",
    "\n",
    "# Show y_train\n",
    "print('y_train:')\n",
    "print(y_train.head())"
   ]
  },
  {
   "cell_type": "markdown",
   "id": "f32a7699",
   "metadata": {},
   "source": [
    "### Fit the simple linear regression model"
   ]
  },
  {
   "cell_type": "code",
   "execution_count": 70,
   "id": "8b2fc4ac",
   "metadata": {},
   "outputs": [
    {
     "name": "stdout",
     "output_type": "stream",
     "text": [
      "Linear regression result:\n",
      "Intercept with y-axis (alpha):            44674.79\n",
      "Slope of regression line (beta):          -0.121\n",
      "p-value:                                  0.0020\n",
      "R-squared (coefficient of determination): 0.2241\n"
     ]
    }
   ],
   "source": [
    "# Fit the regression model\n",
    "slope, intercept, r, p, std_err = stats.linregress(X_train, y_train)\n",
    "\n",
    "# Print results of the regression model\n",
    "print('Linear regression result:')\n",
    "print(f'Intercept with y-axis (alpha):            {intercept:.2f}')\n",
    "print(f'Slope of regression line (beta):          {slope:.3f}')\n",
    "print(f'p-value:                                  {p:.4f}')\n",
    "print(f'R-squared (coefficient of determination): {r**2:.4f}')"
   ]
  },
  {
   "cell_type": "markdown",
   "id": "473eaddb",
   "metadata": {},
   "source": [
    "### Plot regression line"
   ]
  },
  {
   "cell_type": "code",
   "execution_count": 71,
   "id": "944adc0b",
   "metadata": {},
   "outputs": [
    {
     "data": {
      "image/png": "[encoded data removed]",
      "text/plain": [
       "<Figure size 600x400 with 1 Axes>"
      ]
     },
     "metadata": {},
     "output_type": "display_data"
    }
   ],
   "source": [
    "# Function to calculate model predictions\n",
    "def myfunc(x):\n",
    "    return slope * x + intercept\n",
    "\n",
    "# Apply myfunc() to x, i.e. make predictions \n",
    "mymodel = pd.Series(map(myfunc, X_train))\n",
    "\n",
    "# Scatterplot with regression line\n",
    "plt.figure(figsize=(6,4))\n",
    "plt.scatter(X_train, y_train, s=10, color='green')\n",
    "plt.plot(X_train, mymodel, color='darkred', linestyle='dashed')\n",
    "plt.title('Simple Linear Regression')\n",
    "plt.xlabel('km')\n",
    "plt.ylabel('price (CHF)')\n",
    "\n",
    "plt.show()"
   ]
  },
  {
   "cell_type": "markdown",
   "id": "4168bf46",
   "metadata": {},
   "source": [
    "### Check model residuals (residuals = observed prices minus predicted prices)"
   ]
  },
  {
   "cell_type": "code",
   "execution_count": 72,
   "id": "c706dc0f",
   "metadata": {},
   "outputs": [
    {
     "name": "stdout",
     "output_type": "stream",
     "text": [
      "1st Predicted price in dataset: 33874.08\n",
      "1st Observed price in dataset: 21000.00\n",
      "1st Residual price in dataset: -12874.08\n"
     ]
    }
   ],
   "source": [
    "# Calculate model residuals for train data\n",
    "residuals = y_train - mymodel\n",
    "\n",
    "# Check the first residual value in our data set\n",
    "print(f'1st Predicted price in dataset: {mymodel[0]:.2f}')\n",
    "print(f'1st Observed price in dataset: {y_train[0]:.2f}')\n",
    "print(f'1st Residual price in dataset: {residuals[0]:.2f}')"
   ]
  },
  {
   "cell_type": "markdown",
   "id": "a61ae5ac",
   "metadata": {},
   "source": [
    "### Plot histogram of residuals"
   ]
  },
  {
   "cell_type": "code",
   "execution_count": 73,
   "id": "74906286",
   "metadata": {},
   "outputs": [
    {
     "data": {
      "image/png": "[encoded data removed]",
      "text/plain": [
       "<Figure size 700x400 with 1 Axes>"
      ]
     },
     "metadata": {},
     "output_type": "display_data"
    }
   ],
   "source": [
    "# Plot histogram of residuals\n",
    "fig = plt.figure( figsize=(7,4))\n",
    "n, bins, patches = plt.hist(x=residuals, \n",
    "                            bins=25, \n",
    "                            color='blue',\n",
    "                            alpha=0.5\n",
    "                   )\n",
    "\n",
    "# Set title and labels\n",
    "plt.xlabel('residuals', fontsize=10, labelpad=10)\n",
    "plt.ylabel('frequency', fontsize=10, labelpad=10)\n",
    "plt.title('Histogram of model residuals', fontsize=12, pad=10)\n",
    "\n",
    "# Show plot\n",
    "plt.show()"
   ]
  },
  {
   "cell_type": "markdown",
   "id": "b3108ba5",
   "metadata": {},
   "source": [
    "### Compare the observed prices with the predicted prices"
   ]
  },
  {
   "cell_type": "code",
   "execution_count": 74,
   "id": "36cdf7b0",
   "metadata": {},
   "outputs": [
    {
     "name": "stdout",
     "output_type": "stream",
     "text": [
      "Observed price: 26500.0, Predicted price: 24640.6\n",
      "Observed price: 36990.0, Predicted price: 40592.6\n",
      "Observed price: 21000.0, Predicted price: 31675.1\n",
      "Observed price: 21500.0, Predicted price: 31225.5\n",
      "Observed price: 8900.0, Predicted price: 14301.6\n",
      "Observed price: 63890.0, Predicted price: 37397.4\n",
      "Observed price: 24900.0, Predicted price: 33728.3\n",
      "Observed price: 21500.0, Predicted price: 31225.5\n",
      "Observed price: 44990.0, Predicted price: 33874.1\n",
      "Observed price: 36990.0, Predicted price: 40592.6\n"
     ]
    }
   ],
   "source": [
    "# Create model predictions for test data\n",
    "predicted = myfunc(X_test)\n",
    "predicted.round(1)\n",
    "\n",
    "# Compare the observed prices with the predicted prices\n",
    "for i in range(0,10):\n",
    "    print(f'Observed price: {y_test.iloc[i]:.1f}, Predicted price: {predicted.iloc[i]:.1f}')"
   ]
  },
  {
   "cell_type": "markdown",
   "id": "0bf7656b",
   "metadata": {},
   "source": [
    "## Multiple linear regression (more than one explanatory variable in the model)\n",
    "For details see: https://www.statsmodels.org/dev/examples/notebooks/generated/predict.html"
   ]
  },
  {
   "cell_type": "markdown",
   "id": "9268293c",
   "metadata": {},
   "source": [
    "### Create train and test samples (train = 80%, test = 20% of the data)"
   ]
  },
  {
   "cell_type": "code",
   "execution_count": 75,
   "id": "26c6c61e",
   "metadata": {},
   "outputs": [
    {
     "name": "stdout",
     "output_type": "stream",
     "text": [
      "X2_train:\n",
      "        km  Year\n",
      "12   88900  2019\n",
      "4    79600  2010\n",
      "37  250000  2007\n",
      "8    59900  2019\n",
      "3   164900  2016 \n",
      "\n",
      "y2_train:\n",
      "12    44990\n",
      "4     16750\n",
      "37     8900\n",
      "8     63890\n",
      "3     26500\n",
      "Name: price, dtype: int64\n"
     ]
    }
   ],
   "source": [
    "# Create train and test samples (we name it X2_ and y_2 because we already used X_ and y_ above)\n",
    "X2_train, X2_test, y2_train, y2_test = train_test_split(df[['km',\n",
    "                                                            'Year']], \n",
    "                                                        df['price'], \n",
    "                                                        test_size=0.20, \n",
    "                                                        random_state=42)\n",
    "\n",
    "# Show X2_train\n",
    "print('X2_train:')\n",
    "print(X2_train.head(), '\\n')\n",
    "\n",
    "# Show y2_train\n",
    "print('y2_train:')\n",
    "print(y2_train.head())"
   ]
  },
  {
   "cell_type": "markdown",
   "id": "493cef96",
   "metadata": {},
   "source": [
    "### Fit the multiple regression model (yes, the output is rich :-), but we need only part of it for interpretation!)"
   ]
  },
  {
   "cell_type": "code",
   "execution_count": 76,
   "id": "41939144",
   "metadata": {},
   "outputs": [
    {
     "name": "stdout",
     "output_type": "stream",
     "text": [
      "                            OLS Regression Results                            \n",
      "==============================================================================\n",
      "Dep. Variable:                  price   R-squared:                       0.574\n",
      "Model:                            OLS   Adj. R-squared:                  0.551\n",
      "Method:                 Least Squares   F-statistic:                     24.96\n",
      "Date:                Fri, 12 Jan 2024   Prob (F-statistic):           1.37e-07\n",
      "Time:                        14:32:33   Log-Likelihood:                -425.07\n",
      "No. Observations:                  40   AIC:                             856.1\n",
      "Df Residuals:                      37   BIC:                             861.2\n",
      "Df Model:                           2                                         \n",
      "Covariance Type:            nonrobust                                         \n",
      "==============================================================================\n",
      "                 coef    std err          t      P>|t|      [0.025      0.975]\n",
      "------------------------------------------------------------------------------\n",
      "const      -5.807e+06   1.06e+06     -5.476      0.000   -7.96e+06   -3.66e+06\n",
      "km            -0.0038      0.035     -0.110      0.913      -0.074       0.067\n",
      "Year        2896.7571    524.984      5.518      0.000    1833.039    3960.475\n",
      "==============================================================================\n",
      "Omnibus:                        4.804   Durbin-Watson:                   1.576\n",
      "Prob(Omnibus):                  0.091   Jarque-Bera (JB):                3.814\n",
      "Skew:                           0.746   Prob(JB):                        0.149\n",
      "Kurtosis:                       3.253   Cond. No.                     8.56e+07\n",
      "==============================================================================\n",
      "\n",
      "Notes:\n",
      "[1] Standard Errors assume that the covariance matrix of the errors is correctly specified.\n",
      "[2] The condition number is large, 8.56e+07. This might indicate that there are\n",
      "strong multicollinearity or other numerical problems.\n"
     ]
    }
   ],
   "source": [
    "# Add constant to the model\n",
    "X2_train_const = sm.add_constant(X2_train)\n",
    "\n",
    "# Create the multiple regression model\n",
    "olsmod = sm.OLS(y_train, X2_train_const)\n",
    "olsres = olsmod.fit()\n",
    "\n",
    "# Print full model output\n",
    "print(olsres.summary())"
   ]
  },
  {
   "cell_type": "markdown",
   "id": "6bfc2964",
   "metadata": {},
   "source": [
    "### Interpretation of the relevant (in this course) statistics in the table above"
   ]
  },
  {
   "cell_type": "markdown",
   "id": "4e62547e",
   "metadata": {},
   "source": [
    "<b>R-squared:</b> This is the coefficient of determination (see slides of lessons). A value of 0.522 means, that the explanatory variables explain 52% of the variaton of our target variable (rental prices) - not bad, but could be improved.\n",
    "\n",
    "<b>coef:</b> These are the estimated coefficients of the explanatory variables ('slopes of the regression line' of each variable). These are nedded for the price predictions in our model.\n",
    "\n",
    "<b>P>|t|:</b> These are the p-values. If < 0.05, the explanatory variables shows a statistically siginificant (5% significance level) contribution in explaining the target variable. Except for the distiance to the nearest supermarkt, all variables are significant here."
   ]
  },
  {
   "cell_type": "markdown",
   "id": "1cb8a8c5",
   "metadata": {},
   "source": [
    "### Plot histogram of residuals"
   ]
  },
  {
   "cell_type": "code",
   "execution_count": 77,
   "id": "c28ffef9",
   "metadata": {},
   "outputs": [
    {
     "data": {
      "image/png": "[encoded data removed]",
      "text/plain": [
       "<Figure size 800x400 with 1 Axes>"
      ]
     },
     "metadata": {},
     "output_type": "display_data"
    }
   ],
   "source": [
    "# Plot histogram of residuals\n",
    "fig = plt.figure( figsize=(8,4))\n",
    "n, bins, patches = plt.hist(x=olsres.resid, \n",
    "                            bins=25, \n",
    "                            color='blue',\n",
    "                            alpha=0.5\n",
    "                   )\n",
    "\n",
    "# Set labels\n",
    "plt.xlabel('residuals', fontsize=10, labelpad=10)\n",
    "plt.ylabel('frequency', fontsize=10, labelpad=10)\n",
    "plt.title('Histogram of model residuals', fontsize=12, pad=10)\n",
    "\n",
    "plt.show()"
   ]
  },
  {
   "cell_type": "markdown",
   "id": "5dd244d9",
   "metadata": {},
   "source": [
    "### Compare the observed prices with the predicted prices"
   ]
  },
  {
   "cell_type": "code",
   "execution_count": 78,
   "id": "798fac9c",
   "metadata": {},
   "outputs": [
    {
     "name": "stdout",
     "output_type": "stream",
     "text": [
      "Observed price: 26500.0, Predicted price: 32159.7\n",
      "Observed price: 36990.0, Predicted price: 44250.4\n",
      "Observed price: 21000.0, Predicted price: 35278.6\n",
      "Observed price: 21500.0, Predicted price: 26574.1\n",
      "Observed price: 8900.0, Predicted price: 5762.4\n",
      "Observed price: 63890.0, Predicted price: 41252.7\n",
      "Observed price: 24900.0, Predicted price: 35343.4\n",
      "Observed price: 21500.0, Predicted price: 26574.1\n",
      "Observed price: 44990.0, Predicted price: 41141.5\n",
      "Observed price: 36990.0, Predicted price: 44250.4\n"
     ]
    }
   ],
   "source": [
    "# Add constant to X2_test\n",
    "X2_test_const = sm.add_constant(X2_test)\n",
    "predicted_new = olsres.predict(X2_test_const)\n",
    "\n",
    "# Compare the observed prices with the predicted prices\n",
    "for i in range(0,10):\n",
    "    print(f'Observed price: {y_test.iloc[i]:.1f}, Predicted price: {predicted_new.iloc[i]:.1f}')"
   ]
  },
  {
   "cell_type": "markdown",
   "id": "b3468eec",
   "metadata": {},
   "source": [
    "### Jupyter notebook --footer info-- (please always provide this at the end of each submitted notebook)"
   ]
  },
  {
   "cell_type": "code",
   "execution_count": 79,
   "id": "64f26a9e",
   "metadata": {},
   "outputs": [
    {
     "name": "stdout",
     "output_type": "stream",
     "text": [
      "-----------------------------------\n",
      "POSIX\n",
      "Linux | 6.2.0-1018-azure\n",
      "Datetime: 2024-01-12 14:32:33\n",
      "Python Version: 3.10.13\n",
      "-----------------------------------\n"
     ]
    }
   ],
   "source": [
    "import os\n",
    "import platform\n",
    "import socket\n",
    "from platform import python_version\n",
    "from datetime import datetime\n",
    "\n",
    "print('-----------------------------------')\n",
    "print(os.name.upper())\n",
    "print(platform.system(), '|', platform.release())\n",
    "print('Datetime:', datetime.now().strftime(\"%Y-%m-%d %H:%M:%S\"))\n",
    "print('Python Version:', python_version())\n",
    "print('-----------------------------------')"
   ]
  }
 ],
 "metadata": {
  "kernelspec": {
   "display_name": "Python 3 (ipykernel)",
   "language": "python",
   "name": "python3"
  },
  "language_info": {
   "codemirror_mode": {
    "name": "ipython",
    "version": 3
   },
   "file_extension": ".py",
   "mimetype": "text/x-python",
   "name": "python",
   "nbconvert_exporter": "python",
   "pygments_lexer": "ipython3",
   "version": "3.10.13"
  }
 },
 "nbformat": 4,
 "nbformat_minor": 5
}
