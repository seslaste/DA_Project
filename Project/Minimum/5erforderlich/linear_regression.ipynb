{
 "cells": [
  {
   "cell_type": "markdown",
   "id": "1e84aff8",
   "metadata": {},
   "source": [
    "# Linear regression"
   ]
  },
  {
   "cell_type": "markdown",
   "id": "d9ca506b",
   "metadata": {},
   "source": [
    "## Libraries and settings"
   ]
  },
  {
   "cell_type": "code",
   "execution_count": 1,
   "id": "3cc498a3",
   "metadata": {},
   "outputs": [
    {
     "name": "stdout",
     "output_type": "stream",
     "text": [
      "/workspaces/DA_Project/Project/Minimum/5erforderlich\n"
     ]
    }
   ],
   "source": [
    "# Libraries\n",
    "import os\n",
    "import numpy as np\n",
    "import pandas as pd\n",
    "import scipy.stats as stats\n",
    "import statsmodels.api as sm\n",
    "import matplotlib.pyplot as plt\n",
    "from sklearn import linear_model\n",
    "from sklearn.model_selection import train_test_split\n",
    "\n",
    "# Ignore warnings\n",
    "import warnings\n",
    "warnings.filterwarnings('ignore')\n",
    "\n",
    "# Show current working directory\n",
    "print(os.getcwd())"
   ]
  },
  {
   "cell_type": "markdown",
   "id": "514d3419",
   "metadata": {},
   "source": [
    "## Import the bmw data"
   ]
  },
  {
   "cell_type": "code",
   "execution_count": 2,
   "id": "fc8846ed",
   "metadata": {},
   "outputs": [
    {
     "name": "stdout",
     "output_type": "stream",
     "text": [
      "(872, 19)\n"
     ]
    },
    {
     "data": {
      "text/html": [
       "<div>\n",
       "<style scoped>\n",
       "    .dataframe tbody tr th:only-of-type {\n",
       "        vertical-align: middle;\n",
       "    }\n",
       "\n",
       "    .dataframe tbody tr th {\n",
       "        vertical-align: top;\n",
       "    }\n",
       "\n",
       "    .dataframe thead th {\n",
       "        text-align: right;\n",
       "    }\n",
       "</style>\n",
       "<table border=\"1\" class=\"dataframe\">\n",
       "  <thead>\n",
       "    <tr style=\"text-align: right;\">\n",
       "      <th></th>\n",
       "      <th>id</th>\n",
       "      <th>web-scraper-start-url</th>\n",
       "      <th>text_raw</th>\n",
       "      <th>price_raw</th>\n",
       "      <th>model_raw</th>\n",
       "      <th>type_year_km_transmission_fuel</th>\n",
       "      <th>Location</th>\n",
       "      <th>PLZ</th>\n",
       "      <th>km_raw</th>\n",
       "      <th>Year</th>\n",
       "      <th>price</th>\n",
       "      <th>km</th>\n",
       "      <th>luxury</th>\n",
       "      <th>competition</th>\n",
       "      <th>xDrive</th>\n",
       "      <th>automat</th>\n",
       "      <th>km_cat</th>\n",
       "      <th>km_per_year</th>\n",
       "      <th>km_per_year_cat</th>\n",
       "    </tr>\n",
       "  </thead>\n",
       "  <tbody>\n",
       "    <tr>\n",
       "      <th>0</th>\n",
       "      <td>1705078003-1</td>\n",
       "      <td>https://www.comparis.ch/carfinder/marktplatz/b...</td>\n",
       "      <td>BMW X3 X3 XDRIVE 20D XLINE STEPTRONICCHF 22'90...</td>\n",
       "      <td>CHF 22'900</td>\n",
       "      <td>X3 xDrive 20d xLine Steptronic</td>\n",
       "      <td>Occasion05.2016119.500 kmAutomatDiesel1227 (GE)</td>\n",
       "      <td>GE</td>\n",
       "      <td>1227</td>\n",
       "      <td>119.500</td>\n",
       "      <td>2016</td>\n",
       "      <td>22900</td>\n",
       "      <td>119500.0</td>\n",
       "      <td>0</td>\n",
       "      <td>0</td>\n",
       "      <td>1</td>\n",
       "      <td>1</td>\n",
       "      <td>50-120k</td>\n",
       "      <td>14937.50</td>\n",
       "      <td>medium</td>\n",
       "    </tr>\n",
       "    <tr>\n",
       "      <th>1</th>\n",
       "      <td>1705078003-2</td>\n",
       "      <td>https://www.comparis.ch/carfinder/marktplatz/b...</td>\n",
       "      <td>BMW 540 540ICHF 13'750AB CHF 220 / MONAT5 / 6O...</td>\n",
       "      <td>CHF 13'750</td>\n",
       "      <td>540i</td>\n",
       "      <td>Occasion05.2006124.900 kmAutomatBenzin4461 (BL)</td>\n",
       "      <td>BL</td>\n",
       "      <td>4461</td>\n",
       "      <td>124.900</td>\n",
       "      <td>2006</td>\n",
       "      <td>13750</td>\n",
       "      <td>124900.0</td>\n",
       "      <td>0</td>\n",
       "      <td>0</td>\n",
       "      <td>0</td>\n",
       "      <td>1</td>\n",
       "      <td>120k+</td>\n",
       "      <td>6938.89</td>\n",
       "      <td>low</td>\n",
       "    </tr>\n",
       "    <tr>\n",
       "      <th>2</th>\n",
       "      <td>1705078003-3</td>\n",
       "      <td>https://www.comparis.ch/carfinder/marktplatz/b...</td>\n",
       "      <td>BMW 225 ACTIVE TOURER 225XE IPERFORMANCE ACTIV...</td>\n",
       "      <td>CHF 28'800</td>\n",
       "      <td>225xe iPerformance Active Tourer Steptronic M ...</td>\n",
       "      <td>Occasion09.201928.950 kmAutomatBenzin/Elektro4...</td>\n",
       "      <td>BL</td>\n",
       "      <td>4460</td>\n",
       "      <td>28.950</td>\n",
       "      <td>2019</td>\n",
       "      <td>28800</td>\n",
       "      <td>28950.0</td>\n",
       "      <td>0</td>\n",
       "      <td>0</td>\n",
       "      <td>0</td>\n",
       "      <td>1</td>\n",
       "      <td>0-50k</td>\n",
       "      <td>5790.00</td>\n",
       "      <td>low</td>\n",
       "    </tr>\n",
       "    <tr>\n",
       "      <th>3</th>\n",
       "      <td>1705078003-4</td>\n",
       "      <td>https://www.comparis.ch/carfinder/marktplatz/b...</td>\n",
       "      <td>BMW 316 316I COMPACTCHF 1'100OCCASION04.200024...</td>\n",
       "      <td>CHF 1'100</td>\n",
       "      <td>316i Compact</td>\n",
       "      <td>Occasion04.2000248.013 kmAutomatBenzin6300 (ZG)</td>\n",
       "      <td>ZG</td>\n",
       "      <td>6300</td>\n",
       "      <td>248.013</td>\n",
       "      <td>2000</td>\n",
       "      <td>1100</td>\n",
       "      <td>248013.0</td>\n",
       "      <td>0</td>\n",
       "      <td>0</td>\n",
       "      <td>0</td>\n",
       "      <td>1</td>\n",
       "      <td>120k+</td>\n",
       "      <td>10333.88</td>\n",
       "      <td>medium</td>\n",
       "    </tr>\n",
       "    <tr>\n",
       "      <th>4</th>\n",
       "      <td>1705078003-5</td>\n",
       "      <td>https://www.comparis.ch/carfinder/marktplatz/b...</td>\n",
       "      <td>BMW 530 530XI STEPTRONICCHF 10'900AB CHF 175 /...</td>\n",
       "      <td>CHF 10'900</td>\n",
       "      <td>530xi Steptronic</td>\n",
       "      <td>Occasion06.2008160.000 kmAutomatBenzin6010 (LU)</td>\n",
       "      <td>LU</td>\n",
       "      <td>6010</td>\n",
       "      <td>160.000</td>\n",
       "      <td>2008</td>\n",
       "      <td>10900</td>\n",
       "      <td>160000.0</td>\n",
       "      <td>0</td>\n",
       "      <td>0</td>\n",
       "      <td>0</td>\n",
       "      <td>1</td>\n",
       "      <td>120k+</td>\n",
       "      <td>10000.00</td>\n",
       "      <td>low</td>\n",
       "    </tr>\n",
       "  </tbody>\n",
       "</table>\n",
       "</div>"
      ],
      "text/plain": [
       "             id                              web-scraper-start-url  \\\n",
       "0  1705078003-1  https://www.comparis.ch/carfinder/marktplatz/b...   \n",
       "1  1705078003-2  https://www.comparis.ch/carfinder/marktplatz/b...   \n",
       "2  1705078003-3  https://www.comparis.ch/carfinder/marktplatz/b...   \n",
       "3  1705078003-4  https://www.comparis.ch/carfinder/marktplatz/b...   \n",
       "4  1705078003-5  https://www.comparis.ch/carfinder/marktplatz/b...   \n",
       "\n",
       "                                            text_raw   price_raw  \\\n",
       "0  BMW X3 X3 XDRIVE 20D XLINE STEPTRONICCHF 22'90...  CHF 22'900   \n",
       "1  BMW 540 540ICHF 13'750AB CHF 220 / MONAT5 / 6O...  CHF 13'750   \n",
       "2  BMW 225 ACTIVE TOURER 225XE IPERFORMANCE ACTIV...  CHF 28'800   \n",
       "3  BMW 316 316I COMPACTCHF 1'100OCCASION04.200024...   CHF 1'100   \n",
       "4  BMW 530 530XI STEPTRONICCHF 10'900AB CHF 175 /...  CHF 10'900   \n",
       "\n",
       "                                           model_raw  \\\n",
       "0                     X3 xDrive 20d xLine Steptronic   \n",
       "1                                               540i   \n",
       "2  225xe iPerformance Active Tourer Steptronic M ...   \n",
       "3                                       316i Compact   \n",
       "4                                   530xi Steptronic   \n",
       "\n",
       "                      type_year_km_transmission_fuel Location   PLZ   km_raw  \\\n",
       "0    Occasion05.2016119.500 kmAutomatDiesel1227 (GE)       GE  1227  119.500   \n",
       "1    Occasion05.2006124.900 kmAutomatBenzin4461 (BL)       BL  4461  124.900   \n",
       "2  Occasion09.201928.950 kmAutomatBenzin/Elektro4...       BL  4460   28.950   \n",
       "3    Occasion04.2000248.013 kmAutomatBenzin6300 (ZG)       ZG  6300  248.013   \n",
       "4    Occasion06.2008160.000 kmAutomatBenzin6010 (LU)       LU  6010  160.000   \n",
       "\n",
       "   Year  price        km  luxury  competition  xDrive  automat   km_cat  \\\n",
       "0  2016  22900  119500.0       0            0       1        1  50-120k   \n",
       "1  2006  13750  124900.0       0            0       0        1    120k+   \n",
       "2  2019  28800   28950.0       0            0       0        1    0-50k   \n",
       "3  2000   1100  248013.0       0            0       0        1    120k+   \n",
       "4  2008  10900  160000.0       0            0       0        1    120k+   \n",
       "\n",
       "   km_per_year km_per_year_cat  \n",
       "0     14937.50          medium  \n",
       "1      6938.89             low  \n",
       "2      5790.00             low  \n",
       "3     10333.88          medium  \n",
       "4     10000.00             low  "
      ]
     },
     "execution_count": 2,
     "metadata": {},
     "output_type": "execute_result"
    }
   ],
   "source": [
    "# Read data to pandas data frame\n",
    "df_orig = pd.read_csv('bmw_data_prepared.csv', \n",
    "                      sep=',', \n",
    "                      encoding='utf-8')\n",
    "\n",
    "# Copy of data with selected colums\n",
    "columns = [ 'web-scraper-order', \n",
    "                'model_raw',\n",
    "                'Location',\n",
    "                'PLZ',\n",
    "                'Year',\n",
    "                'price',\n",
    "                'km',\n",
    "                'luxury',\n",
    "                'competition',\n",
    "                'xDrive',\n",
    "                'automat',\n",
    "                'km_cat',\n",
    "                'km_per_year',]\n",
    "df = df_orig[columns]\n",
    "\n",
    "# Rename variable 'web-scraper-order' to 'apmt_id'\n",
    "df_orig = df_orig.rename(columns={'web-scraper-order': 'id'})\n",
    "\n",
    "# Remove missing values\n",
    "df = df_orig.dropna()\n",
    "df.head(5)\n",
    "\n",
    "# Remove duplicates\n",
    "df = df.drop_duplicates()\n",
    "\n",
    "# Remove some 'extreme' values\n",
    "df = df.loc[(df['price'] >= 1000) & \n",
    "            (df['price'] <= 300000)]\n",
    "\n",
    "print(df.shape)\n",
    "df.head(5)"
   ]
  },
  {
   "cell_type": "markdown",
   "id": "e43dabac",
   "metadata": {},
   "source": [
    "## Simple linear regression (only one explanatory variable in the model)\n",
    "For details see: https://docs.scipy.org/doc/scipy/reference/generated/scipy.stats.linregress.html"
   ]
  },
  {
   "cell_type": "markdown",
   "id": "f2ba09cd",
   "metadata": {},
   "source": [
    "### Create train and test samples (train = 80%, test = 20% of the data)"
   ]
  },
  {
   "cell_type": "code",
   "execution_count": 3,
   "id": "ebba6b44",
   "metadata": {},
   "outputs": [
    {
     "name": "stdout",
     "output_type": "stream",
     "text": [
      "X_train:\n",
      "618    130000.0\n",
      "445    310043.0\n",
      "868    182000.0\n",
      "348     16200.0\n",
      "363     81000.0\n",
      "Name: km, dtype: float64 \n",
      "\n",
      "y_train:\n",
      "618    18900\n",
      "445     4900\n",
      "868    12900\n",
      "348    26900\n",
      "363    17900\n",
      "Name: price, dtype: int64\n"
     ]
    }
   ],
   "source": [
    "# Create train and test samples\n",
    "X_train, X_test, y_train, y_test = train_test_split(df['km'], \n",
    "                                                    df['price'], \n",
    "                                                    test_size=0.20, \n",
    "                                                    random_state=42)\n",
    "# Show X_train\n",
    "print('X_train:')\n",
    "print(X_train.head(), '\\n')\n",
    "\n",
    "# Show y_train\n",
    "print('y_train:')\n",
    "print(y_train.head())"
   ]
  },
  {
   "cell_type": "markdown",
   "id": "f32a7699",
   "metadata": {},
   "source": [
    "### Fit the simple linear regression model"
   ]
  },
  {
   "cell_type": "code",
   "execution_count": 4,
   "id": "8b2fc4ac",
   "metadata": {},
   "outputs": [
    {
     "name": "stdout",
     "output_type": "stream",
     "text": [
      "Linear regression result:\n",
      "Intercept with y-axis (alpha):            60724.02\n",
      "Slope of regression line (beta):          -0.246\n",
      "p-value:                                  0.0000\n",
      "R-squared (coefficient of determination): 0.4255\n"
     ]
    }
   ],
   "source": [
    "# Fit the regression model\n",
    "slope, intercept, r, p, std_err = stats.linregress(X_train, y_train)\n",
    "\n",
    "# Print results of the regression model\n",
    "print('Linear regression result:')\n",
    "print(f'Intercept with y-axis (alpha):            {intercept:.2f}')\n",
    "print(f'Slope of regression line (beta):          {slope:.3f}')\n",
    "print(f'p-value:                                  {p:.4f}')\n",
    "print(f'R-squared (coefficient of determination): {r**2:.4f}')"
   ]
  },
  {
   "cell_type": "markdown",
   "id": "473eaddb",
   "metadata": {},
   "source": [
    "### Plot regression line"
   ]
  },
  {
   "cell_type": "code",
   "execution_count": 5,
   "id": "944adc0b",
   "metadata": {},
   "outputs": [
    {
     "data": {
      "image/png": "[encoded data removed]",
      "text/plain": [
       "<Figure size 600x400 with 1 Axes>"
      ]
     },
     "metadata": {},
     "output_type": "display_data"
    }
   ],
   "source": [
    "# Function to calculate model predictions\n",
    "def myfunc(x):\n",
    "    return slope * x + intercept\n",
    "\n",
    "# Apply myfunc() to x, i.e. make predictions \n",
    "mymodel = pd.Series(map(myfunc, X_train))\n",
    "\n",
    "# Scatterplot with regression line\n",
    "plt.figure(figsize=(6,4))\n",
    "plt.scatter(X_train, y_train, s=10, color='green')\n",
    "plt.plot(X_train, mymodel, color='darkred', linestyle='dashed')\n",
    "plt.title('Simple Linear Regression')\n",
    "plt.xlabel('km')\n",
    "plt.ylabel('price (CHF)')\n",
    "\n",
    "plt.show()"
   ]
  },
  {
   "cell_type": "markdown",
   "id": "4168bf46",
   "metadata": {},
   "source": [
    "### Check model residuals (residuals = observed prices minus predicted prices)"
   ]
  },
  {
   "cell_type": "code",
   "execution_count": 6,
   "id": "c706dc0f",
   "metadata": {},
   "outputs": [
    {
     "name": "stdout",
     "output_type": "stream",
     "text": [
      "1st Predicted price in dataset: 28714.73\n",
      "1st Observed price in dataset: 22900.00\n",
      "1st Residual price in dataset: -5814.73\n"
     ]
    }
   ],
   "source": [
    "# Calculate model residuals for train data\n",
    "residuals = y_train - mymodel\n",
    "\n",
    "# Check the first residual value in our data set\n",
    "print(f'1st Predicted price in dataset: {mymodel[0]:.2f}')\n",
    "print(f'1st Observed price in dataset: {y_train[0]:.2f}')\n",
    "print(f'1st Residual price in dataset: {residuals[0]:.2f}')"
   ]
  },
  {
   "cell_type": "markdown",
   "id": "a61ae5ac",
   "metadata": {},
   "source": [
    "### Plot histogram of residuals"
   ]
  },
  {
   "cell_type": "code",
   "execution_count": 7,
   "id": "74906286",
   "metadata": {},
   "outputs": [
    {
     "data": {
      "image/png": "[encoded data removed]",
      "text/plain": [
       "<Figure size 700x400 with 1 Axes>"
      ]
     },
     "metadata": {},
     "output_type": "display_data"
    }
   ],
   "source": [
    "# Plot histogram of residuals\n",
    "fig = plt.figure( figsize=(7,4))\n",
    "n, bins, patches = plt.hist(x=residuals, \n",
    "                            bins=25, \n",
    "                            color='blue',\n",
    "                            alpha=0.5\n",
    "                   )\n",
    "\n",
    "# Set title and labels\n",
    "plt.xlabel('residuals', fontsize=10, labelpad=10)\n",
    "plt.ylabel('frequency', fontsize=10, labelpad=10)\n",
    "plt.title('Histogram of model residuals', fontsize=12, pad=10)\n",
    "\n",
    "# Show plot\n",
    "plt.show()"
   ]
  },
  {
   "cell_type": "markdown",
   "id": "b3108ba5",
   "metadata": {},
   "source": [
    "### Compare the observed prices with the predicted prices"
   ]
  },
  {
   "cell_type": "code",
   "execution_count": 8,
   "id": "36cdf7b0",
   "metadata": {},
   "outputs": [
    {
     "name": "stdout",
     "output_type": "stream",
     "text": [
      "Observed price: 26900.0, Predicted price: 14433.7\n",
      "Observed price: 36400.0, Predicted price: 38686.9\n",
      "Observed price: 9900.0, Predicted price: 27729.8\n",
      "Observed price: 74900.0, Predicted price: 47437.2\n",
      "Observed price: 89900.0, Predicted price: 53263.4\n",
      "Observed price: 56800.0, Predicted price: 41641.6\n",
      "Observed price: 69900.0, Predicted price: 41395.3\n",
      "Observed price: 28900.0, Predicted price: 44571.6\n",
      "Observed price: 54900.0, Predicted price: 47920.3\n",
      "Observed price: 28900.0, Predicted price: 48191.1\n"
     ]
    }
   ],
   "source": [
    "# Create model predictions for test data\n",
    "predicted = myfunc(X_test)\n",
    "predicted.round(1)\n",
    "\n",
    "# Compare the observed prices with the predicted prices\n",
    "for i in range(0,10):\n",
    "    print(f'Observed price: {y_test.iloc[i]:.1f}, Predicted price: {predicted.iloc[i]:.1f}')"
   ]
  },
  {
   "cell_type": "markdown",
   "id": "0bf7656b",
   "metadata": {},
   "source": [
    "## Multiple linear regression (more than one explanatory variable in the model)\n",
    "For details see: https://www.statsmodels.org/dev/examples/notebooks/generated/predict.html"
   ]
  },
  {
   "cell_type": "markdown",
   "id": "9268293c",
   "metadata": {},
   "source": [
    "### Create train and test samples (train = 80%, test = 20% of the data)"
   ]
  },
  {
   "cell_type": "code",
   "execution_count": 9,
   "id": "26c6c61e",
   "metadata": {},
   "outputs": [
    {
     "name": "stdout",
     "output_type": "stream",
     "text": [
      "X2_train:\n",
      "           km  Year\n",
      "618  130000.0  2016\n",
      "445  310043.0  2006\n",
      "868  182000.0  2012\n",
      "348   16200.0  2020\n",
      "363   81000.0  2014 \n",
      "\n",
      "y2_train:\n",
      "618    18900\n",
      "445     4900\n",
      "868    12900\n",
      "348    26900\n",
      "363    17900\n",
      "Name: price, dtype: int64\n"
     ]
    }
   ],
   "source": [
    "# Create train and test samples (we name it X2_ and y_2 because we already used X_ and y_ above)\n",
    "X2_train, X2_test, y2_train, y2_test = train_test_split(df[['km',\n",
    "                                                            'Year']], \n",
    "                                                        df['price'], \n",
    "                                                        test_size=0.20, \n",
    "                                                        random_state=42)\n",
    "\n",
    "# Show X2_train\n",
    "print('X2_train:')\n",
    "print(X2_train.head(), '\\n')\n",
    "\n",
    "# Show y2_train\n",
    "print('y2_train:')\n",
    "print(y2_train.head())"
   ]
  },
  {
   "cell_type": "markdown",
   "id": "493cef96",
   "metadata": {},
   "source": [
    "### Fit the multiple regression model"
   ]
  },
  {
   "cell_type": "code",
   "execution_count": 10,
   "id": "41939144",
   "metadata": {},
   "outputs": [
    {
     "name": "stdout",
     "output_type": "stream",
     "text": [
      "                            OLS Regression Results                            \n",
      "==============================================================================\n",
      "Dep. Variable:                  price   R-squared:                       0.448\n",
      "Model:                            OLS   Adj. R-squared:                  0.446\n",
      "Method:                 Least Squares   F-statistic:                     281.4\n",
      "Date:                Sat, 13 Jan 2024   Prob (F-statistic):           3.13e-90\n",
      "Time:                        11:31:19   Log-Likelihood:                -7896.1\n",
      "No. Observations:                 697   AIC:                         1.580e+04\n",
      "Df Residuals:                     694   BIC:                         1.581e+04\n",
      "Df Model:                           2                                         \n",
      "Covariance Type:            nonrobust                                         \n",
      "==============================================================================\n",
      "                 coef    std err          t      P>|t|      [0.025      0.975]\n",
      "------------------------------------------------------------------------------\n",
      "const      -2.081e+06   4.04e+05     -5.150      0.000   -2.88e+06   -1.29e+06\n",
      "km            -0.1860      0.016    -11.940      0.000      -0.217      -0.155\n",
      "Year        1059.3969    199.875      5.300      0.000     666.964    1451.830\n",
      "==============================================================================\n",
      "Omnibus:                      624.152   Durbin-Watson:                   1.861\n",
      "Prob(Omnibus):                  0.000   Jarque-Bera (JB):            35059.174\n",
      "Skew:                           3.713   Prob(JB):                         0.00\n",
      "Kurtosis:                      36.942   Cond. No.                     6.53e+07\n",
      "==============================================================================\n",
      "\n",
      "Notes:\n",
      "[1] Standard Errors assume that the covariance matrix of the errors is correctly specified.\n",
      "[2] The condition number is large, 6.53e+07. This might indicate that there are\n",
      "strong multicollinearity or other numerical problems.\n"
     ]
    }
   ],
   "source": [
    "# Add constant to the model\n",
    "X2_train_const = sm.add_constant(X2_train)\n",
    "\n",
    "# Create the multiple regression model\n",
    "olsmod = sm.OLS(y_train, X2_train_const)\n",
    "olsres = olsmod.fit()\n",
    "\n",
    "# Print full model output\n",
    "print(olsres.summary())"
   ]
  },
  {
   "cell_type": "markdown",
   "id": "1cb8a8c5",
   "metadata": {},
   "source": [
    "### Plot histogram of residuals"
   ]
  },
  {
   "cell_type": "code",
   "execution_count": 11,
   "id": "c28ffef9",
   "metadata": {},
   "outputs": [
    {
     "data": {
      "image/png": "[encoded data removed]",
      "text/plain": [
       "<Figure size 800x400 with 1 Axes>"
      ]
     },
     "metadata": {},
     "output_type": "display_data"
    }
   ],
   "source": [
    "# Plot histogram of residuals\n",
    "fig = plt.figure( figsize=(8,4))\n",
    "n, bins, patches = plt.hist(x=olsres.resid, \n",
    "                            bins=25, \n",
    "                            color='blue',\n",
    "                            alpha=0.5\n",
    "                   )\n",
    "\n",
    "# Set labels\n",
    "plt.xlabel('residuals', fontsize=10, labelpad=10)\n",
    "plt.ylabel('frequency', fontsize=10, labelpad=10)\n",
    "plt.title('Histogram of model residuals', fontsize=12, pad=10)\n",
    "\n",
    "plt.show()"
   ]
  },
  {
   "cell_type": "markdown",
   "id": "5dd244d9",
   "metadata": {},
   "source": [
    "### Compare the observed prices with the predicted prices"
   ]
  },
  {
   "cell_type": "code",
   "execution_count": 12,
   "id": "798fac9c",
   "metadata": {},
   "outputs": [
    {
     "name": "stdout",
     "output_type": "stream",
     "text": [
      "Observed price: 26900.0, Predicted price: 18240.6\n",
      "Observed price: 36400.0, Predicted price: 40796.2\n",
      "Observed price: 9900.0, Predicted price: 27223.5\n",
      "Observed price: 74900.0, Predicted price: 50583.3\n",
      "Observed price: 89900.0, Predicted price: 54983.7\n",
      "Observed price: 56800.0, Predicted price: 38790.2\n",
      "Observed price: 69900.0, Predicted price: 38604.2\n",
      "Observed price: 28900.0, Predicted price: 45240.8\n",
      "Observed price: 54900.0, Predicted price: 47770.0\n",
      "Observed price: 28900.0, Predicted price: 47974.6\n"
     ]
    }
   ],
   "source": [
    "# Add constant to X2_test\n",
    "X2_test_const = sm.add_constant(X2_test)\n",
    "predicted_new = olsres.predict(X2_test_const)\n",
    "\n",
    "# Compare the observed prices with the predicted prices\n",
    "for i in range(0,10):\n",
    "    print(f'Observed price: {y_test.iloc[i]:.1f}, Predicted price: {predicted_new.iloc[i]:.1f}')"
   ]
  },
  {
   "cell_type": "markdown",
   "id": "b3468eec",
   "metadata": {},
   "source": [
    "### Jupyter notebook --footer info-- (please always provide this at the end of each submitted notebook)"
   ]
  },
  {
   "cell_type": "code",
   "execution_count": 13,
   "id": "64f26a9e",
   "metadata": {},
   "outputs": [
    {
     "name": "stdout",
     "output_type": "stream",
     "text": [
      "-----------------------------------\n",
      "POSIX\n",
      "Linux | 6.2.0-1018-azure\n",
      "Datetime: 2024-01-13 11:31:19\n",
      "Python Version: 3.10.13\n",
      "-----------------------------------\n"
     ]
    }
   ],
   "source": [
    "import os\n",
    "import platform\n",
    "import socket\n",
    "from platform import python_version\n",
    "from datetime import datetime\n",
    "\n",
    "print('-----------------------------------')\n",
    "print(os.name.upper())\n",
    "print(platform.system(), '|', platform.release())\n",
    "print('Datetime:', datetime.now().strftime(\"%Y-%m-%d %H:%M:%S\"))\n",
    "print('Python Version:', python_version())\n",
    "print('-----------------------------------')"
   ]
  }
 ],
 "metadata": {
  "kernelspec": {
   "display_name": "Python 3 (ipykernel)",
   "language": "python",
   "name": "python3"
  },
  "language_info": {
   "codemirror_mode": {
    "name": "ipython",
    "version": 3
   },
   "file_extension": ".py",
   "mimetype": "text/x-python",
   "name": "python",
   "nbconvert_exporter": "python",
   "pygments_lexer": "ipython3",
   "version": "3.10.13"
  }
 },
 "nbformat": 4,
 "nbformat_minor": 5
}
