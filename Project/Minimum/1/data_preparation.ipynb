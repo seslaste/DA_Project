# Importing and preparing rental apartments data
