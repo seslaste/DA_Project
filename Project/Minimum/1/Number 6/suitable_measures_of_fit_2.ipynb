{
 "cells": [
  {
   "cell_type": "markdown",
   "id": "1e84aff8",
   "metadata": {},
   "source": [
    "# Suitable measures of fit Accuracy, Recall, Precision and RMSE"
   ]
  },
  {
   "cell_type": "markdown",
   "id": "d9ca506b",
   "metadata": {},
   "source": [
    "## Libraries and settings"
   ]
  },
  {
   "cell_type": "code",
   "execution_count": 8,
   "id": "3cc498a3",
   "metadata": {},
   "outputs": [
    {
     "name": "stdout",
     "output_type": "stream",
     "text": [
      "/workspaces/DA_Project/Project/Minimum/1/Number 6\n"
     ]
    }
   ],
   "source": [
    "# Libraries\n",
    "import os\n",
    "import pandas as pd\n",
    "from sklearn.model_selection import train_test_split\n",
    "from sklearn.ensemble import RandomForestClassifier\n",
    "from sklearn.metrics import accuracy_score, recall_score, precision_score, mean_squared_error\n",
    "import numpy as np\n",
    "import re\n",
    "\n",
    "\n",
    "\n",
    "\n",
    "# Ignore warnings\n",
    "import warnings\n",
    "warnings.filterwarnings('ignore')\n",
    "\n",
    "# Show current working directory\n",
    "print(os.getcwd())"
   ]
  },
  {
   "cell_type": "markdown",
   "id": "514d3419",
   "metadata": {},
   "source": [
    "## Import the file"
   ]
  },
  {
   "cell_type": "code",
   "execution_count": 9,
   "id": "fc8846ed",
   "metadata": {},
   "outputs": [],
   "source": [
    "# Laden der Daten\n",
    "file_path = '../bmw_data_prepared.csv' \n",
    "bmw_data = pd.read_csv(file_path)"
   ]
  },
  {
   "cell_type": "markdown",
   "id": "965eeac1",
   "metadata": {},
   "source": [
    "## Datenvorbereitung"
   ]
  },
  {
   "cell_type": "code",
   "execution_count": 10,
   "id": "c27b6259",
   "metadata": {},
   "outputs": [],
   "source": [
    "bmw_data['year'] = bmw_data['type_year_km_transmission_fuel'].apply(lambda x: re.search(r'\\d{4}', x).group())\n",
    "bmw_data['km'] = bmw_data['type_year_km_transmission_fuel'].apply(lambda x: re.search(r'(\\d+\\.?\\d*) km', x).group(1).replace('.', ''))\n",
    "bmw_data['fuel'] = bmw_data['type_year_km_transmission_fuel'].apply(lambda x: re.search(r'(Diesel|Benzin)', x).group(1))\n",
    "\n",
    "bmw_data['year'] = pd.to_numeric(bmw_data['year'])\n",
    "bmw_data['km'] = pd.to_numeric(bmw_data['km'])\n",
    "\n",
    "bmw_data = pd.get_dummies(bmw_data, columns=['fuel'], drop_first=True)"
   ]
  },
  {
   "cell_type": "markdown",
   "id": "b21e2c2f",
   "metadata": {},
   "source": [
    "## Festlegen eines Schwellenwerts für den Preis"
   ]
  },
  {
   "cell_type": "code",
   "execution_count": 11,
   "id": "cc4106a3",
   "metadata": {},
   "outputs": [],
   "source": [
    "price_threshold = bmw_data['price'].median()\n",
    "bmw_data['high_price'] = (bmw_data['price'] > price_threshold).astype(int)"
   ]
  },
  {
   "cell_type": "markdown",
   "id": "b86f5b55",
   "metadata": {},
   "source": [
    "## Auswahl der Features und des Zielwerts für die Klassifizierung"
   ]
  },
  {
   "cell_type": "code",
   "execution_count": 12,
   "id": "be692c0f",
   "metadata": {},
   "outputs": [],
   "source": [
    "X = bmw_data[['year', 'km', 'fuel_Diesel']]\n",
    "y = bmw_data['high_price']"
   ]
  },
  {
   "cell_type": "markdown",
   "id": "73e3ba88",
   "metadata": {},
   "source": [
    "## Aufteilen der Daten in Trainings- und Testsets"
   ]
  },
  {
   "cell_type": "code",
   "execution_count": 13,
   "id": "36e2b4ce",
   "metadata": {},
   "outputs": [],
   "source": [
    "X_train, X_test, y_train, y_test = train_test_split(X, y, test_size=0.2, random_state=42)"
   ]
  },
  {
   "cell_type": "markdown",
   "id": "e05a2deb",
   "metadata": {},
   "source": [
    "## Erstellen und Trainieren eines Klassifikationsmodells"
   ]
  },
  {
   "cell_type": "code",
   "execution_count": 14,
   "id": "a4b0e046",
   "metadata": {},
   "outputs": [],
   "source": [
    "classifier = RandomForestClassifier()\n",
    "classifier.fit(X_train, y_train)\n",
    "\n",
    "# Vorhersagen\n",
    "y_pred = classifier.predict(X_test)"
   ]
  },
  {
   "cell_type": "markdown",
   "id": "5fb83a4b",
   "metadata": {},
   "source": [
    "## Berechnen der Metriken"
   ]
  },
  {
   "cell_type": "code",
   "execution_count": 15,
   "id": "3c9a61b5",
   "metadata": {},
   "outputs": [
    {
     "name": "stdout",
     "output_type": "stream",
     "text": [
      "Accuracy: 1.0\n",
      "Recall: 1.0\n",
      "Precision: 1.0\n",
      "Root Mean Squared Error (RMSE): 0.0\n"
     ]
    }
   ],
   "source": [
    "accuracy = accuracy_score(y_test, y_pred)\n",
    "recall = recall_score(y_test, y_pred)\n",
    "precision = precision_score(y_test, y_pred)\n",
    "rmse = np.sqrt(mean_squared_error(y_test, y_pred))\n",
    "\n",
    "# Ausgabe der Metriken\n",
    "print(f'Accuracy: {accuracy}')\n",
    "print(f'Recall: {recall}')\n",
    "print(f'Precision: {precision}')\n",
    "print(f'Root Mean Squared Error (RMSE): {rmse}')"
   ]
  },
  {
   "cell_type": "markdown",
   "id": "b3468eec",
   "metadata": {},
   "source": [
    "### Jupyter notebook --footer info-- (please always provide this at the end of each submitted notebook)"
   ]
  },
  {
   "cell_type": "code",
   "execution_count": 16,
   "id": "64f26a9e",
   "metadata": {},
   "outputs": [
    {
     "name": "stdout",
     "output_type": "stream",
     "text": [
      "-----------------------------------\n",
      "POSIX\n",
      "Linux | 6.2.0-1018-azure\n",
      "Datetime: 2024-01-10 20:59:27\n",
      "Python Version: 3.10.13\n",
      "-----------------------------------\n"
     ]
    }
   ],
   "source": [
    "import os\n",
    "import platform\n",
    "import socket\n",
    "from platform import python_version\n",
    "from datetime import datetime\n",
    "\n",
    "print('-----------------------------------')\n",
    "print(os.name.upper())\n",
    "print(platform.system(), '|', platform.release())\n",
    "print('Datetime:', datetime.now().strftime(\"%Y-%m-%d %H:%M:%S\"))\n",
    "print('Python Version:', python_version())\n",
    "print('-----------------------------------')"
   ]
  }
 ],
 "metadata": {
  "kernelspec": {
   "display_name": "Python 3 (ipykernel)",
   "language": "python",
   "name": "python3"
  },
  "language_info": {
   "codemirror_mode": {
    "name": "ipython",
    "version": 3
   },
   "file_extension": ".py",
   "mimetype": "text/x-python",
   "name": "python",
   "nbconvert_exporter": "python",
   "pygments_lexer": "ipython3",
   "version": "3.10.13"
  }
 },
 "nbformat": 4,
 "nbformat_minor": 5
}
