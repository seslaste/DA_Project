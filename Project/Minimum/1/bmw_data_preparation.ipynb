{
 "cells": [
  {
   "cell_type": "markdown",
   "id": "3272230e",
   "metadata": {},
   "source": [
    "# Importing and preparing rental apartments data"
   ]
  },
  {
   "cell_type": "markdown",
   "id": "c0e6a164",
   "metadata": {},
   "source": [
    "## Libraries and settings"
   ]
  },
  {
   "cell_type": "code",
   "execution_count": 1,
   "id": "e3b51c23",
   "metadata": {},
   "outputs": [
    {
     "name": "stdout",
     "output_type": "stream",
     "text": [
      "/workspaces/DA_Project/Project/Minimum/1\n"
     ]
    }
   ],
   "source": [
    "# Libraries\n",
    "import os\n",
    "import re\n",
    "import time\n",
    "import fnmatch\n",
    "import numpy as np\n",
    "import pandas as pd\n",
    "\n",
    "# Ignore warnings\n",
    "import warnings\n",
    "warnings.filterwarnings(\"ignore\")\n",
    "\n",
    "# Get current working directory\n",
    "print(os.getcwd())"
   ]
  },
  {
   "cell_type": "markdown",
   "id": "2a7bff4a",
   "metadata": {},
   "source": [
    "## Importing data"
   ]
  },
  {
   "cell_type": "code",
   "execution_count": 2,
   "id": "aa8f37dd",
   "metadata": {
    "scrolled": true
   },
   "outputs": [
    {
     "name": "stdout",
     "output_type": "stream",
     "text": [
      "comparis_bmw.csv\n"
     ]
    },
    {
     "data": {
      "text/html": [
       "<div>\n",
       "<style scoped>\n",
       "    .dataframe tbody tr th:only-of-type {\n",
       "        vertical-align: middle;\n",
       "    }\n",
       "\n",
       "    .dataframe tbody tr th {\n",
       "        vertical-align: top;\n",
       "    }\n",
       "\n",
       "    .dataframe thead th {\n",
       "        text-align: right;\n",
       "    }\n",
       "</style>\n",
       "<table border=\"1\" class=\"dataframe\">\n",
       "  <thead>\n",
       "    <tr style=\"text-align: right;\">\n",
       "      <th></th>\n",
       "      <th>web-scraper-order</th>\n",
       "      <th>web-scraper-start-url</th>\n",
       "      <th>text_raw</th>\n",
       "      <th>price_raw</th>\n",
       "      <th>model_raw</th>\n",
       "      <th>type_year_km_transmission_fuel</th>\n",
       "    </tr>\n",
       "  </thead>\n",
       "  <tbody>\n",
       "    <tr>\n",
       "      <th>0</th>\n",
       "      <td>1704481912-1</td>\n",
       "      <td>https://www.comparis.ch/carfinder/marktplatz/b...</td>\n",
       "      <td>BMW 220 Gran Tourer 220d xDrive Gran Tourer St...</td>\n",
       "      <td>CHF 21'000</td>\n",
       "      <td>220d xDrive Gran Tourer Steptronic</td>\n",
       "      <td>Occasion10.2017107.000 kmAutomatDiesel1299 (VD)</td>\n",
       "    </tr>\n",
       "    <tr>\n",
       "      <th>1</th>\n",
       "      <td>1704481912-2</td>\n",
       "      <td>https://www.comparis.ch/carfinder/marktplatz/b...</td>\n",
       "      <td>BMW X5M X5M SteptronicCHF 38'500ab CHF 616 / M...</td>\n",
       "      <td>CHF 38'500</td>\n",
       "      <td>X5M Steptronic</td>\n",
       "      <td>Occasion08.2016171.000 kmAutomatBenzin8730 (SG)</td>\n",
       "    </tr>\n",
       "    <tr>\n",
       "      <th>2</th>\n",
       "      <td>1704481912-3</td>\n",
       "      <td>https://www.comparis.ch/carfinder/marktplatz/b...</td>\n",
       "      <td>BMW X3 X3 M40d Individual SteptronicCHF 44'990...</td>\n",
       "      <td>CHF 44'990</td>\n",
       "      <td>X3 M40d Individual Steptronic</td>\n",
       "      <td>Occasion12.201988.900 kmAutomatDiesel3178 (FR)</td>\n",
       "    </tr>\n",
       "    <tr>\n",
       "      <th>3</th>\n",
       "      <td>1704481912-4</td>\n",
       "      <td>https://www.comparis.ch/carfinder/marktplatz/b...</td>\n",
       "      <td>BMW X5 X5 xDrive 30d SteptronicCHF 26'500ab CH...</td>\n",
       "      <td>CHF 26'500</td>\n",
       "      <td>X5 xDrive 30d Steptronic</td>\n",
       "      <td>Occasion11.2016164.900 kmAutomatDiesel4461 (BL)</td>\n",
       "    </tr>\n",
       "    <tr>\n",
       "      <th>4</th>\n",
       "      <td>1704481912-5</td>\n",
       "      <td>https://www.comparis.ch/carfinder/marktplatz/b...</td>\n",
       "      <td>BMW 320 320i Cabriolet SteptronicCHF 16'750ab ...</td>\n",
       "      <td>CHF 16'750</td>\n",
       "      <td>320i Cabriolet Steptronic</td>\n",
       "      <td>Occasion06.201079.600 kmAutomatBenzin4461 (BL)</td>\n",
       "    </tr>\n",
       "  </tbody>\n",
       "</table>\n",
       "</div>"
      ],
      "text/plain": [
       "  web-scraper-order                              web-scraper-start-url  \\\n",
       "0      1704481912-1  https://www.comparis.ch/carfinder/marktplatz/b...   \n",
       "1      1704481912-2  https://www.comparis.ch/carfinder/marktplatz/b...   \n",
       "2      1704481912-3  https://www.comparis.ch/carfinder/marktplatz/b...   \n",
       "3      1704481912-4  https://www.comparis.ch/carfinder/marktplatz/b...   \n",
       "4      1704481912-5  https://www.comparis.ch/carfinder/marktplatz/b...   \n",
       "\n",
       "                                            text_raw   price_raw  \\\n",
       "0  BMW 220 Gran Tourer 220d xDrive Gran Tourer St...  CHF 21'000   \n",
       "1  BMW X5M X5M SteptronicCHF 38'500ab CHF 616 / M...  CHF 38'500   \n",
       "2  BMW X3 X3 M40d Individual SteptronicCHF 44'990...  CHF 44'990   \n",
       "3  BMW X5 X5 xDrive 30d SteptronicCHF 26'500ab CH...  CHF 26'500   \n",
       "4  BMW 320 320i Cabriolet SteptronicCHF 16'750ab ...  CHF 16'750   \n",
       "\n",
       "                            model_raw  \\\n",
       "0  220d xDrive Gran Tourer Steptronic   \n",
       "1                      X5M Steptronic   \n",
       "2       X3 M40d Individual Steptronic   \n",
       "3            X5 xDrive 30d Steptronic   \n",
       "4           320i Cabriolet Steptronic   \n",
       "\n",
       "                    type_year_km_transmission_fuel  \n",
       "0  Occasion10.2017107.000 kmAutomatDiesel1299 (VD)  \n",
       "1  Occasion08.2016171.000 kmAutomatBenzin8730 (SG)  \n",
       "2   Occasion12.201988.900 kmAutomatDiesel3178 (FR)  \n",
       "3  Occasion11.2016164.900 kmAutomatDiesel4461 (BL)  \n",
       "4   Occasion06.201079.600 kmAutomatBenzin4461 (BL)  "
      ]
     },
     "execution_count": 2,
     "metadata": {},
     "output_type": "execute_result"
    }
   ],
   "source": [
    "# Show .csv - files in the directory\n",
    "flist = fnmatch.filter(os.listdir('.'), '*.csv')\n",
    "for i in flist:\n",
    "    print(i)\n",
    "\n",
    "# Read the data to a pandas data frame\n",
    "df = pd.read_csv('comparis_bmw.csv', sep=',', encoding='utf-8')\n",
    "\n",
    "# Show first records of data frame\n",
    "df.head()"
   ]
  },
  {
   "cell_type": "markdown",
   "id": "b95e9f0e",
   "metadata": {},
   "source": [
    "## Count number of rows and columns in the data frame"
   ]
  },
  {
   "cell_type": "code",
   "execution_count": 3,
   "id": "ec7391ad",
   "metadata": {},
   "outputs": [
    {
     "name": "stdout",
     "output_type": "stream",
     "text": [
      "Dimension: (50, 6)\n",
      "Number of rows: 50\n",
      "Number of columns: 6\n"
     ]
    }
   ],
   "source": [
    "# Dimension (rows, columns)\n",
    "print('Dimension:', df.shape)\n",
    "\n",
    "# Number of rows\n",
    "print('Number of rows:', df.shape[0])\n",
    "\n",
    "# Number of columns\n",
    "print('Number of columns:', df.shape[1])"
   ]
  },
  {
   "cell_type": "markdown",
   "id": "ace6d22c",
   "metadata": {},
   "source": [
    "## Get data types (raw-format from web scraping)"
   ]
  },
  {
   "cell_type": "code",
   "execution_count": 4,
   "id": "dd9244a5",
   "metadata": {},
   "outputs": [
    {
     "data": {
      "text/plain": [
       "web-scraper-order                 object\n",
       "web-scraper-start-url             object\n",
       "text_raw                          object\n",
       "price_raw                         object\n",
       "model_raw                         object\n",
       "type_year_km_transmission_fuel    object\n",
       "dtype: object"
      ]
     },
     "execution_count": 4,
     "metadata": {},
     "output_type": "execute_result"
    }
   ],
   "source": [
    "# Get data types (note that in pandas, a string is referred to as 'object')\n",
    "df.dtypes"
   ]
  },
  {
   "cell_type": "markdown",
   "id": "9ea951fd",
   "metadata": {},
   "source": [
    "## Extract and save relevant information from raw data using regular expressions (regex)"
   ]
  },
  {
   "cell_type": "markdown",
   "id": "7c3be629",
   "metadata": {},
   "source": [
    "### Output type_year_km_transmission_fuel"
   ]
  },
  {
   "cell_type": "code",
   "execution_count": 5,
   "id": "090ef7a8",
   "metadata": {},
   "outputs": [
    {
     "name": "stdout",
     "output_type": "stream",
     "text": [
      "0    Occasion10.2017107.000 kmAutomatDiesel1299 (VD)\n",
      "1    Occasion08.2016171.000 kmAutomatBenzin8730 (SG)\n",
      "2     Occasion12.201988.900 kmAutomatDiesel3178 (FR)\n",
      "3    Occasion11.2016164.900 kmAutomatDiesel4461 (BL)\n",
      "4     Occasion06.201079.600 kmAutomatBenzin4461 (BL)\n",
      "Name: type_year_km_transmission_fuel, dtype: object \n",
      "\n"
     ]
    }
   ],
   "source": [
    "print(df['type_year_km_transmission_fuel'].head(5), '\\n')"
   ]
  },
  {
   "cell_type": "markdown",
   "id": "e8c4e3e2",
   "metadata": {},
   "source": [
    "## Extract and save relevant information from raw data using regular expressions (regex)"
   ]
  },
  {
   "cell_type": "markdown",
   "id": "bc6f9b0e",
   "metadata": {},
   "source": [
    "### Extract Location"
   ]
  },
  {
   "cell_type": "code",
   "execution_count": 6,
   "id": "37d31afe",
   "metadata": {},
   "outputs": [
    {
     "name": "stdout",
     "output_type": "stream",
     "text": [
      "0    Occasion10.2017107.000 kmAutomatDiesel1299 (VD)\n",
      "1    Occasion08.2016171.000 kmAutomatBenzin8730 (SG)\n",
      "2     Occasion12.201988.900 kmAutomatDiesel3178 (FR)\n",
      "3    Occasion11.2016164.900 kmAutomatDiesel4461 (BL)\n",
      "4     Occasion06.201079.600 kmAutomatBenzin4461 (BL)\n",
      "Name: type_year_km_transmission_fuel, dtype: object \n",
      "\n",
      "0    VD\n",
      "1    SG\n",
      "2    FR\n",
      "3    BL\n",
      "4    BL\n",
      "Name: Location, dtype: object\n"
     ]
    }
   ],
   "source": [
    "# Extrahiere Location\n",
    "Location = []\n",
    "for item in df['type_year_km_transmission_fuel']:\n",
    "    location = re.findall(r'\\((.*?)\\)', item)\n",
    "    try:\n",
    "        Location.append(location[0])\n",
    "    except:\n",
    "        Location.append(None)\n",
    "\n",
    "# Füge Location als neue Spalte hinzu\n",
    "df['Location'] = pd.Series(Location, dtype='str')\n",
    "\n",
    "# Zeige die ersten 5 Werte \n",
    "print(df['type_year_km_transmission_fuel'].head(5), '\\n')\n",
    "print(df['Location'].head(5))"
   ]
  },
  {
   "cell_type": "markdown",
   "id": "8bbe8192",
   "metadata": {},
   "source": [
    "### Extract PLZ"
   ]
  },
  {
   "cell_type": "code",
   "execution_count": 7,
   "id": "8df3d52b",
   "metadata": {},
   "outputs": [
    {
     "name": "stdout",
     "output_type": "stream",
     "text": [
      "0    Occasion10.2017107.000 kmAutomatDiesel1299 (VD)\n",
      "1    Occasion08.2016171.000 kmAutomatBenzin8730 (SG)\n",
      "2     Occasion12.201988.900 kmAutomatDiesel3178 (FR)\n",
      "3    Occasion11.2016164.900 kmAutomatDiesel4461 (BL)\n",
      "4     Occasion06.201079.600 kmAutomatBenzin4461 (BL)\n",
      "Name: type_year_km_transmission_fuel, dtype: object \n",
      "\n",
      "0    1299\n",
      "1    8730\n",
      "2    3178\n",
      "3    4461\n",
      "4    4461\n",
      "Name: PLZ, dtype: Int64\n"
     ]
    }
   ],
   "source": [
    "# Extrahiere PLZ\n",
    "PLZ = []\n",
    "for item in df['type_year_km_transmission_fuel']:\n",
    "    plz = re.search(r'(\\d{4}) \\(([^)]+)\\)', item)\n",
    "    if plz:\n",
    "        PLZ.append(plz.group(1))\n",
    "    else:\n",
    "        PLZ.append(None)\n",
    "\n",
    "# Füge PLZ als neue Spalte hinzu\n",
    "df['PLZ'] = pd.Series(PLZ, dtype=\"Int64\")\n",
    "\n",
    "# Zeige die ersten 5 Werte\n",
    "print(df['type_year_km_transmission_fuel'].head(5), '\\n')\n",
    "print(df['PLZ'].head(5))"
   ]
  },
  {
   "cell_type": "markdown",
   "id": "34aa8785",
   "metadata": {},
   "source": [
    "### Extract km"
   ]
  },
  {
   "cell_type": "code",
   "execution_count": 8,
   "id": "2cdcab4e",
   "metadata": {},
   "outputs": [
    {
     "name": "stdout",
     "output_type": "stream",
     "text": [
      "0    Occasion10.2017107.000 kmAutomatDiesel1299 (VD)\n",
      "1    Occasion08.2016171.000 kmAutomatBenzin8730 (SG)\n",
      "2     Occasion12.201988.900 kmAutomatDiesel3178 (FR)\n",
      "3    Occasion11.2016164.900 kmAutomatDiesel4461 (BL)\n",
      "4     Occasion06.201079.600 kmAutomatBenzin4461 (BL)\n",
      "Name: type_year_km_transmission_fuel, dtype: object \n",
      "\n",
      "0    107.000\n",
      "1    171.000\n",
      "2     88.900\n",
      "3    164.900\n",
      "4     79.600\n",
      "Name: km_raw, dtype: object\n"
     ]
    }
   ],
   "source": [
    "# Extrahiere km\n",
    "KM = []\n",
    "for item in df['type_year_km_transmission_fuel']:\n",
    "    km_raw = re.search(r'.\\d{4}(\\d+\\.\\d+)', item)\n",
    "    if km_raw:\n",
    "        KM.append(km_raw.group(1))\n",
    "    else:\n",
    "        KM.append(None)\n",
    "\n",
    "# Füge Year als neue Spalte hinzu\n",
    "df['km_raw'] = pd.Series(KM, dtype=\"object\")\n",
    "\n",
    "# Zeige die ersten 5 Werte\n",
    "print(df['type_year_km_transmission_fuel'].head(5), '\\n')\n",
    "print(df['km_raw'].head(5))"
   ]
  },
  {
   "cell_type": "markdown",
   "id": "65b229a4",
   "metadata": {},
   "source": [
    "### Extract year"
   ]
  },
  {
   "cell_type": "code",
   "execution_count": 9,
   "id": "3ed1d18a",
   "metadata": {},
   "outputs": [
    {
     "name": "stdout",
     "output_type": "stream",
     "text": [
      "0    Occasion10.2017107.000 kmAutomatDiesel1299 (VD)\n",
      "1    Occasion08.2016171.000 kmAutomatBenzin8730 (SG)\n",
      "2     Occasion12.201988.900 kmAutomatDiesel3178 (FR)\n",
      "3    Occasion11.2016164.900 kmAutomatDiesel4461 (BL)\n",
      "4     Occasion06.201079.600 kmAutomatBenzin4461 (BL)\n",
      "Name: type_year_km_transmission_fuel, dtype: object \n",
      "\n",
      "0    2017\n",
      "1    2016\n",
      "2    2019\n",
      "3    2016\n",
      "4    2010\n",
      "Name: Year, dtype: Int64\n"
     ]
    }
   ],
   "source": [
    "# Extrahiere year\n",
    "YEAR = []\n",
    "for item in df['type_year_km_transmission_fuel']:\n",
    "    year = re.search(r'.(\\d{4})', item)\n",
    "    if year:\n",
    "        YEAR.append(year.group(1))\n",
    "    else:\n",
    "        YEAR.append(None)\n",
    "\n",
    "# Füge Year als neue Spalte hinzu\n",
    "df['Year'] = pd.Series(YEAR, dtype=\"Int64\")\n",
    "\n",
    "# Zeige die ersten 5 Werte\n",
    "print(df['type_year_km_transmission_fuel'].head(5), '\\n')\n",
    "print(df['Year'].head(5))"
   ]
  },
  {
   "cell_type": "markdown",
   "id": "abdb8659",
   "metadata": {},
   "source": [
    "### Extraction of all Information"
   ]
  },
  {
   "cell_type": "code",
   "execution_count": 10,
   "id": "a773d87a",
   "metadata": {},
   "outputs": [
    {
     "name": "stdout",
     "output_type": "stream",
     "text": [
      "       Type     Year  Kilometers Transmission    Fuel   PLZ Location\n",
      "0  Occasion  10.2017  107.000 km      Automat  Diesel  1299       VD\n",
      "1  Occasion  08.2016  171.000 km      Automat  Benzin  8730       SG\n",
      "2  Occasion  12.2019   88.900 km      Automat  Diesel  3178       FR\n",
      "3  Occasion  11.2016  164.900 km      Automat  Diesel  4461       BL\n",
      "4  Occasion  06.2010   79.600 km      Automat  Benzin  4461       BL\n"
     ]
    }
   ],
   "source": [
    "# Extrahieren von Typ, Jahr, Kilometerstand, Getriebeart, Treibstofftyp, Postleitzahl und Location\n",
    "extracted = df['type_year_km_transmission_fuel'].str.extract(r'(\\w+)(\\d{2}.\\d{4})(\\d+\\.\\d+ km)([A-Z]\\w+)([A-Z]\\w+)(\\d{4}) \\(([^)]+)\\)')\n",
    "extracted.columns = ['Type', 'Year', 'Kilometers', 'Transmission', 'Fuel', 'PLZ', 'Location']\n",
    "\n",
    "# Ausgabe der ersten 5 extrahierten Datensätze\n",
    "print(extracted.head())"
   ]
  },
  {
   "cell_type": "markdown",
   "id": "328e7c20",
   "metadata": {},
   "source": [
    "### Output price_raw"
   ]
  },
  {
   "cell_type": "code",
   "execution_count": 11,
   "id": "3cc43c29",
   "metadata": {},
   "outputs": [
    {
     "name": "stdout",
     "output_type": "stream",
     "text": [
      "0    CHF 21'000\n",
      "1    CHF 38'500\n",
      "2    CHF 44'990\n",
      "3    CHF 26'500\n",
      "4    CHF 16'750\n",
      "Name: price_raw, dtype: object \n",
      "\n"
     ]
    }
   ],
   "source": [
    "print(df['price_raw'].head(5), '\\n')"
   ]
  },
  {
   "cell_type": "code",
   "execution_count": 12,
   "id": "05e068d7",
   "metadata": {},
   "outputs": [
    {
     "name": "stdout",
     "output_type": "stream",
     "text": [
      "0    CHF 21'000\n",
      "1    CHF 38'500\n",
      "2    CHF 44'990\n",
      "3    CHF 26'500\n",
      "4    CHF 16'750\n",
      "Name: price_raw, dtype: object \n",
      "\n",
      "0    21000\n",
      "1    38500\n",
      "2    44990\n",
      "3    26500\n",
      "4    16750\n",
      "Name: price, dtype: Int64\n"
     ]
    }
   ],
   "source": [
    "# Verwende str.extract(), um Zahlen aus der 'price_raw'-Spalte zu extrahieren\n",
    "df['price'] = df['price_raw'].str.extract(r\"(\\d+['\\d+]*)\", expand=False)\n",
    "df['price'] = df['price'].str.replace(\"'\", \"\").astype('Int64')  # Entferne Apostrophe und ändere den Datentyp in 'Int64'\n",
    "\n",
    "# Gib die ersten 5 Werte der 'price_raw'- und 'price'-Spalten aus\n",
    "print(df['price_raw'].head(5), '\\n')\n",
    "print(df['price'].head(5))"
   ]
  },
  {
   "cell_type": "markdown",
   "id": "a24c824c",
   "metadata": {},
   "source": [
    "### Output km_raw"
   ]
  },
  {
   "cell_type": "code",
   "execution_count": 13,
   "metadata": {},
   "outputs": [
    {
     "name": "stdout",
     "output_type": "stream",
     "text": [
      "0    107.000\n",
      "1    171.000\n",
      "2     88.900\n",
      "3    164.900\n",
      "4     79.600\n",
      "Name: km_raw, dtype: object \n",
      "\n"
     ]
    }
   ],
   "source": [
    "print(df['km_raw'].head(5), '\\n')"
   ]
  },
  {
   "cell_type": "code",
   "execution_count": 14,
   "metadata": {},
   "outputs": [
    {
     "name": "stdout",
     "output_type": "stream",
     "text": [
      "0    107.000\n",
      "1    171.000\n",
      "2     88.900\n",
      "3    164.900\n",
      "4     79.600\n",
      "Name: km_raw, dtype: object \n",
      "\n",
      "0    107000\n",
      "1    171000\n",
      "2     88900\n",
      "3    164900\n",
      "4     79600\n",
      "Name: km, dtype: Int64\n"
     ]
    }
   ],
   "source": [
    "# Verwende str.extract(), um Zahlen aus der 'km'-Spalte zu extrahieren\n",
    "df['km'] = df['km_raw'].str.extract(r\"(\\d+\\.\\d+)\", expand=False)\n",
    "df['km'] = df['km_raw'].str.replace(\".\", \"\").astype('Int64')  # Entferne Apostrophe und ändere den Datentyp in 'Int64'\n",
    "\n",
    "# Gib die ersten 5 Werte der 'km'- und 'km'-Spalten aus\n",
    "print(df['km_raw'].head(5), '\\n')\n",
    "print(df['km'].head(5))"
   ]
  },
  {
   "cell_type": "markdown",
   "id": "1eec753f",
   "metadata": {},
   "source": [
    "### Get data types of all variables including the new ones"
   ]
  },
  {
   "cell_type": "code",
   "execution_count": 15,
   "id": "add08f2e",
   "metadata": {},
   "outputs": [
    {
     "data": {
      "text/plain": [
       "web-scraper-order                 object\n",
       "web-scraper-start-url             object\n",
       "text_raw                          object\n",
       "price_raw                         object\n",
       "model_raw                         object\n",
       "type_year_km_transmission_fuel    object\n",
       "Location                          object\n",
       "PLZ                                Int64\n",
       "km_raw                            object\n",
       "Year                               Int64\n",
       "price                              Int64\n",
       "km                                 Int64\n",
       "dtype: object"
      ]
     },
     "execution_count": 15,
     "metadata": {},
     "output_type": "execute_result"
    }
   ],
   "source": [
    "df.dtypes"
   ]
  },
  {
   "cell_type": "markdown",
   "id": "d35207c1",
   "metadata": {},
   "source": [
    "## Create additional variables"
   ]
  },
  {
   "cell_type": "markdown",
   "id": "90c99140",
   "metadata": {},
   "source": [
    "### Change string 'text_raw' to uppercase "
   ]
  },
  {
   "cell_type": "code",
   "execution_count": 16,
   "id": "5a79532f",
   "metadata": {},
   "outputs": [
    {
     "name": "stdout",
     "output_type": "stream",
     "text": [
      "0    BMW 220 GRAN TOURER 220D XDRIVE GRAN TOURER ST...\n",
      "1    BMW X5M X5M STEPTRONICCHF 38'500AB CHF 616 / M...\n",
      "2    BMW X3 X3 M40D INDIVIDUAL STEPTRONICCHF 44'990...\n",
      "3    BMW X5 X5 XDRIVE 30D STEPTRONICCHF 26'500AB CH...\n",
      "4    BMW 320 320I CABRIOLET STEPTRONICCHF 16'750AB ...\n",
      "5    BMW 525 525D TOURING XDRIVE LUXURY LINE STEPTR...\n",
      "6    BMW X1 X1 XDRIVE 25D XLINE STEPTRONICCHF 24'90...\n",
      "7    BMW X5 X5 XDRIVE 30D (3.0D) STEPTRONICCHF 8'90...\n",
      "8    BMW M4 M4 CABRIOLET DRIVELOGIC M COMPETITIONCH...\n",
      "9    BMW M135 M135I XDRIVE STEPTRONICCHF 36'990AB C...\n",
      "Name: text_raw, dtype: object\n"
     ]
    }
   ],
   "source": [
    "# Change strings to uppercase\n",
    "\n",
    "df['text_raw'] = df['text_raw'].str.upper()\n",
    "print(df['text_raw'].head(10))"
   ]
  },
  {
   "cell_type": "code",
   "execution_count": 17,
   "id": "08fcea3b",
   "metadata": {},
   "outputs": [
    {
     "name": "stdout",
     "output_type": "stream",
     "text": [
      "BMW 220 GRAN TOURER 220D XDRIVE GRAN TOURER STEPTRONICCHF 21'000AB CHF 336 / MONAT4.5 / 6OCCASION10.2017107.000 KMAUTOMATDIESEL1299 (VD)PREISCHF 21'000FINANZIERUNGAB CHF 336 / MONAT4.5 / 6ANFRAGEN MERKENDETAILS\n"
     ]
    }
   ],
   "source": [
    "# Show first item of variable 'text_raw'\n",
    "print(df['text_raw'][0])"
   ]
  },
  {
   "cell_type": "markdown",
   "id": "6f265fd9",
   "metadata": {},
   "source": [
    "### Create new binary variables (0/1) luxury, competition, xDrive, automat"
   ]
  },
  {
   "cell_type": "code",
   "execution_count": 18,
   "id": "55134fec",
   "metadata": {},
   "outputs": [
    {
     "name": "stdout",
     "output_type": "stream",
     "text": [
      "5\n",
      "5\n",
      "30\n",
      "50\n"
     ]
    },
    {
     "data": {
      "text/html": [
       "<div>\n",
       "<style scoped>\n",
       "    .dataframe tbody tr th:only-of-type {\n",
       "        vertical-align: middle;\n",
       "    }\n",
       "\n",
       "    .dataframe tbody tr th {\n",
       "        vertical-align: top;\n",
       "    }\n",
       "\n",
       "    .dataframe thead th {\n",
       "        text-align: right;\n",
       "    }\n",
       "</style>\n",
       "<table border=\"1\" class=\"dataframe\">\n",
       "  <thead>\n",
       "    <tr style=\"text-align: right;\">\n",
       "      <th></th>\n",
       "      <th>text_raw</th>\n",
       "      <th>luxury</th>\n",
       "      <th>competition</th>\n",
       "      <th>xDrive</th>\n",
       "      <th>automat</th>\n",
       "    </tr>\n",
       "  </thead>\n",
       "  <tbody>\n",
       "    <tr>\n",
       "      <th>0</th>\n",
       "      <td>BMW 220 GRAN TOURER 220D XDRIVE GRAN TOURER ST...</td>\n",
       "      <td>0</td>\n",
       "      <td>0</td>\n",
       "      <td>1</td>\n",
       "      <td>1</td>\n",
       "    </tr>\n",
       "    <tr>\n",
       "      <th>1</th>\n",
       "      <td>BMW X5M X5M STEPTRONICCHF 38'500AB CHF 616 / M...</td>\n",
       "      <td>0</td>\n",
       "      <td>0</td>\n",
       "      <td>0</td>\n",
       "      <td>1</td>\n",
       "    </tr>\n",
       "    <tr>\n",
       "      <th>2</th>\n",
       "      <td>BMW X3 X3 M40D INDIVIDUAL STEPTRONICCHF 44'990...</td>\n",
       "      <td>0</td>\n",
       "      <td>0</td>\n",
       "      <td>0</td>\n",
       "      <td>1</td>\n",
       "    </tr>\n",
       "    <tr>\n",
       "      <th>3</th>\n",
       "      <td>BMW X5 X5 XDRIVE 30D STEPTRONICCHF 26'500AB CH...</td>\n",
       "      <td>0</td>\n",
       "      <td>0</td>\n",
       "      <td>1</td>\n",
       "      <td>1</td>\n",
       "    </tr>\n",
       "    <tr>\n",
       "      <th>4</th>\n",
       "      <td>BMW 320 320I CABRIOLET STEPTRONICCHF 16'750AB ...</td>\n",
       "      <td>0</td>\n",
       "      <td>0</td>\n",
       "      <td>0</td>\n",
       "      <td>1</td>\n",
       "    </tr>\n",
       "    <tr>\n",
       "      <th>5</th>\n",
       "      <td>BMW 525 525D TOURING XDRIVE LUXURY LINE STEPTR...</td>\n",
       "      <td>1</td>\n",
       "      <td>0</td>\n",
       "      <td>1</td>\n",
       "      <td>1</td>\n",
       "    </tr>\n",
       "    <tr>\n",
       "      <th>6</th>\n",
       "      <td>BMW X1 X1 XDRIVE 25D XLINE STEPTRONICCHF 24'90...</td>\n",
       "      <td>0</td>\n",
       "      <td>0</td>\n",
       "      <td>1</td>\n",
       "      <td>1</td>\n",
       "    </tr>\n",
       "    <tr>\n",
       "      <th>7</th>\n",
       "      <td>BMW X5 X5 XDRIVE 30D (3.0D) STEPTRONICCHF 8'90...</td>\n",
       "      <td>0</td>\n",
       "      <td>0</td>\n",
       "      <td>1</td>\n",
       "      <td>1</td>\n",
       "    </tr>\n",
       "    <tr>\n",
       "      <th>8</th>\n",
       "      <td>BMW M4 M4 CABRIOLET DRIVELOGIC M COMPETITIONCH...</td>\n",
       "      <td>0</td>\n",
       "      <td>1</td>\n",
       "      <td>0</td>\n",
       "      <td>1</td>\n",
       "    </tr>\n",
       "    <tr>\n",
       "      <th>9</th>\n",
       "      <td>BMW M135 M135I XDRIVE STEPTRONICCHF 36'990AB C...</td>\n",
       "      <td>0</td>\n",
       "      <td>0</td>\n",
       "      <td>1</td>\n",
       "      <td>1</td>\n",
       "    </tr>\n",
       "    <tr>\n",
       "      <th>10</th>\n",
       "      <td>BMW 220 GRAN TOURER 220D XDRIVE GRAN TOURER ST...</td>\n",
       "      <td>0</td>\n",
       "      <td>0</td>\n",
       "      <td>1</td>\n",
       "      <td>1</td>\n",
       "    </tr>\n",
       "    <tr>\n",
       "      <th>11</th>\n",
       "      <td>BMW X5M X5M STEPTRONICCHF 38'500AB CHF 616 / M...</td>\n",
       "      <td>0</td>\n",
       "      <td>0</td>\n",
       "      <td>0</td>\n",
       "      <td>1</td>\n",
       "    </tr>\n",
       "    <tr>\n",
       "      <th>12</th>\n",
       "      <td>BMW X3 X3 M40D INDIVIDUAL STEPTRONICCHF 44'990...</td>\n",
       "      <td>0</td>\n",
       "      <td>0</td>\n",
       "      <td>0</td>\n",
       "      <td>1</td>\n",
       "    </tr>\n",
       "    <tr>\n",
       "      <th>13</th>\n",
       "      <td>BMW X5 X5 XDRIVE 30D STEPTRONICCHF 26'500AB CH...</td>\n",
       "      <td>0</td>\n",
       "      <td>0</td>\n",
       "      <td>1</td>\n",
       "      <td>1</td>\n",
       "    </tr>\n",
       "    <tr>\n",
       "      <th>14</th>\n",
       "      <td>BMW 320 320I CABRIOLET STEPTRONICCHF 16'750AB ...</td>\n",
       "      <td>0</td>\n",
       "      <td>0</td>\n",
       "      <td>0</td>\n",
       "      <td>1</td>\n",
       "    </tr>\n",
       "    <tr>\n",
       "      <th>15</th>\n",
       "      <td>BMW 525 525D TOURING XDRIVE LUXURY LINE STEPTR...</td>\n",
       "      <td>1</td>\n",
       "      <td>0</td>\n",
       "      <td>1</td>\n",
       "      <td>1</td>\n",
       "    </tr>\n",
       "    <tr>\n",
       "      <th>16</th>\n",
       "      <td>BMW X1 X1 XDRIVE 25D XLINE STEPTRONICCHF 24'90...</td>\n",
       "      <td>0</td>\n",
       "      <td>0</td>\n",
       "      <td>1</td>\n",
       "      <td>1</td>\n",
       "    </tr>\n",
       "    <tr>\n",
       "      <th>17</th>\n",
       "      <td>BMW X5 X5 XDRIVE 30D (3.0D) STEPTRONICCHF 8'90...</td>\n",
       "      <td>0</td>\n",
       "      <td>0</td>\n",
       "      <td>1</td>\n",
       "      <td>1</td>\n",
       "    </tr>\n",
       "    <tr>\n",
       "      <th>18</th>\n",
       "      <td>BMW M4 M4 CABRIOLET DRIVELOGIC M COMPETITIONCH...</td>\n",
       "      <td>0</td>\n",
       "      <td>1</td>\n",
       "      <td>0</td>\n",
       "      <td>1</td>\n",
       "    </tr>\n",
       "    <tr>\n",
       "      <th>19</th>\n",
       "      <td>BMW M135 M135I XDRIVE STEPTRONICCHF 36'990AB C...</td>\n",
       "      <td>0</td>\n",
       "      <td>0</td>\n",
       "      <td>1</td>\n",
       "      <td>1</td>\n",
       "    </tr>\n",
       "    <tr>\n",
       "      <th>20</th>\n",
       "      <td>BMW 220 GRAN TOURER 220D XDRIVE GRAN TOURER ST...</td>\n",
       "      <td>0</td>\n",
       "      <td>0</td>\n",
       "      <td>1</td>\n",
       "      <td>1</td>\n",
       "    </tr>\n",
       "    <tr>\n",
       "      <th>21</th>\n",
       "      <td>BMW X5M X5M STEPTRONICCHF 38'500AB CHF 616 / M...</td>\n",
       "      <td>0</td>\n",
       "      <td>0</td>\n",
       "      <td>0</td>\n",
       "      <td>1</td>\n",
       "    </tr>\n",
       "    <tr>\n",
       "      <th>22</th>\n",
       "      <td>BMW X3 X3 M40D INDIVIDUAL STEPTRONICCHF 44'990...</td>\n",
       "      <td>0</td>\n",
       "      <td>0</td>\n",
       "      <td>0</td>\n",
       "      <td>1</td>\n",
       "    </tr>\n",
       "    <tr>\n",
       "      <th>23</th>\n",
       "      <td>BMW X5 X5 XDRIVE 30D STEPTRONICCHF 26'500AB CH...</td>\n",
       "      <td>0</td>\n",
       "      <td>0</td>\n",
       "      <td>1</td>\n",
       "      <td>1</td>\n",
       "    </tr>\n",
       "    <tr>\n",
       "      <th>24</th>\n",
       "      <td>BMW 320 320I CABRIOLET STEPTRONICCHF 16'750AB ...</td>\n",
       "      <td>0</td>\n",
       "      <td>0</td>\n",
       "      <td>0</td>\n",
       "      <td>1</td>\n",
       "    </tr>\n",
       "    <tr>\n",
       "      <th>25</th>\n",
       "      <td>BMW 525 525D TOURING XDRIVE LUXURY LINE STEPTR...</td>\n",
       "      <td>1</td>\n",
       "      <td>0</td>\n",
       "      <td>1</td>\n",
       "      <td>1</td>\n",
       "    </tr>\n",
       "    <tr>\n",
       "      <th>26</th>\n",
       "      <td>BMW X1 X1 XDRIVE 25D XLINE STEPTRONICCHF 24'90...</td>\n",
       "      <td>0</td>\n",
       "      <td>0</td>\n",
       "      <td>1</td>\n",
       "      <td>1</td>\n",
       "    </tr>\n",
       "    <tr>\n",
       "      <th>27</th>\n",
       "      <td>BMW X5 X5 XDRIVE 30D (3.0D) STEPTRONICCHF 8'90...</td>\n",
       "      <td>0</td>\n",
       "      <td>0</td>\n",
       "      <td>1</td>\n",
       "      <td>1</td>\n",
       "    </tr>\n",
       "    <tr>\n",
       "      <th>28</th>\n",
       "      <td>BMW M4 M4 CABRIOLET DRIVELOGIC M COMPETITIONCH...</td>\n",
       "      <td>0</td>\n",
       "      <td>1</td>\n",
       "      <td>0</td>\n",
       "      <td>1</td>\n",
       "    </tr>\n",
       "    <tr>\n",
       "      <th>29</th>\n",
       "      <td>BMW M135 M135I XDRIVE STEPTRONICCHF 36'990AB C...</td>\n",
       "      <td>0</td>\n",
       "      <td>0</td>\n",
       "      <td>1</td>\n",
       "      <td>1</td>\n",
       "    </tr>\n",
       "    <tr>\n",
       "      <th>30</th>\n",
       "      <td>BMW 220 GRAN TOURER 220D XDRIVE GRAN TOURER ST...</td>\n",
       "      <td>0</td>\n",
       "      <td>0</td>\n",
       "      <td>1</td>\n",
       "      <td>1</td>\n",
       "    </tr>\n",
       "    <tr>\n",
       "      <th>31</th>\n",
       "      <td>BMW X5M X5M STEPTRONICCHF 38'500AB CHF 616 / M...</td>\n",
       "      <td>0</td>\n",
       "      <td>0</td>\n",
       "      <td>0</td>\n",
       "      <td>1</td>\n",
       "    </tr>\n",
       "    <tr>\n",
       "      <th>32</th>\n",
       "      <td>BMW X3 X3 M40D INDIVIDUAL STEPTRONICCHF 44'990...</td>\n",
       "      <td>0</td>\n",
       "      <td>0</td>\n",
       "      <td>0</td>\n",
       "      <td>1</td>\n",
       "    </tr>\n",
       "    <tr>\n",
       "      <th>33</th>\n",
       "      <td>BMW X5 X5 XDRIVE 30D STEPTRONICCHF 26'500AB CH...</td>\n",
       "      <td>0</td>\n",
       "      <td>0</td>\n",
       "      <td>1</td>\n",
       "      <td>1</td>\n",
       "    </tr>\n",
       "    <tr>\n",
       "      <th>34</th>\n",
       "      <td>BMW 320 320I CABRIOLET STEPTRONICCHF 16'750AB ...</td>\n",
       "      <td>0</td>\n",
       "      <td>0</td>\n",
       "      <td>0</td>\n",
       "      <td>1</td>\n",
       "    </tr>\n",
       "    <tr>\n",
       "      <th>35</th>\n",
       "      <td>BMW 525 525D TOURING XDRIVE LUXURY LINE STEPTR...</td>\n",
       "      <td>1</td>\n",
       "      <td>0</td>\n",
       "      <td>1</td>\n",
       "      <td>1</td>\n",
       "    </tr>\n",
       "    <tr>\n",
       "      <th>36</th>\n",
       "      <td>BMW X1 X1 XDRIVE 25D XLINE STEPTRONICCHF 24'90...</td>\n",
       "      <td>0</td>\n",
       "      <td>0</td>\n",
       "      <td>1</td>\n",
       "      <td>1</td>\n",
       "    </tr>\n",
       "    <tr>\n",
       "      <th>37</th>\n",
       "      <td>BMW X5 X5 XDRIVE 30D (3.0D) STEPTRONICCHF 8'90...</td>\n",
       "      <td>0</td>\n",
       "      <td>0</td>\n",
       "      <td>1</td>\n",
       "      <td>1</td>\n",
       "    </tr>\n",
       "    <tr>\n",
       "      <th>38</th>\n",
       "      <td>BMW M4 M4 CABRIOLET DRIVELOGIC M COMPETITIONCH...</td>\n",
       "      <td>0</td>\n",
       "      <td>1</td>\n",
       "      <td>0</td>\n",
       "      <td>1</td>\n",
       "    </tr>\n",
       "    <tr>\n",
       "      <th>39</th>\n",
       "      <td>BMW M135 M135I XDRIVE STEPTRONICCHF 36'990AB C...</td>\n",
       "      <td>0</td>\n",
       "      <td>0</td>\n",
       "      <td>1</td>\n",
       "      <td>1</td>\n",
       "    </tr>\n",
       "    <tr>\n",
       "      <th>40</th>\n",
       "      <td>BMW 220 GRAN TOURER 220D XDRIVE GRAN TOURER ST...</td>\n",
       "      <td>0</td>\n",
       "      <td>0</td>\n",
       "      <td>1</td>\n",
       "      <td>1</td>\n",
       "    </tr>\n",
       "    <tr>\n",
       "      <th>41</th>\n",
       "      <td>BMW X5M X5M STEPTRONICCHF 38'500AB CHF 616 / M...</td>\n",
       "      <td>0</td>\n",
       "      <td>0</td>\n",
       "      <td>0</td>\n",
       "      <td>1</td>\n",
       "    </tr>\n",
       "    <tr>\n",
       "      <th>42</th>\n",
       "      <td>BMW X3 X3 M40D INDIVIDUAL STEPTRONICCHF 44'990...</td>\n",
       "      <td>0</td>\n",
       "      <td>0</td>\n",
       "      <td>0</td>\n",
       "      <td>1</td>\n",
       "    </tr>\n",
       "    <tr>\n",
       "      <th>43</th>\n",
       "      <td>BMW X5 X5 XDRIVE 30D STEPTRONICCHF 26'500AB CH...</td>\n",
       "      <td>0</td>\n",
       "      <td>0</td>\n",
       "      <td>1</td>\n",
       "      <td>1</td>\n",
       "    </tr>\n",
       "    <tr>\n",
       "      <th>44</th>\n",
       "      <td>BMW 320 320I CABRIOLET STEPTRONICCHF 16'750AB ...</td>\n",
       "      <td>0</td>\n",
       "      <td>0</td>\n",
       "      <td>0</td>\n",
       "      <td>1</td>\n",
       "    </tr>\n",
       "    <tr>\n",
       "      <th>45</th>\n",
       "      <td>BMW 525 525D TOURING XDRIVE LUXURY LINE STEPTR...</td>\n",
       "      <td>1</td>\n",
       "      <td>0</td>\n",
       "      <td>1</td>\n",
       "      <td>1</td>\n",
       "    </tr>\n",
       "    <tr>\n",
       "      <th>46</th>\n",
       "      <td>BMW X1 X1 XDRIVE 25D XLINE STEPTRONICCHF 24'90...</td>\n",
       "      <td>0</td>\n",
       "      <td>0</td>\n",
       "      <td>1</td>\n",
       "      <td>1</td>\n",
       "    </tr>\n",
       "    <tr>\n",
       "      <th>47</th>\n",
       "      <td>BMW X5 X5 XDRIVE 30D (3.0D) STEPTRONICCHF 8'90...</td>\n",
       "      <td>0</td>\n",
       "      <td>0</td>\n",
       "      <td>1</td>\n",
       "      <td>1</td>\n",
       "    </tr>\n",
       "    <tr>\n",
       "      <th>48</th>\n",
       "      <td>BMW M4 M4 CABRIOLET DRIVELOGIC M COMPETITIONCH...</td>\n",
       "      <td>0</td>\n",
       "      <td>1</td>\n",
       "      <td>0</td>\n",
       "      <td>1</td>\n",
       "    </tr>\n",
       "    <tr>\n",
       "      <th>49</th>\n",
       "      <td>BMW M135 M135I XDRIVE STEPTRONICCHF 36'990AB C...</td>\n",
       "      <td>0</td>\n",
       "      <td>0</td>\n",
       "      <td>1</td>\n",
       "      <td>1</td>\n",
       "    </tr>\n",
       "  </tbody>\n",
       "</table>\n",
       "</div>"
      ],
      "text/plain": [
       "                                             text_raw  luxury  competition  \\\n",
       "0   BMW 220 GRAN TOURER 220D XDRIVE GRAN TOURER ST...       0            0   \n",
       "1   BMW X5M X5M STEPTRONICCHF 38'500AB CHF 616 / M...       0            0   \n",
       "2   BMW X3 X3 M40D INDIVIDUAL STEPTRONICCHF 44'990...       0            0   \n",
       "3   BMW X5 X5 XDRIVE 30D STEPTRONICCHF 26'500AB CH...       0            0   \n",
       "4   BMW 320 320I CABRIOLET STEPTRONICCHF 16'750AB ...       0            0   \n",
       "5   BMW 525 525D TOURING XDRIVE LUXURY LINE STEPTR...       1            0   \n",
       "6   BMW X1 X1 XDRIVE 25D XLINE STEPTRONICCHF 24'90...       0            0   \n",
       "7   BMW X5 X5 XDRIVE 30D (3.0D) STEPTRONICCHF 8'90...       0            0   \n",
       "8   BMW M4 M4 CABRIOLET DRIVELOGIC M COMPETITIONCH...       0            1   \n",
       "9   BMW M135 M135I XDRIVE STEPTRONICCHF 36'990AB C...       0            0   \n",
       "10  BMW 220 GRAN TOURER 220D XDRIVE GRAN TOURER ST...       0            0   \n",
       "11  BMW X5M X5M STEPTRONICCHF 38'500AB CHF 616 / M...       0            0   \n",
       "12  BMW X3 X3 M40D INDIVIDUAL STEPTRONICCHF 44'990...       0            0   \n",
       "13  BMW X5 X5 XDRIVE 30D STEPTRONICCHF 26'500AB CH...       0            0   \n",
       "14  BMW 320 320I CABRIOLET STEPTRONICCHF 16'750AB ...       0            0   \n",
       "15  BMW 525 525D TOURING XDRIVE LUXURY LINE STEPTR...       1            0   \n",
       "16  BMW X1 X1 XDRIVE 25D XLINE STEPTRONICCHF 24'90...       0            0   \n",
       "17  BMW X5 X5 XDRIVE 30D (3.0D) STEPTRONICCHF 8'90...       0            0   \n",
       "18  BMW M4 M4 CABRIOLET DRIVELOGIC M COMPETITIONCH...       0            1   \n",
       "19  BMW M135 M135I XDRIVE STEPTRONICCHF 36'990AB C...       0            0   \n",
       "20  BMW 220 GRAN TOURER 220D XDRIVE GRAN TOURER ST...       0            0   \n",
       "21  BMW X5M X5M STEPTRONICCHF 38'500AB CHF 616 / M...       0            0   \n",
       "22  BMW X3 X3 M40D INDIVIDUAL STEPTRONICCHF 44'990...       0            0   \n",
       "23  BMW X5 X5 XDRIVE 30D STEPTRONICCHF 26'500AB CH...       0            0   \n",
       "24  BMW 320 320I CABRIOLET STEPTRONICCHF 16'750AB ...       0            0   \n",
       "25  BMW 525 525D TOURING XDRIVE LUXURY LINE STEPTR...       1            0   \n",
       "26  BMW X1 X1 XDRIVE 25D XLINE STEPTRONICCHF 24'90...       0            0   \n",
       "27  BMW X5 X5 XDRIVE 30D (3.0D) STEPTRONICCHF 8'90...       0            0   \n",
       "28  BMW M4 M4 CABRIOLET DRIVELOGIC M COMPETITIONCH...       0            1   \n",
       "29  BMW M135 M135I XDRIVE STEPTRONICCHF 36'990AB C...       0            0   \n",
       "30  BMW 220 GRAN TOURER 220D XDRIVE GRAN TOURER ST...       0            0   \n",
       "31  BMW X5M X5M STEPTRONICCHF 38'500AB CHF 616 / M...       0            0   \n",
       "32  BMW X3 X3 M40D INDIVIDUAL STEPTRONICCHF 44'990...       0            0   \n",
       "33  BMW X5 X5 XDRIVE 30D STEPTRONICCHF 26'500AB CH...       0            0   \n",
       "34  BMW 320 320I CABRIOLET STEPTRONICCHF 16'750AB ...       0            0   \n",
       "35  BMW 525 525D TOURING XDRIVE LUXURY LINE STEPTR...       1            0   \n",
       "36  BMW X1 X1 XDRIVE 25D XLINE STEPTRONICCHF 24'90...       0            0   \n",
       "37  BMW X5 X5 XDRIVE 30D (3.0D) STEPTRONICCHF 8'90...       0            0   \n",
       "38  BMW M4 M4 CABRIOLET DRIVELOGIC M COMPETITIONCH...       0            1   \n",
       "39  BMW M135 M135I XDRIVE STEPTRONICCHF 36'990AB C...       0            0   \n",
       "40  BMW 220 GRAN TOURER 220D XDRIVE GRAN TOURER ST...       0            0   \n",
       "41  BMW X5M X5M STEPTRONICCHF 38'500AB CHF 616 / M...       0            0   \n",
       "42  BMW X3 X3 M40D INDIVIDUAL STEPTRONICCHF 44'990...       0            0   \n",
       "43  BMW X5 X5 XDRIVE 30D STEPTRONICCHF 26'500AB CH...       0            0   \n",
       "44  BMW 320 320I CABRIOLET STEPTRONICCHF 16'750AB ...       0            0   \n",
       "45  BMW 525 525D TOURING XDRIVE LUXURY LINE STEPTR...       1            0   \n",
       "46  BMW X1 X1 XDRIVE 25D XLINE STEPTRONICCHF 24'90...       0            0   \n",
       "47  BMW X5 X5 XDRIVE 30D (3.0D) STEPTRONICCHF 8'90...       0            0   \n",
       "48  BMW M4 M4 CABRIOLET DRIVELOGIC M COMPETITIONCH...       0            1   \n",
       "49  BMW M135 M135I XDRIVE STEPTRONICCHF 36'990AB C...       0            0   \n",
       "\n",
       "    xDrive  automat  \n",
       "0        1        1  \n",
       "1        0        1  \n",
       "2        0        1  \n",
       "3        1        1  \n",
       "4        0        1  \n",
       "5        1        1  \n",
       "6        1        1  \n",
       "7        1        1  \n",
       "8        0        1  \n",
       "9        1        1  \n",
       "10       1        1  \n",
       "11       0        1  \n",
       "12       0        1  \n",
       "13       1        1  \n",
       "14       0        1  \n",
       "15       1        1  \n",
       "16       1        1  \n",
       "17       1        1  \n",
       "18       0        1  \n",
       "19       1        1  \n",
       "20       1        1  \n",
       "21       0        1  \n",
       "22       0        1  \n",
       "23       1        1  \n",
       "24       0        1  \n",
       "25       1        1  \n",
       "26       1        1  \n",
       "27       1        1  \n",
       "28       0        1  \n",
       "29       1        1  \n",
       "30       1        1  \n",
       "31       0        1  \n",
       "32       0        1  \n",
       "33       1        1  \n",
       "34       0        1  \n",
       "35       1        1  \n",
       "36       1        1  \n",
       "37       1        1  \n",
       "38       0        1  \n",
       "39       1        1  \n",
       "40       1        1  \n",
       "41       0        1  \n",
       "42       0        1  \n",
       "43       1        1  \n",
       "44       0        1  \n",
       "45       1        1  \n",
       "46       1        1  \n",
       "47       1        1  \n",
       "48       0        1  \n",
       "49       1        1  "
      ]
     },
     "execution_count": 18,
     "metadata": {},
     "output_type": "execute_result"
    }
   ],
   "source": [
    "# Create patterns which can be used to search the variable 'text_raw'\n",
    "patternLuxury = '(LUXURY)'\n",
    "patternCompetition = '(COMPETITION)'\n",
    "patternXdrive = '(XDRIVE)'\n",
    "patternAutomat = '(AUTOMAT)'\n",
    "\n",
    "# Create new variables as binary dummy (0/1) variable\n",
    "# text_raw beinhaltet mehr Informationen\n",
    "df['luxury'] = df['text_raw'].str.contains(pat = patternLuxury).astype(int)\n",
    "df['competition'] = df['text_raw'].str.contains(pat = patternCompetition).astype(int)\n",
    "df['xDrive'] = df['text_raw'].str.contains(pat = patternXdrive).astype(int)\n",
    "df['automat'] = df['text_raw'].str.contains(pat = patternAutomat).astype(int)\n",
    "\n",
    "print(df['luxury'].sum())\n",
    "print(df['competition'].sum())\n",
    "print(df['xDrive'].sum())\n",
    "print(df['automat'].sum())\n",
    "\n",
    "# Show values\n",
    "df[['text_raw','luxury', 'competition','xDrive','automat']]"
   ]
  },
  {
   "cell_type": "markdown",
   "id": "32915363",
   "metadata": {},
   "source": [
    "### Create new categorical variable based on km"
   ]
  },
  {
   "cell_type": "code",
   "execution_count": 19,
   "id": "9f6f2346",
   "metadata": {},
   "outputs": [
    {
     "data": {
      "text/html": [
       "<div>\n",
       "<style scoped>\n",
       "    .dataframe tbody tr th:only-of-type {\n",
       "        vertical-align: middle;\n",
       "    }\n",
       "\n",
       "    .dataframe tbody tr th {\n",
       "        vertical-align: top;\n",
       "    }\n",
       "\n",
       "    .dataframe thead th {\n",
       "        text-align: right;\n",
       "    }\n",
       "</style>\n",
       "<table border=\"1\" class=\"dataframe\">\n",
       "  <thead>\n",
       "    <tr style=\"text-align: right;\">\n",
       "      <th></th>\n",
       "      <th>km</th>\n",
       "      <th>km_cat</th>\n",
       "    </tr>\n",
       "  </thead>\n",
       "  <tbody>\n",
       "    <tr>\n",
       "      <th>0</th>\n",
       "      <td>107000</td>\n",
       "      <td>50-120k</td>\n",
       "    </tr>\n",
       "    <tr>\n",
       "      <th>1</th>\n",
       "      <td>171000</td>\n",
       "      <td>120k+</td>\n",
       "    </tr>\n",
       "    <tr>\n",
       "      <th>2</th>\n",
       "      <td>88900</td>\n",
       "      <td>50-120k</td>\n",
       "    </tr>\n",
       "    <tr>\n",
       "      <th>3</th>\n",
       "      <td>164900</td>\n",
       "      <td>120k+</td>\n",
       "    </tr>\n",
       "    <tr>\n",
       "      <th>4</th>\n",
       "      <td>79600</td>\n",
       "      <td>50-120k</td>\n",
       "    </tr>\n",
       "    <tr>\n",
       "      <th>5</th>\n",
       "      <td>110700</td>\n",
       "      <td>50-120k</td>\n",
       "    </tr>\n",
       "    <tr>\n",
       "      <th>6</th>\n",
       "      <td>90100</td>\n",
       "      <td>50-120k</td>\n",
       "    </tr>\n",
       "    <tr>\n",
       "      <th>7</th>\n",
       "      <td>250000</td>\n",
       "      <td>120k+</td>\n",
       "    </tr>\n",
       "    <tr>\n",
       "      <th>8</th>\n",
       "      <td>59900</td>\n",
       "      <td>50-120k</td>\n",
       "    </tr>\n",
       "    <tr>\n",
       "      <th>9</th>\n",
       "      <td>33600</td>\n",
       "      <td>0-50k</td>\n",
       "    </tr>\n",
       "  </tbody>\n",
       "</table>\n",
       "</div>"
      ],
      "text/plain": [
       "       km   km_cat\n",
       "0  107000  50-120k\n",
       "1  171000    120k+\n",
       "2   88900  50-120k\n",
       "3  164900    120k+\n",
       "4   79600  50-120k\n",
       "5  110700  50-120k\n",
       "6   90100  50-120k\n",
       "7  250000    120k+\n",
       "8   59900  50-120k\n",
       "9   33600    0-50k"
      ]
     },
     "execution_count": 19,
     "metadata": {},
     "output_type": "execute_result"
    }
   ],
   "source": [
    "# Define classes (labels)\n",
    "labels = ['0-50k', '50-120k', '120k+']\n",
    "\n",
    "# Use the .cut method from pandas to divide the numeric values in classes\n",
    "df[\"km_cat\"] = pd.cut(df['km'], bins=[0, 50000, 120000, 500000], labels=labels)\n",
    "\n",
    "# Show original data and classes\n",
    "df[['km', 'km_cat']].head(10)"
   ]
  },
  {
   "cell_type": "markdown",
   "id": "0602b41c",
   "metadata": {},
   "source": [
    "### Create new numeric variable 'km_per_year'"
   ]
  },
  {
   "cell_type": "code",
   "execution_count": 20,
   "id": "1d5af8bd",
   "metadata": {},
   "outputs": [
    {
     "data": {
      "text/html": [
       "<div>\n",
       "<style scoped>\n",
       "    .dataframe tbody tr th:only-of-type {\n",
       "        vertical-align: middle;\n",
       "    }\n",
       "\n",
       "    .dataframe tbody tr th {\n",
       "        vertical-align: top;\n",
       "    }\n",
       "\n",
       "    .dataframe thead th {\n",
       "        text-align: right;\n",
       "    }\n",
       "</style>\n",
       "<table border=\"1\" class=\"dataframe\">\n",
       "  <thead>\n",
       "    <tr style=\"text-align: right;\">\n",
       "      <th></th>\n",
       "      <th>Year</th>\n",
       "      <th>km</th>\n",
       "      <th>price</th>\n",
       "      <th>km_per_year</th>\n",
       "    </tr>\n",
       "  </thead>\n",
       "  <tbody>\n",
       "    <tr>\n",
       "      <th>0</th>\n",
       "      <td>2017</td>\n",
       "      <td>107000</td>\n",
       "      <td>21000</td>\n",
       "      <td>15285.71</td>\n",
       "    </tr>\n",
       "    <tr>\n",
       "      <th>1</th>\n",
       "      <td>2016</td>\n",
       "      <td>171000</td>\n",
       "      <td>38500</td>\n",
       "      <td>21375.0</td>\n",
       "    </tr>\n",
       "    <tr>\n",
       "      <th>2</th>\n",
       "      <td>2019</td>\n",
       "      <td>88900</td>\n",
       "      <td>44990</td>\n",
       "      <td>17780.0</td>\n",
       "    </tr>\n",
       "    <tr>\n",
       "      <th>3</th>\n",
       "      <td>2016</td>\n",
       "      <td>164900</td>\n",
       "      <td>26500</td>\n",
       "      <td>20612.5</td>\n",
       "    </tr>\n",
       "    <tr>\n",
       "      <th>4</th>\n",
       "      <td>2010</td>\n",
       "      <td>79600</td>\n",
       "      <td>16750</td>\n",
       "      <td>5685.71</td>\n",
       "    </tr>\n",
       "    <tr>\n",
       "      <th>5</th>\n",
       "      <td>2014</td>\n",
       "      <td>110700</td>\n",
       "      <td>21500</td>\n",
       "      <td>11070.0</td>\n",
       "    </tr>\n",
       "    <tr>\n",
       "      <th>6</th>\n",
       "      <td>2017</td>\n",
       "      <td>90100</td>\n",
       "      <td>24900</td>\n",
       "      <td>12871.43</td>\n",
       "    </tr>\n",
       "    <tr>\n",
       "      <th>7</th>\n",
       "      <td>2007</td>\n",
       "      <td>250000</td>\n",
       "      <td>8900</td>\n",
       "      <td>14705.88</td>\n",
       "    </tr>\n",
       "    <tr>\n",
       "      <th>8</th>\n",
       "      <td>2019</td>\n",
       "      <td>59900</td>\n",
       "      <td>63890</td>\n",
       "      <td>11980.0</td>\n",
       "    </tr>\n",
       "    <tr>\n",
       "      <th>9</th>\n",
       "      <td>2020</td>\n",
       "      <td>33600</td>\n",
       "      <td>36990</td>\n",
       "      <td>8400.0</td>\n",
       "    </tr>\n",
       "  </tbody>\n",
       "</table>\n",
       "</div>"
      ],
      "text/plain": [
       "   Year      km  price  km_per_year\n",
       "0  2017  107000  21000     15285.71\n",
       "1  2016  171000  38500      21375.0\n",
       "2  2019   88900  44990      17780.0\n",
       "3  2016  164900  26500      20612.5\n",
       "4  2010   79600  16750      5685.71\n",
       "5  2014  110700  21500      11070.0\n",
       "6  2017   90100  24900     12871.43\n",
       "7  2007  250000   8900     14705.88\n",
       "8  2019   59900  63890      11980.0\n",
       "9  2020   33600  36990       8400.0"
      ]
     },
     "execution_count": 20,
     "metadata": {},
     "output_type": "execute_result"
    }
   ],
   "source": [
    "# Create the new variable\n",
    "df['km_per_year'] = round(df['km'] / (2024-df['Year']), 2)\n",
    "\n",
    "# Show values\n",
    "df[['Year','km','price','km_per_year']].head(10)"
   ]
  },
  {
   "cell_type": "markdown",
   "id": "877584e6",
   "metadata": {},
   "source": [
    "### Create new categorical variable based on km"
   ]
  },
  {
   "cell_type": "code",
   "execution_count": 21,
   "id": "8b9b7e30",
   "metadata": {},
   "outputs": [
    {
     "data": {
      "text/html": [
       "<div>\n",
       "<style scoped>\n",
       "    .dataframe tbody tr th:only-of-type {\n",
       "        vertical-align: middle;\n",
       "    }\n",
       "\n",
       "    .dataframe tbody tr th {\n",
       "        vertical-align: top;\n",
       "    }\n",
       "\n",
       "    .dataframe thead th {\n",
       "        text-align: right;\n",
       "    }\n",
       "</style>\n",
       "<table border=\"1\" class=\"dataframe\">\n",
       "  <thead>\n",
       "    <tr style=\"text-align: right;\">\n",
       "      <th></th>\n",
       "      <th>km_per_year</th>\n",
       "      <th>km_cat</th>\n",
       "      <th>km_per_year_cat</th>\n",
       "    </tr>\n",
       "  </thead>\n",
       "  <tbody>\n",
       "    <tr>\n",
       "      <th>0</th>\n",
       "      <td>15285.71</td>\n",
       "      <td>50-120k</td>\n",
       "      <td>high</td>\n",
       "    </tr>\n",
       "    <tr>\n",
       "      <th>1</th>\n",
       "      <td>21375.0</td>\n",
       "      <td>120k+</td>\n",
       "      <td>high</td>\n",
       "    </tr>\n",
       "    <tr>\n",
       "      <th>2</th>\n",
       "      <td>17780.0</td>\n",
       "      <td>50-120k</td>\n",
       "      <td>high</td>\n",
       "    </tr>\n",
       "    <tr>\n",
       "      <th>3</th>\n",
       "      <td>20612.5</td>\n",
       "      <td>120k+</td>\n",
       "      <td>high</td>\n",
       "    </tr>\n",
       "    <tr>\n",
       "      <th>4</th>\n",
       "      <td>5685.71</td>\n",
       "      <td>50-120k</td>\n",
       "      <td>low</td>\n",
       "    </tr>\n",
       "    <tr>\n",
       "      <th>5</th>\n",
       "      <td>11070.0</td>\n",
       "      <td>50-120k</td>\n",
       "      <td>medium</td>\n",
       "    </tr>\n",
       "    <tr>\n",
       "      <th>6</th>\n",
       "      <td>12871.43</td>\n",
       "      <td>50-120k</td>\n",
       "      <td>medium</td>\n",
       "    </tr>\n",
       "    <tr>\n",
       "      <th>7</th>\n",
       "      <td>14705.88</td>\n",
       "      <td>120k+</td>\n",
       "      <td>medium</td>\n",
       "    </tr>\n",
       "    <tr>\n",
       "      <th>8</th>\n",
       "      <td>11980.0</td>\n",
       "      <td>50-120k</td>\n",
       "      <td>medium</td>\n",
       "    </tr>\n",
       "    <tr>\n",
       "      <th>9</th>\n",
       "      <td>8400.0</td>\n",
       "      <td>0-50k</td>\n",
       "      <td>low</td>\n",
       "    </tr>\n",
       "  </tbody>\n",
       "</table>\n",
       "</div>"
      ],
      "text/plain": [
       "   km_per_year   km_cat km_per_year_cat\n",
       "0     15285.71  50-120k            high\n",
       "1      21375.0    120k+            high\n",
       "2      17780.0  50-120k            high\n",
       "3      20612.5    120k+            high\n",
       "4      5685.71  50-120k             low\n",
       "5      11070.0  50-120k          medium\n",
       "6     12871.43  50-120k          medium\n",
       "7     14705.88    120k+          medium\n",
       "8      11980.0  50-120k          medium\n",
       "9       8400.0    0-50k             low"
      ]
     },
     "execution_count": 21,
     "metadata": {},
     "output_type": "execute_result"
    }
   ],
   "source": [
    "# Define classes (labels)\n",
    "labels = ['low', 'medium', 'high']\n",
    "\n",
    "# Use the .cut method from pandas to divide the numeric values in classes\n",
    "df[\"km_per_year_cat\"] = pd.cut(df['km_per_year'], bins=[0, 10000, 15000, 50000], labels=labels)\n",
    "\n",
    "# Show original data and classes\n",
    "df[['km_per_year','km_cat','km_per_year_cat']].head(10)"
   ]
  },
  {
   "cell_type": "markdown",
   "id": "0a4e96f5",
   "metadata": {},
   "source": [
    "## Count and identify missing values (if any)"
   ]
  },
  {
   "cell_type": "markdown",
   "id": "3500c332",
   "metadata": {},
   "source": [
    "It seems like all the rows in the DataFrame df have complete data without any missing values"
   ]
  },
  {
   "cell_type": "code",
   "execution_count": 22,
   "id": "d8ca212a",
   "metadata": {},
   "outputs": [
    {
     "name": "stdout",
     "output_type": "stream",
     "text": [
      "web-scraper-order                 0\n",
      "web-scraper-start-url             0\n",
      "text_raw                          0\n",
      "price_raw                         0\n",
      "model_raw                         0\n",
      "type_year_km_transmission_fuel    0\n",
      "Location                          0\n",
      "PLZ                               0\n",
      "km_raw                            0\n",
      "Year                              0\n",
      "price                             0\n",
      "km                                0\n",
      "luxury                            0\n",
      "competition                       0\n",
      "xDrive                            0\n",
      "automat                           0\n",
      "km_cat                            0\n",
      "km_per_year                       0\n",
      "km_per_year_cat                   0\n",
      "dtype: int64\n"
     ]
    },
    {
     "data": {
      "text/html": [
       "<div>\n",
       "<style scoped>\n",
       "    .dataframe tbody tr th:only-of-type {\n",
       "        vertical-align: middle;\n",
       "    }\n",
       "\n",
       "    .dataframe tbody tr th {\n",
       "        vertical-align: top;\n",
       "    }\n",
       "\n",
       "    .dataframe thead th {\n",
       "        text-align: right;\n",
       "    }\n",
       "</style>\n",
       "<table border=\"1\" class=\"dataframe\">\n",
       "  <thead>\n",
       "    <tr style=\"text-align: right;\">\n",
       "      <th></th>\n",
       "      <th>web-scraper-order</th>\n",
       "      <th>web-scraper-start-url</th>\n",
       "      <th>text_raw</th>\n",
       "      <th>price_raw</th>\n",
       "      <th>model_raw</th>\n",
       "      <th>type_year_km_transmission_fuel</th>\n",
       "      <th>Location</th>\n",
       "      <th>PLZ</th>\n",
       "      <th>km_raw</th>\n",
       "      <th>Year</th>\n",
       "      <th>price</th>\n",
       "      <th>km</th>\n",
       "      <th>luxury</th>\n",
       "      <th>competition</th>\n",
       "      <th>xDrive</th>\n",
       "      <th>automat</th>\n",
       "      <th>km_cat</th>\n",
       "      <th>km_per_year</th>\n",
       "      <th>km_per_year_cat</th>\n",
       "    </tr>\n",
       "  </thead>\n",
       "  <tbody>\n",
       "  </tbody>\n",
       "</table>\n",
       "</div>"
      ],
      "text/plain": [
       "Empty DataFrame\n",
       "Columns: [web-scraper-order, web-scraper-start-url, text_raw, price_raw, model_raw, type_year_km_transmission_fuel, Location, PLZ, km_raw, Year, price, km, luxury, competition, xDrive, automat, km_cat, km_per_year, km_per_year_cat]\n",
       "Index: []"
      ]
     },
     "execution_count": 22,
     "metadata": {},
     "output_type": "execute_result"
    }
   ],
   "source": [
    "# Count missing values\n",
    "print(pd.isna(df).sum())\n",
    "\n",
    "# Identify rows with missing values\n",
    "df[df.isna().any(axis=1)].head()"
   ]
  },
  {
   "cell_type": "markdown",
   "id": "f1740797",
   "metadata": {},
   "source": [
    "## Count and identify duplicated values (if any)"
   ]
  },
  {
   "cell_type": "markdown",
   "id": "31e260fb",
   "metadata": {},
   "source": [
    "It seems like there are no duplicates in the DataFrame"
   ]
  },
  {
   "cell_type": "code",
   "execution_count": 23,
   "id": "86604f48",
   "metadata": {},
   "outputs": [
    {
     "name": "stdout",
     "output_type": "stream",
     "text": [
      "0\n"
     ]
    },
    {
     "data": {
      "text/html": [
       "<div>\n",
       "<style scoped>\n",
       "    .dataframe tbody tr th:only-of-type {\n",
       "        vertical-align: middle;\n",
       "    }\n",
       "\n",
       "    .dataframe tbody tr th {\n",
       "        vertical-align: top;\n",
       "    }\n",
       "\n",
       "    .dataframe thead th {\n",
       "        text-align: right;\n",
       "    }\n",
       "</style>\n",
       "<table border=\"1\" class=\"dataframe\">\n",
       "  <thead>\n",
       "    <tr style=\"text-align: right;\">\n",
       "      <th></th>\n",
       "      <th>web-scraper-order</th>\n",
       "      <th>web-scraper-start-url</th>\n",
       "      <th>text_raw</th>\n",
       "      <th>price_raw</th>\n",
       "      <th>model_raw</th>\n",
       "      <th>type_year_km_transmission_fuel</th>\n",
       "      <th>Location</th>\n",
       "      <th>PLZ</th>\n",
       "      <th>km_raw</th>\n",
       "      <th>Year</th>\n",
       "      <th>price</th>\n",
       "      <th>km</th>\n",
       "      <th>luxury</th>\n",
       "      <th>competition</th>\n",
       "      <th>xDrive</th>\n",
       "      <th>automat</th>\n",
       "      <th>km_cat</th>\n",
       "      <th>km_per_year</th>\n",
       "      <th>km_per_year_cat</th>\n",
       "    </tr>\n",
       "  </thead>\n",
       "  <tbody>\n",
       "  </tbody>\n",
       "</table>\n",
       "</div>"
      ],
      "text/plain": [
       "Empty DataFrame\n",
       "Columns: [web-scraper-order, web-scraper-start-url, text_raw, price_raw, model_raw, type_year_km_transmission_fuel, Location, PLZ, km_raw, Year, price, km, luxury, competition, xDrive, automat, km_cat, km_per_year, km_per_year_cat]\n",
       "Index: []"
      ]
     },
     "execution_count": 23,
     "metadata": {},
     "output_type": "execute_result"
    }
   ],
   "source": [
    "# Count duplicated values\n",
    "print(df.duplicated().sum())\n",
    "\n",
    "# Identify rows with duplicated values, e.g.:\n",
    "df[df[['web-scraper-order', 'text_raw', 'model_raw']].duplicated()]"
   ]
  },
  {
   "cell_type": "markdown",
   "id": "165f8f9f",
   "metadata": {},
   "source": [
    "### Save data to file"
   ]
  },
  {
   "cell_type": "code",
   "execution_count": 24,
   "id": "3c2773d3",
   "metadata": {},
   "outputs": [],
   "source": [
    "df.to_csv('bmw_data_prepared.csv', \n",
    "          sep=\",\", \n",
    "          encoding='utf-8',\n",
    "          index=False)"
   ]
  },
  {
   "cell_type": "markdown",
   "id": "8eea77f3",
   "metadata": {},
   "source": [
    "### SQLLite3"
   ]
  },
  {
   "cell_type": "code",
   "execution_count": 25,
   "id": "94aea7ce",
   "metadata": {},
   "outputs": [],
   "source": [
    "import sqlite3\n",
    " \n",
    "# Daten laden, indem Sie den vollständigen Pfad zur Datei angeben\n",
    "bereinigte_daten = pd.read_csv('/workspaces/DA_Project/Project/Minimum/1/bmw_data_prepared.csv')\n",
    " \n",
    "# Verbindung zur Datenbank herstellen\n",
    "conn = sqlite3.connect('bmw_datenbank.db')\n",
    " \n",
    "# Daten in die Datenbank einfügen\n",
    "bereinigte_daten.to_sql('bmw_tabelle', conn, index=False, if_exists='replace')\n",
    " \n",
    "# Verbindung schließen\n",
    "conn.close()"
   ]
  },
  {
   "cell_type": "markdown",
   "id": "86257783",
   "metadata": {},
   "source": [
    "### Jupyter notebook --footer info-- (please always provide this at the end of each submitted notebook)"
   ]
  },
  {
   "cell_type": "code",
   "execution_count": 26,
   "id": "7f5bf8aa",
   "metadata": {},
   "outputs": [
    {
     "name": "stdout",
     "output_type": "stream",
     "text": [
      "-----------------------------------\n",
      "POSIX\n",
      "Linux | 6.2.0-1018-azure\n",
      "Datetime: 2024-01-12 16:29:59\n",
      "Python Version: 3.10.13\n",
      "-----------------------------------\n"
     ]
    }
   ],
   "source": [
    "import os\n",
    "import platform\n",
    "import socket\n",
    "from platform import python_version\n",
    "from datetime import datetime\n",
    "\n",
    "print('-----------------------------------')\n",
    "print(os.name.upper())\n",
    "print(platform.system(), '|', platform.release())\n",
    "print('Datetime:', datetime.now().strftime(\"%Y-%m-%d %H:%M:%S\"))\n",
    "print('Python Version:', python_version())\n",
    "print('-----------------------------------')"
   ]
  }
 ],
 "metadata": {
  "kernelspec": {
   "display_name": "Python 3 (ipykernel)",
   "language": "python",
   "name": "python3"
  },
  "language_info": {
   "codemirror_mode": {
    "name": "ipython",
    "version": 3
   },
   "file_extension": ".py",
   "mimetype": "text/x-python",
   "name": "python",
   "nbconvert_exporter": "python",
   "pygments_lexer": "ipython3",
   "version": "3.10.13"
  }
 },
 "nbformat": 4,
 "nbformat_minor": 5
}
