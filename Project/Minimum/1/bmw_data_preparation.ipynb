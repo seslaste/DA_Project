{
 "cells": [
  {
   "cell_type": "markdown",
   "id": "3272230e",
   "metadata": {},
   "source": [
    "# Importing and preparing rental apartments data"
   ]
  },
  {
   "cell_type": "markdown",
   "id": "c0e6a164",
   "metadata": {},
   "source": [
    "## Libraries and settings"
   ]
  },
  {
   "cell_type": "code",
   "execution_count": 1,
   "id": "e3b51c23",
   "metadata": {},
   "outputs": [
    {
     "name": "stdout",
     "output_type": "stream",
     "text": [
      "/workspaces/DA_Project/Project/Minimum/1\n"
     ]
    }
   ],
   "source": [
    "# Libraries\n",
    "import os\n",
    "import re\n",
    "import time\n",
    "import fnmatch\n",
    "import numpy as np\n",
    "import pandas as pd\n",
    "\n",
    "# Ignore warnings\n",
    "import warnings\n",
    "warnings.filterwarnings(\"ignore\")\n",
    "\n",
    "# Get current working directory\n",
    "print(os.getcwd())"
   ]
  },
  {
   "cell_type": "markdown",
   "id": "2a7bff4a",
   "metadata": {},
   "source": [
    "## Importing data"
   ]
  },
  {
   "cell_type": "code",
   "execution_count": 2,
   "id": "aa8f37dd",
   "metadata": {
    "scrolled": true
   },
   "outputs": [
    {
     "name": "stdout",
     "output_type": "stream",
     "text": [
      "comparis_bmw.csv\n",
      "bmw_data_prepared.csv\n"
     ]
    },
    {
     "data": {
      "text/html": [
       "<div>\n",
       "<style scoped>\n",
       "    .dataframe tbody tr th:only-of-type {\n",
       "        vertical-align: middle;\n",
       "    }\n",
       "\n",
       "    .dataframe tbody tr th {\n",
       "        vertical-align: top;\n",
       "    }\n",
       "\n",
       "    .dataframe thead th {\n",
       "        text-align: right;\n",
       "    }\n",
       "</style>\n",
       "<table border=\"1\" class=\"dataframe\">\n",
       "  <thead>\n",
       "    <tr style=\"text-align: right;\">\n",
       "      <th></th>\n",
       "      <th>web-scraper-order</th>\n",
       "      <th>web-scraper-start-url</th>\n",
       "      <th>text_raw</th>\n",
       "      <th>price_raw</th>\n",
       "      <th>model_raw</th>\n",
       "      <th>type_year_km_transmission_fuel</th>\n",
       "    </tr>\n",
       "  </thead>\n",
       "  <tbody>\n",
       "    <tr>\n",
       "      <th>0</th>\n",
       "      <td>1704481912-1</td>\n",
       "      <td>https://www.comparis.ch/carfinder/marktplatz/b...</td>\n",
       "      <td>BMW 220 Gran Tourer 220d xDrive Gran Tourer St...</td>\n",
       "      <td>CHF 21'000</td>\n",
       "      <td>220d xDrive Gran Tourer Steptronic</td>\n",
       "      <td>Occasion10.2017107.000 kmAutomatDiesel1299 (VD)</td>\n",
       "    </tr>\n",
       "    <tr>\n",
       "      <th>1</th>\n",
       "      <td>1704481912-2</td>\n",
       "      <td>https://www.comparis.ch/carfinder/marktplatz/b...</td>\n",
       "      <td>BMW X5M X5M SteptronicCHF 38'500ab CHF 616 / M...</td>\n",
       "      <td>CHF 38'500</td>\n",
       "      <td>X5M Steptronic</td>\n",
       "      <td>Occasion08.2016171.000 kmAutomatBenzin8730 (SG)</td>\n",
       "    </tr>\n",
       "    <tr>\n",
       "      <th>2</th>\n",
       "      <td>1704481912-3</td>\n",
       "      <td>https://www.comparis.ch/carfinder/marktplatz/b...</td>\n",
       "      <td>BMW X3 X3 M40d Individual SteptronicCHF 44'990...</td>\n",
       "      <td>CHF 44'990</td>\n",
       "      <td>X3 M40d Individual Steptronic</td>\n",
       "      <td>Occasion12.201988.900 kmAutomatDiesel3178 (FR)</td>\n",
       "    </tr>\n",
       "    <tr>\n",
       "      <th>3</th>\n",
       "      <td>1704481912-4</td>\n",
       "      <td>https://www.comparis.ch/carfinder/marktplatz/b...</td>\n",
       "      <td>BMW X5 X5 xDrive 30d SteptronicCHF 26'500ab CH...</td>\n",
       "      <td>CHF 26'500</td>\n",
       "      <td>X5 xDrive 30d Steptronic</td>\n",
       "      <td>Occasion11.2016164.900 kmAutomatDiesel4461 (BL)</td>\n",
       "    </tr>\n",
       "    <tr>\n",
       "      <th>4</th>\n",
       "      <td>1704481912-5</td>\n",
       "      <td>https://www.comparis.ch/carfinder/marktplatz/b...</td>\n",
       "      <td>BMW 320 320i Cabriolet SteptronicCHF 16'750ab ...</td>\n",
       "      <td>CHF 16'750</td>\n",
       "      <td>320i Cabriolet Steptronic</td>\n",
       "      <td>Occasion06.201079.600 kmAutomatBenzin4461 (BL)</td>\n",
       "    </tr>\n",
       "  </tbody>\n",
       "</table>\n",
       "</div>"
      ],
      "text/plain": [
       "  web-scraper-order                              web-scraper-start-url  \\\n",
       "0      1704481912-1  https://www.comparis.ch/carfinder/marktplatz/b...   \n",
       "1      1704481912-2  https://www.comparis.ch/carfinder/marktplatz/b...   \n",
       "2      1704481912-3  https://www.comparis.ch/carfinder/marktplatz/b...   \n",
       "3      1704481912-4  https://www.comparis.ch/carfinder/marktplatz/b...   \n",
       "4      1704481912-5  https://www.comparis.ch/carfinder/marktplatz/b...   \n",
       "\n",
       "                                            text_raw   price_raw  \\\n",
       "0  BMW 220 Gran Tourer 220d xDrive Gran Tourer St...  CHF 21'000   \n",
       "1  BMW X5M X5M SteptronicCHF 38'500ab CHF 616 / M...  CHF 38'500   \n",
       "2  BMW X3 X3 M40d Individual SteptronicCHF 44'990...  CHF 44'990   \n",
       "3  BMW X5 X5 xDrive 30d SteptronicCHF 26'500ab CH...  CHF 26'500   \n",
       "4  BMW 320 320i Cabriolet SteptronicCHF 16'750ab ...  CHF 16'750   \n",
       "\n",
       "                            model_raw  \\\n",
       "0  220d xDrive Gran Tourer Steptronic   \n",
       "1                      X5M Steptronic   \n",
       "2       X3 M40d Individual Steptronic   \n",
       "3            X5 xDrive 30d Steptronic   \n",
       "4           320i Cabriolet Steptronic   \n",
       "\n",
       "                    type_year_km_transmission_fuel  \n",
       "0  Occasion10.2017107.000 kmAutomatDiesel1299 (VD)  \n",
       "1  Occasion08.2016171.000 kmAutomatBenzin8730 (SG)  \n",
       "2   Occasion12.201988.900 kmAutomatDiesel3178 (FR)  \n",
       "3  Occasion11.2016164.900 kmAutomatDiesel4461 (BL)  \n",
       "4   Occasion06.201079.600 kmAutomatBenzin4461 (BL)  "
      ]
     },
     "execution_count": 2,
     "metadata": {},
     "output_type": "execute_result"
    }
   ],
   "source": [
    "# Show .csv - files in the directory\n",
    "flist = fnmatch.filter(os.listdir('.'), '*.csv')\n",
    "for i in flist:\n",
    "    print(i)\n",
    "\n",
    "# Read the data to a pandas data frame\n",
    "df = pd.read_csv('comparis_bmw.csv', sep=',', encoding='utf-8')\n",
    "\n",
    "# Show first records of data frame\n",
    "df.head()"
   ]
  },
  {
   "cell_type": "markdown",
   "id": "b95e9f0e",
   "metadata": {},
   "source": [
    "## Count number of rows and columns in the data frame"
   ]
  },
  {
   "cell_type": "code",
   "execution_count": 3,
   "id": "ec7391ad",
   "metadata": {},
   "outputs": [
    {
     "name": "stdout",
     "output_type": "stream",
     "text": [
      "Dimension: (50, 6)\n",
      "Number of rows: 50\n",
      "Number of columns: 6\n"
     ]
    }
   ],
   "source": [
    "# Dimension (rows, columns)\n",
    "print('Dimension:', df.shape)\n",
    "\n",
    "# Number of rows\n",
    "print('Number of rows:', df.shape[0])\n",
    "\n",
    "# Number of columns\n",
    "print('Number of columns:', df.shape[1])"
   ]
  },
  {
   "cell_type": "markdown",
   "id": "ace6d22c",
   "metadata": {},
   "source": [
    "## Get data types (raw-format from web scraping)"
   ]
  },
  {
   "cell_type": "code",
   "execution_count": 4,
   "id": "dd9244a5",
   "metadata": {},
   "outputs": [
    {
     "data": {
      "text/plain": [
       "web-scraper-order                 object\n",
       "web-scraper-start-url             object\n",
       "text_raw                          object\n",
       "price_raw                         object\n",
       "model_raw                         object\n",
       "type_year_km_transmission_fuel    object\n",
       "dtype: object"
      ]
     },
     "execution_count": 4,
     "metadata": {},
     "output_type": "execute_result"
    }
   ],
   "source": [
    "# Get data types (note that in pandas, a string is referred to as 'object')\n",
    "df.dtypes"
   ]
  },
  {
   "cell_type": "markdown",
   "id": "9ea951fd",
   "metadata": {},
   "source": [
    "## Extract and save relevant information from raw data using regular expressions (regex)"
   ]
  },
  {
   "cell_type": "markdown",
   "id": "7c3be629",
   "metadata": {},
   "source": [
    "### Output type_year_km_transmission_fuel"
   ]
  },
  {
   "cell_type": "code",
   "execution_count": 5,
   "id": "090ef7a8",
   "metadata": {},
   "outputs": [
    {
     "name": "stdout",
     "output_type": "stream",
     "text": [
      "0    Occasion10.2017107.000 kmAutomatDiesel1299 (VD)\n",
      "1    Occasion08.2016171.000 kmAutomatBenzin8730 (SG)\n",
      "2     Occasion12.201988.900 kmAutomatDiesel3178 (FR)\n",
      "3    Occasion11.2016164.900 kmAutomatDiesel4461 (BL)\n",
      "4     Occasion06.201079.600 kmAutomatBenzin4461 (BL)\n",
      "Name: type_year_km_transmission_fuel, dtype: object \n",
      "\n"
     ]
    }
   ],
   "source": [
    "print(df['type_year_km_transmission_fuel'].head(5), '\\n')"
   ]
  },
  {
   "cell_type": "markdown",
   "id": "e8c4e3e2",
   "metadata": {},
   "source": [
    "## Extract and save relevant information from raw data using regular expressions (regex)"
   ]
  },
  {
   "cell_type": "markdown",
   "id": "bc6f9b0e",
   "metadata": {},
   "source": [
    "### Extract Location"
   ]
  },
  {
   "cell_type": "code",
   "execution_count": 6,
   "id": "37d31afe",
   "metadata": {},
   "outputs": [
    {
     "name": "stdout",
     "output_type": "stream",
     "text": [
      "0    Occasion10.2017107.000 kmAutomatDiesel1299 (VD)\n",
      "1    Occasion08.2016171.000 kmAutomatBenzin8730 (SG)\n",
      "2     Occasion12.201988.900 kmAutomatDiesel3178 (FR)\n",
      "3    Occasion11.2016164.900 kmAutomatDiesel4461 (BL)\n",
      "4     Occasion06.201079.600 kmAutomatBenzin4461 (BL)\n",
      "Name: type_year_km_transmission_fuel, dtype: object \n",
      "\n",
      "0    VD\n",
      "1    SG\n",
      "2    FR\n",
      "3    BL\n",
      "4    BL\n",
      "Name: Location, dtype: object\n"
     ]
    }
   ],
   "source": [
    "# Extrahiere Location\n",
    "Location = []\n",
    "for item in df['type_year_km_transmission_fuel']:\n",
    "    location = re.findall(r'\\((.*?)\\)', item)\n",
    "    try:\n",
    "        Location.append(location[0])\n",
    "    except:\n",
    "        Location.append(None)\n",
    "\n",
    "# Füge Location als neue Spalte hinzu\n",
    "df['Location'] = pd.Series(Location, dtype='str')\n",
    "\n",
    "# Zeige die ersten 5 Werte \n",
    "print(df['type_year_km_transmission_fuel'].head(5), '\\n')\n",
    "print(df['Location'].head(5))"
   ]
  },
  {
   "cell_type": "markdown",
   "id": "8bbe8192",
   "metadata": {},
   "source": [
    "### Extract PLZ"
   ]
  },
  {
   "cell_type": "code",
   "execution_count": 7,
   "id": "8df3d52b",
   "metadata": {},
   "outputs": [
    {
     "name": "stdout",
     "output_type": "stream",
     "text": [
      "0    Occasion10.2017107.000 kmAutomatDiesel1299 (VD)\n",
      "1    Occasion08.2016171.000 kmAutomatBenzin8730 (SG)\n",
      "2     Occasion12.201988.900 kmAutomatDiesel3178 (FR)\n",
      "3    Occasion11.2016164.900 kmAutomatDiesel4461 (BL)\n",
      "4     Occasion06.201079.600 kmAutomatBenzin4461 (BL)\n",
      "Name: type_year_km_transmission_fuel, dtype: object \n",
      "\n",
      "0    1299\n",
      "1    8730\n",
      "2    3178\n",
      "3    4461\n",
      "4    4461\n",
      "Name: PLZ, dtype: Int64\n"
     ]
    }
   ],
   "source": [
    "# Extrahiere PLZ\n",
    "PLZ = []\n",
    "for item in df['type_year_km_transmission_fuel']:\n",
    "    plz = re.search(r'(\\d{4}) \\(([^)]+)\\)', item)\n",
    "    if plz:\n",
    "        PLZ.append(plz.group(1))\n",
    "    else:\n",
    "        PLZ.append(None)\n",
    "\n",
    "# Füge PLZ als neue Spalte hinzu\n",
    "df['PLZ'] = pd.Series(PLZ, dtype=\"Int64\")\n",
    "\n",
    "# Zeige die ersten 5 Werte\n",
    "print(df['type_year_km_transmission_fuel'].head(5), '\\n')\n",
    "print(df['PLZ'].head(5))"
   ]
  },
  {
   "cell_type": "markdown",
   "id": "abdb8659",
   "metadata": {},
   "source": [
    "### Extraction of all Information"
   ]
  },
  {
   "cell_type": "code",
   "execution_count": 8,
   "id": "a773d87a",
   "metadata": {},
   "outputs": [
    {
     "name": "stdout",
     "output_type": "stream",
     "text": [
      "       Type     Year  Kilometers Transmission    Fuel   PLZ Location\n",
      "0  Occasion  10.2017  107.000 km      Automat  Diesel  1299       VD\n",
      "1  Occasion  08.2016  171.000 km      Automat  Benzin  8730       SG\n",
      "2  Occasion  12.2019   88.900 km      Automat  Diesel  3178       FR\n",
      "3  Occasion  11.2016  164.900 km      Automat  Diesel  4461       BL\n",
      "4  Occasion  06.2010   79.600 km      Automat  Benzin  4461       BL\n"
     ]
    }
   ],
   "source": [
    "# Extrahieren von Typ, Jahr, Kilometerstand, Getriebeart, Treibstofftyp, Postleitzahl und Location\n",
    "extracted = df['type_year_km_transmission_fuel'].str.extract(r'(\\w+)(\\d{2}.\\d{4})(\\d+\\.\\d+ km)([A-Z]\\w+)([A-Z]\\w+)(\\d{4}) \\(([^)]+)\\)')\n",
    "extracted.columns = ['Type', 'Year', 'Kilometers', 'Transmission', 'Fuel', 'PLZ', 'Location']\n",
    "\n",
    "# Ausgabe der ersten 5 extrahierten Datensätze\n",
    "print(extracted.head())"
   ]
  },
  {
   "cell_type": "markdown",
   "id": "a6016607",
   "metadata": {},
   "source": [
    "### Output price_raw"
   ]
  },
  {
   "cell_type": "code",
   "execution_count": 9,
   "id": "5ebe908d",
   "metadata": {},
   "outputs": [
    {
     "name": "stdout",
     "output_type": "stream",
     "text": [
      "0    CHF 21'000\n",
      "1    CHF 38'500\n",
      "2    CHF 44'990\n",
      "3    CHF 26'500\n",
      "4    CHF 16'750\n",
      "Name: price_raw, dtype: object \n",
      "\n"
     ]
    }
   ],
   "source": [
    "print(df['price_raw'].head(5), '\\n')"
   ]
  },
  {
   "cell_type": "code",
   "execution_count": 10,
   "id": "3301b494",
   "metadata": {},
   "outputs": [
    {
     "name": "stdout",
     "output_type": "stream",
     "text": [
      "0    CHF 21'000\n",
      "1    CHF 38'500\n",
      "2    CHF 44'990\n",
      "3    CHF 26'500\n",
      "4    CHF 16'750\n",
      "Name: price_raw, dtype: object \n",
      "\n",
      "0    21000\n",
      "1    38500\n",
      "2    44990\n",
      "3    26500\n",
      "4    16750\n",
      "Name: price, dtype: Int64\n"
     ]
    }
   ],
   "source": [
    "# Verwende str.extract(), um Zahlen aus der 'price_raw'-Spalte zu extrahieren\n",
    "df['price'] = df['price_raw'].str.extract(r\"(\\d+['\\d+]*)\", expand=False)\n",
    "df['price'] = df['price'].str.replace(\"'\", \"\").astype('Int64')  # Entferne Apostrophe und ändere den Datentyp in 'Int64'\n",
    "\n",
    "# Gib die ersten 5 Werte der 'price_raw'- und 'price'-Spalten aus\n",
    "print(df['price_raw'].head(5), '\\n')\n",
    "print(df['price'].head(5))"
   ]
  },
  {
   "cell_type": "markdown",
   "id": "1eec753f",
   "metadata": {},
   "source": [
    "### Get data types of all variables including the new ones"
   ]
  },
  {
   "cell_type": "code",
   "execution_count": 11,
   "id": "add08f2e",
   "metadata": {},
   "outputs": [
    {
     "data": {
      "text/plain": [
       "web-scraper-order                 object\n",
       "web-scraper-start-url             object\n",
       "text_raw                          object\n",
       "price_raw                         object\n",
       "model_raw                         object\n",
       "type_year_km_transmission_fuel    object\n",
       "Location                          object\n",
       "PLZ                                Int64\n",
       "price                              Int64\n",
       "dtype: object"
      ]
     },
     "execution_count": 11,
     "metadata": {},
     "output_type": "execute_result"
    }
   ],
   "source": [
    "df.dtypes"
   ]
  },
  {
   "cell_type": "markdown",
   "id": "0a4e96f5",
   "metadata": {},
   "source": [
    "## Count and identify missing values (if any)"
   ]
  },
  {
   "cell_type": "markdown",
   "id": "3500c332",
   "metadata": {},
   "source": [
    "It seems like all the rows in the DataFrame df have complete data without any missing values"
   ]
  },
  {
   "cell_type": "code",
   "execution_count": 12,
   "id": "d8ca212a",
   "metadata": {},
   "outputs": [
    {
     "name": "stdout",
     "output_type": "stream",
     "text": [
      "web-scraper-order                 0\n",
      "web-scraper-start-url             0\n",
      "text_raw                          0\n",
      "price_raw                         0\n",
      "model_raw                         0\n",
      "type_year_km_transmission_fuel    0\n",
      "Location                          0\n",
      "PLZ                               0\n",
      "price                             0\n",
      "dtype: int64\n"
     ]
    },
    {
     "data": {
      "text/html": [
       "<div>\n",
       "<style scoped>\n",
       "    .dataframe tbody tr th:only-of-type {\n",
       "        vertical-align: middle;\n",
       "    }\n",
       "\n",
       "    .dataframe tbody tr th {\n",
       "        vertical-align: top;\n",
       "    }\n",
       "\n",
       "    .dataframe thead th {\n",
       "        text-align: right;\n",
       "    }\n",
       "</style>\n",
       "<table border=\"1\" class=\"dataframe\">\n",
       "  <thead>\n",
       "    <tr style=\"text-align: right;\">\n",
       "      <th></th>\n",
       "      <th>web-scraper-order</th>\n",
       "      <th>web-scraper-start-url</th>\n",
       "      <th>text_raw</th>\n",
       "      <th>price_raw</th>\n",
       "      <th>model_raw</th>\n",
       "      <th>type_year_km_transmission_fuel</th>\n",
       "      <th>Location</th>\n",
       "      <th>PLZ</th>\n",
       "      <th>price</th>\n",
       "    </tr>\n",
       "  </thead>\n",
       "  <tbody>\n",
       "  </tbody>\n",
       "</table>\n",
       "</div>"
      ],
      "text/plain": [
       "Empty DataFrame\n",
       "Columns: [web-scraper-order, web-scraper-start-url, text_raw, price_raw, model_raw, type_year_km_transmission_fuel, Location, PLZ, price]\n",
       "Index: []"
      ]
     },
     "execution_count": 12,
     "metadata": {},
     "output_type": "execute_result"
    }
   ],
   "source": [
    "# Count missing values\n",
    "print(pd.isna(df).sum())\n",
    "\n",
    "# Identify rows with missing values\n",
    "df[df.isna().any(axis=1)].head()"
   ]
  },
  {
   "cell_type": "markdown",
   "id": "f1740797",
   "metadata": {},
   "source": [
    "## Count and identify duplicated values (if any)"
   ]
  },
  {
   "cell_type": "markdown",
   "id": "31e260fb",
   "metadata": {},
   "source": [
    "It seems like there are no duplicates in the DataFrame"
   ]
  },
  {
   "cell_type": "code",
   "execution_count": 13,
   "id": "86604f48",
   "metadata": {},
   "outputs": [
    {
     "name": "stdout",
     "output_type": "stream",
     "text": [
      "0\n"
     ]
    },
    {
     "data": {
      "text/html": [
       "<div>\n",
       "<style scoped>\n",
       "    .dataframe tbody tr th:only-of-type {\n",
       "        vertical-align: middle;\n",
       "    }\n",
       "\n",
       "    .dataframe tbody tr th {\n",
       "        vertical-align: top;\n",
       "    }\n",
       "\n",
       "    .dataframe thead th {\n",
       "        text-align: right;\n",
       "    }\n",
       "</style>\n",
       "<table border=\"1\" class=\"dataframe\">\n",
       "  <thead>\n",
       "    <tr style=\"text-align: right;\">\n",
       "      <th></th>\n",
       "      <th>web-scraper-order</th>\n",
       "      <th>web-scraper-start-url</th>\n",
       "      <th>text_raw</th>\n",
       "      <th>price_raw</th>\n",
       "      <th>model_raw</th>\n",
       "      <th>type_year_km_transmission_fuel</th>\n",
       "      <th>Location</th>\n",
       "      <th>PLZ</th>\n",
       "      <th>price</th>\n",
       "    </tr>\n",
       "  </thead>\n",
       "  <tbody>\n",
       "  </tbody>\n",
       "</table>\n",
       "</div>"
      ],
      "text/plain": [
       "Empty DataFrame\n",
       "Columns: [web-scraper-order, web-scraper-start-url, text_raw, price_raw, model_raw, type_year_km_transmission_fuel, Location, PLZ, price]\n",
       "Index: []"
      ]
     },
     "execution_count": 13,
     "metadata": {},
     "output_type": "execute_result"
    }
   ],
   "source": [
    "# Count duplicated values\n",
    "print(df.duplicated().sum())\n",
    "\n",
    "# Identify rows with duplicated values, e.g.:\n",
    "df[df[['web-scraper-order', 'text_raw', 'model_raw']].duplicated()]"
   ]
  },
  {
   "cell_type": "markdown",
   "id": "165f8f9f",
   "metadata": {},
   "source": [
    "### Save data to file"
   ]
  },
  {
   "cell_type": "code",
   "execution_count": 14,
   "id": "3c2773d3",
   "metadata": {},
   "outputs": [],
   "source": [
    "df.to_csv('bmw_data_prepared.csv', \n",
    "          sep=\",\", \n",
    "          encoding='utf-8',\n",
    "          index=False)"
   ]
  },
  {
   "cell_type": "markdown",
   "id": "a8691d3d",
   "metadata": {},
   "source": [
    "### SQLlite"
   ]
  },
  {
   "cell_type": "code",
   "execution_count": 15,
   "id": "d549e52e",
   "metadata": {},
   "outputs": [],
   "source": [
    "import sqlite3\n",
    " \n",
    "# Daten laden, indem Sie den vollständigen Pfad zur Datei angeben\n",
    "bereinigte_daten = pd.read_csv('/workspaces/DA_Project/Project/Minimum/1/bmw_data_prepared.csv')\n",
    " \n",
    "# Verbindung zur Datenbank herstellen\n",
    "conn = sqlite3.connect('bmw_datenbank.db')\n",
    " \n",
    "# Daten in die Datenbank einfügen\n",
    "bereinigte_daten.to_sql('bmw_tabelle', conn, index=False, if_exists='replace')\n",
    " \n",
    "# Verbindung schließen\n",
    "conn.close()"
   ]
  },
  {
   "cell_type": "markdown",
   "id": "86257783",
   "metadata": {},
   "source": [
    "### Jupyter notebook --footer info-- (please always provide this at the end of each submitted notebook)"
   ]
  },
  {
   "cell_type": "code",
<<<<<<< HEAD
   "execution_count": 15,
=======
   "execution_count": 16,
>>>>>>> fd8d48c (sql)
   "id": "7f5bf8aa",
   "metadata": {},
   "outputs": [
    {
     "name": "stdout",
     "output_type": "stream",
     "text": [
      "-----------------------------------\n",
      "POSIX\n",
      "Linux | 6.2.0-1018-azure\n",
<<<<<<< HEAD
      "Datetime: 2024-01-12 13:25:40\n",
=======
      "Datetime: 2024-01-12 16:03:47\n",
>>>>>>> fd8d48c (sql)
      "Python Version: 3.10.13\n",
      "-----------------------------------\n"
     ]
    }
   ],
   "source": [
    "import os\n",
    "import platform\n",
    "import socket\n",
    "from platform import python_version\n",
    "from datetime import datetime\n",
    "\n",
    "print('-----------------------------------')\n",
    "print(os.name.upper())\n",
    "print(platform.system(), '|', platform.release())\n",
    "print('Datetime:', datetime.now().strftime(\"%Y-%m-%d %H:%M:%S\"))\n",
    "print('Python Version:', python_version())\n",
    "print('-----------------------------------')"
   ]
  },
  {
   "cell_type": "code",
   "execution_count": 17,
   "id": "d42b7685",
   "metadata": {},
   "outputs": [],
   "source": [
    "import sqlite3\n",
    "\n",
    "# Daten laden, indem Sie den vollständigen Pfad zur Datei angeben\n",
    "bereinigte_daten = pd.read_csv('/workspaces/DA_Project/Project/Minimum/1/bmw_data_prepared.csv')\n",
    "\n",
    "# Verbindung zur Datenbank herstellen\n",
    "conn = sqlite3.connect('bmw_datenbank.db')\n",
    "\n",
    "# Daten in die Datenbank einfügen\n",
    "bereinigte_daten.to_sql('bmw_tabelle', conn, index=False, if_exists='replace')\n",
    "\n",
    "# Verbindung schließen\n",
    "conn.close()\n"
   ]
  }
 ],
 "metadata": {
  "kernelspec": {
   "display_name": "Python 3 (ipykernel)",
   "language": "python",
   "name": "python3"
  },
  "language_info": {
   "codemirror_mode": {
    "name": "ipython",
    "version": 3
   },
   "file_extension": ".py",
   "mimetype": "text/x-python",
   "name": "python",
   "nbconvert_exporter": "python",
   "pygments_lexer": "ipython3",
   "version": "3.10.13"
  }
 },
 "nbformat": 4,
 "nbformat_minor": 5
}
