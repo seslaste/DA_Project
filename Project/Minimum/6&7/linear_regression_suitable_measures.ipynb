{
 "cells": [
  {
   "cell_type": "markdown",
   "id": "1e84aff8",
   "metadata": {},
   "source": [
    "# Linear regression with suitable measures of fit"
   ]
  },
  {
   "cell_type": "markdown",
   "id": "d9ca506b",
   "metadata": {},
   "source": [
    "## Libraries and settings"
   ]
  },
  {
   "cell_type": "code",
   "execution_count": 1,
   "id": "3cc498a3",
   "metadata": {},
   "outputs": [
    {
     "name": "stdout",
     "output_type": "stream",
     "text": [
      "/workspaces/DA_Project/Project/Minimum/6&7\n"
     ]
    }
   ],
   "source": [
    "# Libraries\n",
    "import os\n",
    "import numpy as np\n",
    "import pandas as pd\n",
    "import scipy.stats as stats\n",
    "import statsmodels.api as sm\n",
    "import matplotlib.pyplot as plt\n",
    "from sklearn import linear_model\n",
    "from sklearn.model_selection import train_test_split\n",
    "from sklearn.metrics import mean_squared_error, mean_absolute_error\n",
    "\n",
    "\n",
    "\n",
    "# Ignore warnings\n",
    "import warnings\n",
    "warnings.filterwarnings('ignore')\n",
    "\n",
    "# Show current working directory\n",
    "print(os.getcwd())"
   ]
  },
  {
   "cell_type": "markdown",
   "id": "514d3419",
   "metadata": {},
   "source": [
    "## Import the apartment data"
   ]
  },
  {
   "cell_type": "code",
   "execution_count": 2,
   "id": "fc8846ed",
   "metadata": {},
   "outputs": [
    {
     "name": "stdout",
     "output_type": "stream",
     "text": [
      "(847, 19)\n"
     ]
    },
    {
     "data": {
      "text/html": [
       "<div>\n",
       "<style scoped>\n",
       "    .dataframe tbody tr th:only-of-type {\n",
       "        vertical-align: middle;\n",
       "    }\n",
       "\n",
       "    .dataframe tbody tr th {\n",
       "        vertical-align: top;\n",
       "    }\n",
       "\n",
       "    .dataframe thead th {\n",
       "        text-align: right;\n",
       "    }\n",
       "</style>\n",
       "<table border=\"1\" class=\"dataframe\">\n",
       "  <thead>\n",
       "    <tr style=\"text-align: right;\">\n",
       "      <th></th>\n",
       "      <th>id</th>\n",
       "      <th>web-scraper-start-url</th>\n",
       "      <th>text_raw</th>\n",
       "      <th>price_raw</th>\n",
       "      <th>model_raw</th>\n",
       "      <th>type_year_km_transmission_fuel</th>\n",
       "      <th>Location</th>\n",
       "      <th>PLZ</th>\n",
       "      <th>km_raw</th>\n",
       "      <th>Year</th>\n",
       "      <th>price</th>\n",
       "      <th>km</th>\n",
       "      <th>luxury</th>\n",
       "      <th>competition</th>\n",
       "      <th>xDrive</th>\n",
       "      <th>automat</th>\n",
       "      <th>km_cat</th>\n",
       "      <th>km_per_year</th>\n",
       "      <th>km_per_year_cat</th>\n",
       "    </tr>\n",
       "  </thead>\n",
       "  <tbody>\n",
       "    <tr>\n",
       "      <th>0</th>\n",
       "      <td>1705078003-1</td>\n",
       "      <td>https://www.comparis.ch/carfinder/marktplatz/b...</td>\n",
       "      <td>BMW X3 X3 XDRIVE 20D XLINE STEPTRONICCHF 22'90...</td>\n",
       "      <td>CHF 22'900</td>\n",
       "      <td>X3 xDrive 20d xLine Steptronic</td>\n",
       "      <td>Occasion05.2016119.500 kmAutomatDiesel1227 (GE)</td>\n",
       "      <td>GE</td>\n",
       "      <td>1227</td>\n",
       "      <td>119.50</td>\n",
       "      <td>2016</td>\n",
       "      <td>22900</td>\n",
       "      <td>119500.0</td>\n",
       "      <td>0</td>\n",
       "      <td>0</td>\n",
       "      <td>1</td>\n",
       "      <td>1</td>\n",
       "      <td>50-120k</td>\n",
       "      <td>14937.50</td>\n",
       "      <td>medium</td>\n",
       "    </tr>\n",
       "    <tr>\n",
       "      <th>1</th>\n",
       "      <td>1705078003-2</td>\n",
       "      <td>https://www.comparis.ch/carfinder/marktplatz/b...</td>\n",
       "      <td>BMW 540 540ICHF 13'750AB CHF 220 / MONAT5 / 6O...</td>\n",
       "      <td>CHF 13'750</td>\n",
       "      <td>540i</td>\n",
       "      <td>Occasion05.2006124.900 kmAutomatBenzin4461 (BL)</td>\n",
       "      <td>BL</td>\n",
       "      <td>4461</td>\n",
       "      <td>124.90</td>\n",
       "      <td>2006</td>\n",
       "      <td>13750</td>\n",
       "      <td>124900.0</td>\n",
       "      <td>0</td>\n",
       "      <td>0</td>\n",
       "      <td>0</td>\n",
       "      <td>1</td>\n",
       "      <td>120k+</td>\n",
       "      <td>6938.89</td>\n",
       "      <td>low</td>\n",
       "    </tr>\n",
       "    <tr>\n",
       "      <th>2</th>\n",
       "      <td>1705078003-3</td>\n",
       "      <td>https://www.comparis.ch/carfinder/marktplatz/b...</td>\n",
       "      <td>BMW 225 ACTIVE TOURER 225XE IPERFORMANCE ACTIV...</td>\n",
       "      <td>CHF 28'800</td>\n",
       "      <td>225xe iPerformance Active Tourer Steptronic M ...</td>\n",
       "      <td>Occasion09.201928.950 kmAutomatBenzin/Elektro4...</td>\n",
       "      <td>BL</td>\n",
       "      <td>4460</td>\n",
       "      <td>28.95</td>\n",
       "      <td>2019</td>\n",
       "      <td>28800</td>\n",
       "      <td>28950.0</td>\n",
       "      <td>0</td>\n",
       "      <td>0</td>\n",
       "      <td>0</td>\n",
       "      <td>1</td>\n",
       "      <td>0-50k</td>\n",
       "      <td>5790.00</td>\n",
       "      <td>low</td>\n",
       "    </tr>\n",
       "    <tr>\n",
       "      <th>4</th>\n",
       "      <td>1705078003-5</td>\n",
       "      <td>https://www.comparis.ch/carfinder/marktplatz/b...</td>\n",
       "      <td>BMW 530 530XI STEPTRONICCHF 10'900AB CHF 175 /...</td>\n",
       "      <td>CHF 10'900</td>\n",
       "      <td>530xi Steptronic</td>\n",
       "      <td>Occasion06.2008160.000 kmAutomatBenzin6010 (LU)</td>\n",
       "      <td>LU</td>\n",
       "      <td>6010</td>\n",
       "      <td>160.00</td>\n",
       "      <td>2008</td>\n",
       "      <td>10900</td>\n",
       "      <td>160000.0</td>\n",
       "      <td>0</td>\n",
       "      <td>0</td>\n",
       "      <td>0</td>\n",
       "      <td>1</td>\n",
       "      <td>120k+</td>\n",
       "      <td>10000.00</td>\n",
       "      <td>low</td>\n",
       "    </tr>\n",
       "    <tr>\n",
       "      <th>5</th>\n",
       "      <td>1705078003-6</td>\n",
       "      <td>https://www.comparis.ch/carfinder/marktplatz/b...</td>\n",
       "      <td>BMW X5 X5 XDRIVE 40D STEPTRONICCHF 33'900AB CH...</td>\n",
       "      <td>CHF 33'900</td>\n",
       "      <td>X5 xDrive 40d Steptronic</td>\n",
       "      <td>Occasion04.2015125.900 kmAutomatDiesel6964 (TI)</td>\n",
       "      <td>TI</td>\n",
       "      <td>6964</td>\n",
       "      <td>125.90</td>\n",
       "      <td>2015</td>\n",
       "      <td>33900</td>\n",
       "      <td>125900.0</td>\n",
       "      <td>0</td>\n",
       "      <td>0</td>\n",
       "      <td>1</td>\n",
       "      <td>1</td>\n",
       "      <td>120k+</td>\n",
       "      <td>13988.89</td>\n",
       "      <td>medium</td>\n",
       "    </tr>\n",
       "  </tbody>\n",
       "</table>\n",
       "</div>"
      ],
      "text/plain": [
       "             id                              web-scraper-start-url  \\\n",
       "0  1705078003-1  https://www.comparis.ch/carfinder/marktplatz/b...   \n",
       "1  1705078003-2  https://www.comparis.ch/carfinder/marktplatz/b...   \n",
       "2  1705078003-3  https://www.comparis.ch/carfinder/marktplatz/b...   \n",
       "4  1705078003-5  https://www.comparis.ch/carfinder/marktplatz/b...   \n",
       "5  1705078003-6  https://www.comparis.ch/carfinder/marktplatz/b...   \n",
       "\n",
       "                                            text_raw   price_raw  \\\n",
       "0  BMW X3 X3 XDRIVE 20D XLINE STEPTRONICCHF 22'90...  CHF 22'900   \n",
       "1  BMW 540 540ICHF 13'750AB CHF 220 / MONAT5 / 6O...  CHF 13'750   \n",
       "2  BMW 225 ACTIVE TOURER 225XE IPERFORMANCE ACTIV...  CHF 28'800   \n",
       "4  BMW 530 530XI STEPTRONICCHF 10'900AB CHF 175 /...  CHF 10'900   \n",
       "5  BMW X5 X5 XDRIVE 40D STEPTRONICCHF 33'900AB CH...  CHF 33'900   \n",
       "\n",
       "                                           model_raw  \\\n",
       "0                     X3 xDrive 20d xLine Steptronic   \n",
       "1                                               540i   \n",
       "2  225xe iPerformance Active Tourer Steptronic M ...   \n",
       "4                                   530xi Steptronic   \n",
       "5                           X5 xDrive 40d Steptronic   \n",
       "\n",
       "                      type_year_km_transmission_fuel Location   PLZ  km_raw  \\\n",
       "0    Occasion05.2016119.500 kmAutomatDiesel1227 (GE)       GE  1227  119.50   \n",
       "1    Occasion05.2006124.900 kmAutomatBenzin4461 (BL)       BL  4461  124.90   \n",
       "2  Occasion09.201928.950 kmAutomatBenzin/Elektro4...       BL  4460   28.95   \n",
       "4    Occasion06.2008160.000 kmAutomatBenzin6010 (LU)       LU  6010  160.00   \n",
       "5    Occasion04.2015125.900 kmAutomatDiesel6964 (TI)       TI  6964  125.90   \n",
       "\n",
       "   Year  price        km  luxury  competition  xDrive  automat   km_cat  \\\n",
       "0  2016  22900  119500.0       0            0       1        1  50-120k   \n",
       "1  2006  13750  124900.0       0            0       0        1    120k+   \n",
       "2  2019  28800   28950.0       0            0       0        1    0-50k   \n",
       "4  2008  10900  160000.0       0            0       0        1    120k+   \n",
       "5  2015  33900  125900.0       0            0       1        1    120k+   \n",
       "\n",
       "   km_per_year km_per_year_cat  \n",
       "0     14937.50          medium  \n",
       "1      6938.89             low  \n",
       "2      5790.00             low  \n",
       "4     10000.00             low  \n",
       "5     13988.89          medium  "
      ]
     },
     "execution_count": 2,
     "metadata": {},
     "output_type": "execute_result"
    }
   ],
   "source": [
    "# Read data to pandas data frame\n",
    "df_orig = pd.read_csv('bmw_data_prepared.csv', \n",
    "                      sep=',', \n",
    "                      encoding='utf-8')\n",
    "\n",
    "# Copy of data with selected colums\n",
    "columns = [ 'web-scraper-order', \n",
    "                'model_raw',\n",
    "                'Location',\n",
    "                'PLZ',\n",
    "                'Year',\n",
    "                'price',\n",
    "                'km',\n",
    "                'luxury',\n",
    "                'competition',\n",
    "                'xDrive',\n",
    "                'automat',\n",
    "                'km_cat',\n",
    "                'km_per_year',]\n",
    "df = df_orig[columns]\n",
    "\n",
    "# Rename variable 'web-scraper-order' to 'apmt_id'\n",
    "df_orig = df_orig.rename(columns={'web-scraper-order': 'id'})\n",
    "\n",
    "# Remove missing values\n",
    "df = df_orig.dropna()\n",
    "df.head(5)\n",
    "\n",
    "# Remove duplicates\n",
    "df = df.drop_duplicates()\n",
    "\n",
    "# Remove some 'extreme' values\n",
    "df = df.loc[(df['price'] >= 2000) & \n",
    "            (df['price'] <= 100000)]\n",
    "\n",
    "print(df.shape)\n",
    "df.head(5)"
   ]
  },
  {
   "cell_type": "markdown",
   "id": "e43dabac",
   "metadata": {},
   "source": [
    "## Simple linear regression (only one explanatory variable in the model)"
   ]
  },
  {
   "cell_type": "markdown",
   "id": "f2ba09cd",
   "metadata": {},
   "source": [
    "### Create train and test samples (train = 80%, test = 20% of the data)"
   ]
  },
  {
   "cell_type": "code",
   "execution_count": 3,
   "id": "ebba6b44",
   "metadata": {},
   "outputs": [
    {
     "name": "stdout",
     "output_type": "stream",
     "text": [
      "X_train:\n",
      "383    151000.0\n",
      "966     27000.0\n",
      "2       28950.0\n",
      "338    178000.0\n",
      "773    285776.0\n",
      "Name: km, dtype: float64 \n",
      "\n",
      "y_train:\n",
      "383     6999\n",
      "966    39900\n",
      "2      28800\n",
      "338     7500\n",
      "773     3900\n",
      "Name: price, dtype: int64\n"
     ]
    }
   ],
   "source": [
    "# Create train and test samples\n",
    "X_train, X_test, y_train, y_test = train_test_split(df['km'], \n",
    "                                                    df['price'], \n",
    "                                                    test_size=0.20, \n",
    "                                                    random_state=42)\n",
    "# Show X_train\n",
    "print('X_train:')\n",
    "print(X_train.head(), '\\n')\n",
    "\n",
    "# Show y_train\n",
    "print('y_train:')\n",
    "print(y_train.head())"
   ]
  },
  {
   "cell_type": "markdown",
   "id": "f32a7699",
   "metadata": {},
   "source": [
    "### Fit the simple linear regression model"
   ]
  },
  {
   "cell_type": "code",
   "execution_count": 4,
   "id": "8b2fc4ac",
   "metadata": {},
   "outputs": [
    {
     "name": "stdout",
     "output_type": "stream",
     "text": [
      "Linear regression result:\n",
      "Intercept with y-axis (alpha):            57029.72\n",
      "Slope of regression line (beta):          -0.222\n",
      "p-value:                                  0.0000\n",
      "R-squared (coefficient of determination): 0.5016\n"
     ]
    }
   ],
   "source": [
    "# Fit the regression model\n",
    "slope, intercept, r, p, std_err = stats.linregress(X_train, y_train)\n",
    "\n",
    "# Print results of the regression model\n",
    "print('Linear regression result:')\n",
    "print(f'Intercept with y-axis (alpha):            {intercept:.2f}')\n",
    "print(f'Slope of regression line (beta):          {slope:.3f}')\n",
    "print(f'p-value:                                  {p:.4f}')\n",
    "print(f'R-squared (coefficient of determination): {r**2:.4f}')"
   ]
  },
  {
   "cell_type": "markdown",
   "id": "6c6ac29b",
   "metadata": {},
   "source": [
    "### Interpretation"
   ]
  },
  {
   "cell_type": "markdown",
   "id": "41f515c0",
   "metadata": {},
   "source": [
    "Intercept (Alpha): The intercept value of 57,029.72 suggests that when the independent variable (presumably 'km' in your case) is zero, the expected value of the dependent variable (presumably 'price') is approximately 57,029.72. In practical terms, this can be interpreted as the estimated starting price of a BMW vehicle before considering its mileage.\n",
    "\n",
    "Slope (Beta): The slope value of -0.222 indicates the change in the dependent variable ('price') for each one-unit increase in the independent variable ('km'). Specifically, for each additional kilometer driven, the price of the BMW vehicle is expected to decrease by approximately 0.222 units. This negative relationship is typical for used cars, where higher mileage generally corresponds to lower prices.\n",
    "\n",
    "P-value: A p-value of 0.0000 (typically rounded off to four decimal places) suggests that the relationship between mileage and price is statistically significant. In statistical terms, this low p-value (less than 0.05) strongly indicates that the slope is not zero, meaning there is a significant relationship between the car's mileage and its price.\n",
    "\n",
    "R-squared (Coefficient of Determination): An R-squared value of 0.5016 (or 50.16%) indicates that approximately 50.16% of the variability in the dependent variable ('price') can be explained by the independent variable ('km') in your model. This value reflects a moderate level of explanatory power. In other words, while mileage does explain a significant portion of the variance in the price of BMW vehicles, nearly half of the variation in price is determined by other factors not included in the model.\n"
   ]
  },
  {
   "cell_type": "markdown",
   "id": "f22deea3",
   "metadata": {},
   "source": [
    "# Function to calculate model predictions"
   ]
  },
  {
   "cell_type": "code",
   "execution_count": 5,
   "id": "ba87039b",
   "metadata": {},
   "outputs": [
    {
     "name": "stdout",
     "output_type": "stream",
     "text": [
      "Simple Linear Regression RMSE: 14544.30037379875\n",
      "Simple Linear Regression MAE: 11648.537361076918\n"
     ]
    }
   ],
   "source": [
    "def myfunc(x):\n",
    "    return slope * x + intercept\n",
    "\n",
    "# Predictions for Simple Linear Regression\n",
    "simple_predictions = myfunc(X_test)\n",
    "\n",
    "# RMSE and MAE for Simple Linear Regression\n",
    "simple_rmse = np.sqrt(mean_squared_error(y_test, simple_predictions))\n",
    "simple_mae = mean_absolute_error(y_test, simple_predictions)\n",
    "\n",
    "print(\"Simple Linear Regression RMSE:\", simple_rmse)\n",
    "print(\"Simple Linear Regression MAE:\", simple_mae)\n"
   ]
  },
  {
   "cell_type": "markdown",
   "id": "b02d5fa2",
   "metadata": {},
   "source": [
    "### Interpretation"
   ]
  },
  {
   "cell_type": "markdown",
   "id": "94880e10",
   "metadata": {},
   "source": [
    "Root Mean Square Error (RMSE) - 14,544.30: This value suggests that the average difference between the predicted and actual prices of BMW vehicles is about 14,544.30 units. RMSE is sensitive to large errors, meaning if your model makes a few substantial errors, the RMSE value will be significantly affected. It's useful for understanding the magnitude of error, but the context of your data's scale (like average price ranges) is crucial to determine if this is a high or low value.\n",
    "\n",
    "Mean Absolute Error (MAE) - 11,648.54: The MAE indicates that, on average, your model's predictions are off by 11,648.54 units from the actual prices. Unlike RMSE, MAE doesn't penalize large errors as heavily, offering a more straightforward view of the average error."
   ]
  },
  {
   "cell_type": "markdown",
   "id": "473eaddb",
   "metadata": {},
   "source": [
    "### Plot regression line"
   ]
  },
  {
   "cell_type": "code",
   "execution_count": 6,
   "id": "944adc0b",
   "metadata": {},
   "outputs": [
    {
     "data": {
      "image/png": "[encoded data removed]",
      "text/plain": [
       "<Figure size 600x400 with 1 Axes>"
      ]
     },
     "metadata": {},
     "output_type": "display_data"
    }
   ],
   "source": [
    "# Function to calculate model predictions\n",
    "def myfunc(x):\n",
    "    return slope * x + intercept\n",
    "\n",
    "# Apply myfunc() to x, i.e. make predictions \n",
    "mymodel = pd.Series(map(myfunc, X_train))\n",
    "\n",
    "# Scatterplot with regression line\n",
    "plt.figure(figsize=(6,4))\n",
    "plt.scatter(X_train, y_train, s=10, color='green')\n",
    "plt.plot(X_train, mymodel, color='darkred', linestyle='dashed')\n",
    "plt.title('Simple Linear Regression')\n",
    "plt.xlabel('km')\n",
    "plt.ylabel('price (CHF)')\n",
    "\n",
    "plt.show()"
   ]
  },
  {
   "cell_type": "markdown",
   "id": "4168bf46",
   "metadata": {},
   "source": [
    "### Check model residuals (residuals = observed prices minus predicted prices)"
   ]
  },
  {
   "cell_type": "code",
   "execution_count": 7,
   "id": "c706dc0f",
   "metadata": {},
   "outputs": [
    {
     "name": "stdout",
     "output_type": "stream",
     "text": [
      "1st Predicted price in dataset: 23543.30\n",
      "1st Observed price in dataset: 22900.00\n",
      "1st Residual price in dataset: -643.30\n"
     ]
    }
   ],
   "source": [
    "# Calculate model residuals for train data\n",
    "residuals = y_train - mymodel\n",
    "\n",
    "# Check the first residual value in our data set\n",
    "print(f'1st Predicted price in dataset: {mymodel[0]:.2f}')\n",
    "print(f'1st Observed price in dataset: {y_train[0]:.2f}')\n",
    "print(f'1st Residual price in dataset: {residuals[0]:.2f}')"
   ]
  },
  {
   "cell_type": "markdown",
   "id": "a61ae5ac",
   "metadata": {},
   "source": [
    "### Plot histogram of residuals"
   ]
  },
  {
   "cell_type": "code",
   "execution_count": 8,
   "id": "74906286",
   "metadata": {},
   "outputs": [
    {
     "data": {
      "image/png": "[encoded data removed]",
      "text/plain": [
       "<Figure size 700x400 with 1 Axes>"
      ]
     },
     "metadata": {},
     "output_type": "display_data"
    }
   ],
   "source": [
    "# Plot histogram of residuals\n",
    "fig = plt.figure( figsize=(7,4))\n",
    "n, bins, patches = plt.hist(x=residuals, \n",
    "                            bins=25, \n",
    "                            color='blue',\n",
    "                            alpha=0.5\n",
    "                   )\n",
    "\n",
    "# Set title and labels\n",
    "plt.xlabel('residuals', fontsize=10, labelpad=10)\n",
    "plt.ylabel('frequency', fontsize=10, labelpad=10)\n",
    "plt.title('Histogram of model residuals', fontsize=12, pad=10)\n",
    "\n",
    "# Show plot\n",
    "plt.show()"
   ]
  },
  {
   "cell_type": "markdown",
   "id": "b3108ba5",
   "metadata": {},
   "source": [
    "### Compare the observed prices with the predicted prices"
   ]
  },
  {
   "cell_type": "code",
   "execution_count": 9,
   "id": "36cdf7b0",
   "metadata": {},
   "outputs": [
    {
     "name": "stdout",
     "output_type": "stream",
     "text": [
      "Observed price: 22499.0, Predicted price: 43169.4\n",
      "Observed price: 40999.0, Predicted price: 40286.5\n",
      "Observed price: 31990.0, Predicted price: 39687.7\n",
      "Observed price: 49900.0, Predicted price: 40574.8\n",
      "Observed price: 12500.0, Predicted price: 18620.1\n",
      "Observed price: 68690.0, Predicted price: 55843.3\n",
      "Observed price: 59811.0, Predicted price: 55699.1\n",
      "Observed price: 17800.0, Predicted price: 23210.7\n",
      "Observed price: 29000.0, Predicted price: 45054.4\n",
      "Observed price: 99900.0, Predicted price: 53370.6\n"
     ]
    }
   ],
   "source": [
    "# Create model predictions for test data\n",
    "predicted = myfunc(X_test)\n",
    "predicted.round(1)\n",
    "\n",
    "# Compare the observed prices with the predicted prices\n",
    "for i in range(0,10):\n",
    "    print(f'Observed price: {y_test.iloc[i]:.1f}, Predicted price: {predicted.iloc[i]:.1f}')"
   ]
  },
  {
   "cell_type": "markdown",
   "id": "0bf7656b",
   "metadata": {},
   "source": [
    "## Multiple linear regression (more than one explanatory variable in the model)"
   ]
  },
  {
   "cell_type": "markdown",
   "id": "9268293c",
   "metadata": {},
   "source": [
    "### Create train and test samples (train = 80%, test = 20% of the data)"
   ]
  },
  {
   "cell_type": "code",
   "execution_count": 10,
   "id": "26c6c61e",
   "metadata": {},
   "outputs": [
    {
     "name": "stdout",
     "output_type": "stream",
     "text": [
      "X2_train:\n",
      "           km  Year\n",
      "383  151000.0  2013\n",
      "966   27000.0  2023\n",
      "2     28950.0  2019\n",
      "338  178000.0  2008\n",
      "773  285776.0  2007 \n",
      "\n",
      "y2_train:\n",
      "383     6999\n",
      "966    39900\n",
      "2      28800\n",
      "338     7500\n",
      "773     3900\n",
      "Name: price, dtype: int64\n"
     ]
    }
   ],
   "source": [
    "# Create train and test samples (we name it X2_ and y_2 because we already used X_ and y_ above)\n",
    "X2_train, X2_test, y2_train, y2_test = train_test_split(df[['km',\n",
    "                                                            'Year']], \n",
    "                                                        df['price'], \n",
    "                                                        test_size=0.20, \n",
    "                                                        random_state=42)\n",
    "\n",
    "# Show X2_train\n",
    "print('X2_train:')\n",
    "print(X2_train.head(), '\\n')\n",
    "\n",
    "# Show y2_train\n",
    "print('y2_train:')\n",
    "\n",
    "print(y2_train.head())"
   ]
  },
  {
   "cell_type": "markdown",
   "id": "493cef96",
   "metadata": {},
   "source": [
    "### Fit the multiple regression model"
   ]
  },
  {
   "cell_type": "code",
   "execution_count": 11,
   "id": "41939144",
   "metadata": {},
   "outputs": [
    {
     "name": "stdout",
     "output_type": "stream",
     "text": [
      "                            OLS Regression Results                            \n",
      "==============================================================================\n",
      "Dep. Variable:                  price   R-squared:                       0.550\n",
      "Model:                            OLS   Adj. R-squared:                  0.549\n",
      "Method:                 Least Squares   F-statistic:                     411.8\n",
      "Date:                Sat, 13 Jan 2024   Prob (F-statistic):          1.41e-117\n",
      "Time:                        22:28:10   Log-Likelihood:                -7475.4\n",
      "No. Observations:                 677   AIC:                         1.496e+04\n",
      "Df Residuals:                     674   BIC:                         1.497e+04\n",
      "Df Model:                           2                                         \n",
      "Covariance Type:            nonrobust                                         \n",
      "==============================================================================\n",
      "                 coef    std err          t      P>|t|      [0.025      0.975]\n",
      "------------------------------------------------------------------------------\n",
      "const      -2.471e+06   2.97e+05     -8.319      0.000   -3.05e+06   -1.89e+06\n",
      "km            -0.1532      0.011    -13.411      0.000      -0.176      -0.131\n",
      "Year        1250.2897    146.897      8.511      0.000     961.858    1538.721\n",
      "==============================================================================\n",
      "Omnibus:                       43.746   Durbin-Watson:                   2.091\n",
      "Prob(Omnibus):                  0.000   Jarque-Bera (JB):               51.280\n",
      "Skew:                           0.674   Prob(JB):                     7.32e-12\n",
      "Kurtosis:                       2.985   Cond. No.                     6.34e+07\n",
      "==============================================================================\n",
      "\n",
      "Notes:\n",
      "[1] Standard Errors assume that the covariance matrix of the errors is correctly specified.\n",
      "[2] The condition number is large, 6.34e+07. This might indicate that there are\n",
      "strong multicollinearity or other numerical problems.\n"
     ]
    }
   ],
   "source": [
    "# Add constant to the model\n",
    "X2_train_const = sm.add_constant(X2_train)\n",
    "\n",
    "# Create the multiple regression model\n",
    "olsmod = sm.OLS(y_train, X2_train_const)\n",
    "olsres = olsmod.fit()\n",
    "\n",
    "# Print full model output\n",
    "print(olsres.summary())"
   ]
  },
  {
   "cell_type": "markdown",
   "id": "eee9d196",
   "metadata": {},
   "source": [
    "### Predictions for Multiple Linear Regression"
   ]
  },
  {
   "cell_type": "code",
   "execution_count": 12,
   "id": "20af29f9",
   "metadata": {},
   "outputs": [
    {
     "name": "stdout",
     "output_type": "stream",
     "text": [
      "Multiple Linear Regression RMSE: 14141.216900227055\n",
      "Multiple Linear Regression MAE: 11075.605108807713\n",
      "Multiple Linear Regression Adjusted R-squared: 0.5445611925496395\n"
     ]
    }
   ],
   "source": [
    "multiple_predictions = olsres.predict(sm.add_constant(X2_test))\n",
    "\n",
    "# RMSE and MAE for Multiple Linear Regression\n",
    "multiple_rmse = np.sqrt(mean_squared_error(y2_test, multiple_predictions))\n",
    "multiple_mae = mean_absolute_error(y2_test, multiple_predictions)\n",
    "\n",
    "# Adjusted R-squared for Multiple Linear Regression\n",
    "n = len(X2_test)\n",
    "p = X2_train.shape[1]\n",
    "adjusted_r_squared = 1 - (1 - olsres.rsquared) * (n - 1) / (n - p - 1)\n",
    "\n",
    "print(\"Multiple Linear Regression RMSE:\", multiple_rmse)\n",
    "print(\"Multiple Linear Regression MAE:\", multiple_mae)\n",
    "print(\"Multiple Linear Regression Adjusted R-squared:\", adjusted_r_squared)\n"
   ]
  },
  {
   "cell_type": "markdown",
   "id": "6bfc2964",
   "metadata": {},
   "source": [
    "### Interpretation of the statistic results"
   ]
  },
  {
   "cell_type": "markdown",
   "id": "4e62547e",
   "metadata": {},
   "source": [
    "RMSE (14,141.22): Indicates moderate prediction errors in the model.                                    \n",
    "MAE (11,075.61): Shows average prediction errors are around 11,075.61 units.                \n",
    "Adjusted R-squared (0.5446): Suggests the model explains about 54.46% of the variance in prices, which is a moderate fit"
   ]
  },
  {
   "cell_type": "markdown",
   "id": "1cb8a8c5",
   "metadata": {},
   "source": [
    "### Plot histogram of residuals"
   ]
  },
  {
   "cell_type": "code",
   "execution_count": 13,
   "id": "c28ffef9",
   "metadata": {},
   "outputs": [
    {
     "data": {
      "image/png": "[encoded data removed]",
      "text/plain": [
       "<Figure size 800x400 with 1 Axes>"
      ]
     },
     "metadata": {},
     "output_type": "display_data"
    }
   ],
   "source": [
    "# Plot histogram of residuals\n",
    "fig = plt.figure( figsize=(8,4))\n",
    "n, bins, patches = plt.hist(x=olsres.resid, \n",
    "                            bins=25, \n",
    "                            color='blue',\n",
    "                            alpha=0.5\n",
    "                   )\n",
    "\n",
    "# Set labels\n",
    "plt.xlabel('residuals', fontsize=10, labelpad=10)\n",
    "plt.ylabel('frequency', fontsize=10, labelpad=10)\n",
    "plt.title('Histogram of model residuals', fontsize=12, pad=10)\n",
    "\n",
    "plt.show()"
   ]
  },
  {
   "cell_type": "markdown",
   "id": "5dd244d9",
   "metadata": {},
   "source": [
    "### Compare the observed prices with the predicted prices"
   ]
  },
  {
   "cell_type": "code",
   "execution_count": 14,
   "id": "798fac9c",
   "metadata": {},
   "outputs": [
    {
     "name": "stdout",
     "output_type": "stream",
     "text": [
      "Observed price: 22499.0, Predicted price: 45190.5\n",
      "Observed price: 40999.0, Predicted price: 41949.1\n",
      "Observed price: 31990.0, Predicted price: 35284.1\n",
      "Observed price: 49900.0, Predicted price: 43398.5\n",
      "Observed price: 12500.0, Predicted price: 18233.1\n",
      "Observed price: 68690.0, Predicted price: 57694.6\n",
      "Observed price: 59811.0, Predicted price: 57595.0\n",
      "Observed price: 17800.0, Predicted price: 25154.4\n",
      "Observed price: 29000.0, Predicted price: 42741.5\n",
      "Observed price: 99900.0, Predicted price: 54736.5\n"
     ]
    }
   ],
   "source": [
    "# Add constant to X2_test\n",
    "X2_test_const = sm.add_constant(X2_test)\n",
    "predicted_new = olsres.predict(X2_test_const)\n",
    "\n",
    "# Compare the observed prices with the predicted prices\n",
    "for i in range(0,10):\n",
    "    print(f'Observed price: {y_test.iloc[i]:.1f}, Predicted price: {predicted_new.iloc[i]:.1f}')"
   ]
  },
  {
   "cell_type": "markdown",
   "id": "371aee17",
   "metadata": {},
   "source": [
    "### Statistical measures (min, max std, mean, median, count) for ratings"
   ]
  },
  {
   "cell_type": "code",
   "execution_count": 15,
   "id": "b6f2ee5c",
   "metadata": {},
   "outputs": [
    {
     "data": {
      "text/html": [
       "<div>\n",
       "<style scoped>\n",
       "    .dataframe tbody tr th:only-of-type {\n",
       "        vertical-align: middle;\n",
       "    }\n",
       "\n",
       "    .dataframe tbody tr th {\n",
       "        vertical-align: top;\n",
       "    }\n",
       "\n",
       "    .dataframe thead th {\n",
       "        text-align: right;\n",
       "    }\n",
       "</style>\n",
       "<table border=\"1\" class=\"dataframe\">\n",
       "  <thead>\n",
       "    <tr style=\"text-align: right;\">\n",
       "      <th></th>\n",
       "      <th>PLZ</th>\n",
       "      <th>km_raw</th>\n",
       "      <th>Year</th>\n",
       "      <th>price</th>\n",
       "      <th>km</th>\n",
       "      <th>luxury</th>\n",
       "      <th>competition</th>\n",
       "      <th>xDrive</th>\n",
       "      <th>automat</th>\n",
       "      <th>km_per_year</th>\n",
       "    </tr>\n",
       "  </thead>\n",
       "  <tbody>\n",
       "    <tr>\n",
       "      <th>count</th>\n",
       "      <td>847.000000</td>\n",
       "      <td>847.000000</td>\n",
       "      <td>847.000000</td>\n",
       "      <td>847.000000</td>\n",
       "      <td>847.000000</td>\n",
       "      <td>847.000000</td>\n",
       "      <td>847.000000</td>\n",
       "      <td>847.000000</td>\n",
       "      <td>847.000000</td>\n",
       "      <td>847.000000</td>\n",
       "    </tr>\n",
       "    <tr>\n",
       "      <th>mean</th>\n",
       "      <td>6006.105077</td>\n",
       "      <td>100.331434</td>\n",
       "      <td>2016.351830</td>\n",
       "      <td>34602.563164</td>\n",
       "      <td>100331.434475</td>\n",
       "      <td>0.027155</td>\n",
       "      <td>0.033058</td>\n",
       "      <td>0.664699</td>\n",
       "      <td>0.885478</td>\n",
       "      <td>13807.413648</td>\n",
       "    </tr>\n",
       "    <tr>\n",
       "      <th>std</th>\n",
       "      <td>2623.609855</td>\n",
       "      <td>70.864763</td>\n",
       "      <td>5.437062</td>\n",
       "      <td>22443.445174</td>\n",
       "      <td>70864.763063</td>\n",
       "      <td>0.162630</td>\n",
       "      <td>0.178893</td>\n",
       "      <td>0.472375</td>\n",
       "      <td>0.318632</td>\n",
       "      <td>6475.976178</td>\n",
       "    </tr>\n",
       "    <tr>\n",
       "      <th>min</th>\n",
       "      <td>1000.000000</td>\n",
       "      <td>1.000000</td>\n",
       "      <td>1982.000000</td>\n",
       "      <td>2000.000000</td>\n",
       "      <td>1000.000000</td>\n",
       "      <td>0.000000</td>\n",
       "      <td>0.000000</td>\n",
       "      <td>0.000000</td>\n",
       "      <td>0.000000</td>\n",
       "      <td>1000.000000</td>\n",
       "    </tr>\n",
       "    <tr>\n",
       "      <th>25%</th>\n",
       "      <td>3930.000000</td>\n",
       "      <td>43.000000</td>\n",
       "      <td>2014.000000</td>\n",
       "      <td>16500.000000</td>\n",
       "      <td>43000.000000</td>\n",
       "      <td>0.000000</td>\n",
       "      <td>0.000000</td>\n",
       "      <td>0.000000</td>\n",
       "      <td>1.000000</td>\n",
       "      <td>9573.145000</td>\n",
       "    </tr>\n",
       "    <tr>\n",
       "      <th>50%</th>\n",
       "      <td>6331.000000</td>\n",
       "      <td>87.500000</td>\n",
       "      <td>2018.000000</td>\n",
       "      <td>29990.000000</td>\n",
       "      <td>87500.000000</td>\n",
       "      <td>0.000000</td>\n",
       "      <td>0.000000</td>\n",
       "      <td>1.000000</td>\n",
       "      <td>1.000000</td>\n",
       "      <td>13222.220000</td>\n",
       "    </tr>\n",
       "    <tr>\n",
       "      <th>75%</th>\n",
       "      <td>8404.000000</td>\n",
       "      <td>146.143000</td>\n",
       "      <td>2020.000000</td>\n",
       "      <td>49900.000000</td>\n",
       "      <td>146143.000000</td>\n",
       "      <td>0.000000</td>\n",
       "      <td>0.000000</td>\n",
       "      <td>1.000000</td>\n",
       "      <td>1.000000</td>\n",
       "      <td>17183.335000</td>\n",
       "    </tr>\n",
       "    <tr>\n",
       "      <th>max</th>\n",
       "      <td>9630.000000</td>\n",
       "      <td>394.000000</td>\n",
       "      <td>2023.000000</td>\n",
       "      <td>99900.000000</td>\n",
       "      <td>394000.000000</td>\n",
       "      <td>1.000000</td>\n",
       "      <td>1.000000</td>\n",
       "      <td>1.000000</td>\n",
       "      <td>1.000000</td>\n",
       "      <td>42000.000000</td>\n",
       "    </tr>\n",
       "  </tbody>\n",
       "</table>\n",
       "</div>"
      ],
      "text/plain": [
       "               PLZ      km_raw         Year         price             km  \\\n",
       "count   847.000000  847.000000   847.000000    847.000000     847.000000   \n",
       "mean   6006.105077  100.331434  2016.351830  34602.563164  100331.434475   \n",
       "std    2623.609855   70.864763     5.437062  22443.445174   70864.763063   \n",
       "min    1000.000000    1.000000  1982.000000   2000.000000    1000.000000   \n",
       "25%    3930.000000   43.000000  2014.000000  16500.000000   43000.000000   \n",
       "50%    6331.000000   87.500000  2018.000000  29990.000000   87500.000000   \n",
       "75%    8404.000000  146.143000  2020.000000  49900.000000  146143.000000   \n",
       "max    9630.000000  394.000000  2023.000000  99900.000000  394000.000000   \n",
       "\n",
       "           luxury  competition      xDrive     automat   km_per_year  \n",
       "count  847.000000   847.000000  847.000000  847.000000    847.000000  \n",
       "mean     0.027155     0.033058    0.664699    0.885478  13807.413648  \n",
       "std      0.162630     0.178893    0.472375    0.318632   6475.976178  \n",
       "min      0.000000     0.000000    0.000000    0.000000   1000.000000  \n",
       "25%      0.000000     0.000000    0.000000    1.000000   9573.145000  \n",
       "50%      0.000000     0.000000    1.000000    1.000000  13222.220000  \n",
       "75%      0.000000     0.000000    1.000000    1.000000  17183.335000  \n",
       "max      1.000000     1.000000    1.000000    1.000000  42000.000000  "
      ]
     },
     "execution_count": 15,
     "metadata": {},
     "output_type": "execute_result"
    }
   ],
   "source": [
    "df.describe()"
   ]
  },
  {
   "cell_type": "markdown",
   "id": "b3468eec",
   "metadata": {},
   "source": [
    "### Jupyter notebook --footer info-- (please always provide this at the end of each submitted notebook)"
   ]
  },
  {
   "cell_type": "code",
   "execution_count": 16,
   "id": "64f26a9e",
   "metadata": {},
   "outputs": [
    {
     "name": "stdout",
     "output_type": "stream",
     "text": [
      "-----------------------------------\n",
      "POSIX\n",
      "Linux | 6.2.0-1018-azure\n",
      "Datetime: 2024-01-13 22:28:11\n",
      "Python Version: 3.10.13\n",
      "-----------------------------------\n"
     ]
    }
   ],
   "source": [
    "import os\n",
    "import platform\n",
    "import socket\n",
    "from platform import python_version\n",
    "from datetime import datetime\n",
    "\n",
    "print('-----------------------------------')\n",
    "print(os.name.upper())\n",
    "print(platform.system(), '|', platform.release())\n",
    "print('Datetime:', datetime.now().strftime(\"%Y-%m-%d %H:%M:%S\"))\n",
    "print('Python Version:', python_version())\n",
    "print('-----------------------------------')"
   ]
  }
 ],
 "metadata": {
  "kernelspec": {
   "display_name": "Python 3 (ipykernel)",
   "language": "python",
   "name": "python3"
  },
  "language_info": {
   "codemirror_mode": {
    "name": "ipython",
    "version": 3
   },
   "file_extension": ".py",
   "mimetype": "text/x-python",
   "name": "python",
   "nbconvert_exporter": "python",
   "pygments_lexer": "ipython3",
   "version": "3.10.13"
  }
 },
 "nbformat": 4,
 "nbformat_minor": 5
}
