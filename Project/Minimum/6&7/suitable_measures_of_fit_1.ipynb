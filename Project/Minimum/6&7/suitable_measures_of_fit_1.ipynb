{
 "cells": [
  {
   "cell_type": "markdown",
   "id": "1e84aff8",
   "metadata": {},
   "source": [
    "# Suitable measures of fit r-squared and Root Mean Squared Error"
   ]
  },
  {
   "cell_type": "markdown",
   "id": "d9ca506b",
   "metadata": {},
   "source": [
    "## Libraries and settings"
   ]
  },
  {
   "cell_type": "code",
   "execution_count": 16,
   "id": "3cc498a3",
   "metadata": {},
   "outputs": [
    {
     "name": "stdout",
     "output_type": "stream",
     "text": [
      "/workspaces/DA_Project/Project/Minimum/6&7\n"
     ]
    }
   ],
   "source": [
    "# Libraries\n",
    "import os\n",
    "import pandas as pd\n",
    "from sklearn.model_selection import train_test_split\n",
    "from sklearn.linear_model import LinearRegression\n",
    "from sklearn.metrics import mean_squared_error, r2_score\n",
    "import numpy as np\n",
    "import re\n",
    "\n",
    "\n",
    "\n",
    "# Ignore warnings\n",
    "import warnings\n",
    "warnings.filterwarnings('ignore')\n",
    "\n",
    "# Show current working directory\n",
    "print(os.getcwd())"
   ]
  },
  {
   "cell_type": "markdown",
   "id": "514d3419",
   "metadata": {},
   "source": [
    "## Import the file"
   ]
  },
  {
   "cell_type": "code",
   "execution_count": 17,
   "id": "fc8846ed",
   "metadata": {},
   "outputs": [],
   "source": [
    "# Laden der Daten\n",
    "file_path = 'bmw_data_prepared.csv' \n",
    "bmw_data = pd.read_csv(file_path)"
   ]
  },
  {
   "cell_type": "markdown",
   "id": "e43dabac",
   "metadata": {},
   "source": [
    "## Datenvorbereitung"
   ]
  },
  {
   "cell_type": "markdown",
   "id": "f2ba09cd",
   "metadata": {},
   "source": [
    "### Extrahieren von Jahr, Kilometerstand und Treibstoffart"
   ]
  },
  {
   "cell_type": "code",
   "execution_count": 18,
   "id": "ebba6b44",
   "metadata": {},
   "outputs": [],
   "source": [
    "import re\n",
    "import pandas as pd\n",
    "\n",
    "bmw_data['year'] = bmw_data['type_year_km_transmission_fuel'].apply(lambda x: re.search(r'\\d{4}', x).group() if re.search(r'\\d{4}', x) else None)\n",
    "\n",
    "bmw_data['km'] = bmw_data['type_year_km_transmission_fuel'].apply(lambda x: re.search(r'(\\d+\\.?\\d*) km', x).group(1).replace('.', '') if re.search(r'(\\d+\\.?\\d*) km', x) else None)\n",
    "\n",
    "bmw_data['fuel'] = bmw_data['type_year_km_transmission_fuel'].apply(lambda x: re.search(r'(Diesel|Benzin)', x).group(1) if re.search(r'(Diesel|Benzin)', x) else None)\n",
    "\n",
    "# Umwandlung von 'year' und 'km' in numerische Werte\n",
    "bmw_data['year'] = pd.to_numeric(bmw_data['year'], errors='coerce')  # Use errors='coerce' to handle None values\n",
    "bmw_data['km'] = pd.to_numeric(bmw_data['km'], errors='coerce')  # Use errors='coerce' to handle None values\n",
    "\n",
    "# One-hot-Encoding für den Treibstofftyp\n",
    "bmw_data = pd.get_dummies(bmw_data, columns=['fuel'], drop_first=True)\n"
   ]
  },
  {
   "cell_type": "markdown",
   "id": "f32a7699",
   "metadata": {},
   "source": [
    "### Auswahl der Features und des Zielwerts"
   ]
  },
  {
   "cell_type": "code",
   "execution_count": 19,
   "id": "8b2fc4ac",
   "metadata": {},
   "outputs": [],
   "source": [
    "X = bmw_data[['year', 'km', 'fuel_Diesel']]\n",
    "y = bmw_data['price']"
   ]
  },
  {
   "cell_type": "markdown",
   "id": "473eaddb",
   "metadata": {},
   "source": [
    "### Aufteilen der Daten in Trainings- und Testsets"
   ]
  },
  {
   "cell_type": "code",
   "execution_count": 20,
   "id": "944adc0b",
   "metadata": {},
   "outputs": [],
   "source": [
    "X_train, X_test, y_train, y_test = train_test_split(X, y, test_size=0.2, random_state=42)\n",
    "\n",
    "# Erstellen des Modells\n",
    "model = LinearRegression()\n",
    "model.fit(X_train, y_train)\n",
    "\n",
    "# Vorhersage der Preise\n",
    "y_pred = model.predict(X_test)"
   ]
  },
  {
   "cell_type": "markdown",
   "id": "4168bf46",
   "metadata": {},
   "source": [
    "### Bewertung des Modells"
   ]
  },
  {
   "cell_type": "code",
   "execution_count": 21,
   "id": "c706dc0f",
   "metadata": {},
   "outputs": [
    {
     "name": "stdout",
     "output_type": "stream",
     "text": [
      "R-Quadrat: 0.5072895311436583\n",
      "Mittlerer quadratischer Fehler (MSE): 582911682.7142453\n",
      "Root Mean Squared Error (RMSE): 24143.564001908362\n"
     ]
    }
   ],
   "source": [
    "# Bewertung des Modells\n",
    "r2 = r2_score(y_test, y_pred)\n",
    "mse = mean_squared_error(y_test, y_pred)\n",
    "rmse = np.sqrt(mse)  # Berechnung des RMSE\n",
    "\n",
    "\n",
    "print(f'R-Quadrat: {r2}')\n",
    "print(f'Mittlerer quadratischer Fehler (MSE): {mse}')\n",
    "print(f'Root Mean Squared Error (RMSE): {rmse}')"
   ]
  },
  {
   "cell_type": "markdown",
   "id": "b3468eec",
   "metadata": {},
   "source": [
    "### Jupyter notebook --footer info-- (please always provide this at the end of each submitted notebook)"
   ]
  },
  {
   "cell_type": "code",
   "execution_count": 22,
   "id": "64f26a9e",
   "metadata": {},
   "outputs": [
    {
     "name": "stdout",
     "output_type": "stream",
     "text": [
      "-----------------------------------\n",
      "POSIX\n",
      "Linux | 6.2.0-1018-azure\n",
      "Datetime: 2024-01-13 12:24:01\n",
      "Python Version: 3.10.13\n",
      "-----------------------------------\n"
     ]
    }
   ],
   "source": [
    "import os\n",
    "import platform\n",
    "import socket\n",
    "from platform import python_version\n",
    "from datetime import datetime\n",
    "\n",
    "print('-----------------------------------')\n",
    "print(os.name.upper())\n",
    "print(platform.system(), '|', platform.release())\n",
    "print('Datetime:', datetime.now().strftime(\"%Y-%m-%d %H:%M:%S\"))\n",
    "print('Python Version:', python_version())\n",
    "print('-----------------------------------')"
   ]
  }
 ],
 "metadata": {
  "kernelspec": {
   "display_name": "Python 3 (ipykernel)",
   "language": "python",
   "name": "python3"
  },
  "language_info": {
   "codemirror_mode": {
    "name": "ipython",
    "version": 3
   },
   "file_extension": ".py",
   "mimetype": "text/x-python",
   "name": "python",
   "nbconvert_exporter": "python",
   "pygments_lexer": "ipython3",
   "version": "3.10.13"
  }
 },
 "nbformat": 4,
 "nbformat_minor": 5
}
