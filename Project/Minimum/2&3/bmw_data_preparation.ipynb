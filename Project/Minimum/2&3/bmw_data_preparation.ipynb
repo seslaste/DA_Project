{
 "cells": [
  {
   "cell_type": "markdown",
   "id": "3272230e",
   "metadata": {},
   "source": []
  },
  {
   "cell_type": "markdown",
   "id": "b626bc09",
   "metadata": {},
   "source": [
    "# Importing and preparing rental apartments data"
   ]
  },
  {
   "cell_type": "markdown",
   "id": "c0e6a164",
   "metadata": {},
   "source": [
    "## Libraries and settings"
   ]
  },
  {
   "cell_type": "code",
   "execution_count": 77,
   "id": "e3b51c23",
   "metadata": {},
   "outputs": [
    {
     "name": "stdout",
     "output_type": "stream",
     "text": [
      "/workspaces/DA_Project/Project/Minimum/2&3\n"
     ]
    }
   ],
   "source": [
    "# Libraries\n",
    "import os\n",
    "import re\n",
    "import time\n",
    "import fnmatch\n",
    "import numpy as np\n",
    "import pandas as pd\n",
    "\n",
    "# Ignore warnings\n",
    "import warnings\n",
    "warnings.filterwarnings(\"ignore\")\n",
    "\n",
    "# Get current working directory\n",
    "print(os.getcwd())"
   ]
  },
  {
   "cell_type": "markdown",
   "id": "2a7bff4a",
   "metadata": {},
   "source": [
    "## Importing data"
   ]
  },
  {
   "cell_type": "code",
   "execution_count": 78,
   "id": "aa8f37dd",
   "metadata": {
    "scrolled": true
   },
   "outputs": [
    {
     "name": "stdout",
     "output_type": "stream",
     "text": [
      "comparis_bmw.csv\n",
      "bmw_data_prepared.csv\n"
     ]
    },
    {
     "data": {
      "text/html": [
       "<div>\n",
       "<style scoped>\n",
       "    .dataframe tbody tr th:only-of-type {\n",
       "        vertical-align: middle;\n",
       "    }\n",
       "\n",
       "    .dataframe tbody tr th {\n",
       "        vertical-align: top;\n",
       "    }\n",
       "\n",
       "    .dataframe thead th {\n",
       "        text-align: right;\n",
       "    }\n",
       "</style>\n",
       "<table border=\"1\" class=\"dataframe\">\n",
       "  <thead>\n",
       "    <tr style=\"text-align: right;\">\n",
       "      <th></th>\n",
       "      <th>web-scraper-order</th>\n",
       "      <th>web-scraper-start-url</th>\n",
       "      <th>text_raw</th>\n",
       "      <th>price_raw</th>\n",
       "      <th>model_raw</th>\n",
       "      <th>type_year_km_transmission_fuel</th>\n",
       "    </tr>\n",
       "  </thead>\n",
       "  <tbody>\n",
       "    <tr>\n",
       "      <th>0</th>\n",
       "      <td>1705078003-1</td>\n",
       "      <td>https://www.comparis.ch/carfinder/marktplatz/b...</td>\n",
       "      <td>BMW X3 X3 xDrive 20d xLine SteptronicCHF 22'90...</td>\n",
       "      <td>CHF 22'900</td>\n",
       "      <td>X3 xDrive 20d xLine Steptronic</td>\n",
       "      <td>Occasion05.2016119.500 kmAutomatDiesel1227 (GE)</td>\n",
       "    </tr>\n",
       "    <tr>\n",
       "      <th>1</th>\n",
       "      <td>1705078003-2</td>\n",
       "      <td>https://www.comparis.ch/carfinder/marktplatz/b...</td>\n",
       "      <td>BMW 540 540iCHF 13'750ab CHF 220 / Monat5 / 6O...</td>\n",
       "      <td>CHF 13'750</td>\n",
       "      <td>540i</td>\n",
       "      <td>Occasion05.2006124.900 kmAutomatBenzin4461 (BL)</td>\n",
       "    </tr>\n",
       "    <tr>\n",
       "      <th>2</th>\n",
       "      <td>1705078003-3</td>\n",
       "      <td>https://www.comparis.ch/carfinder/marktplatz/b...</td>\n",
       "      <td>BMW 225 Active Tourer 225xe iPerformance Activ...</td>\n",
       "      <td>CHF 28'800</td>\n",
       "      <td>225xe iPerformance Active Tourer Steptronic M ...</td>\n",
       "      <td>Occasion09.201928.950 kmAutomatBenzin/Elektro4...</td>\n",
       "    </tr>\n",
       "    <tr>\n",
       "      <th>3</th>\n",
       "      <td>1705078003-4</td>\n",
       "      <td>https://www.comparis.ch/carfinder/marktplatz/b...</td>\n",
       "      <td>BMW 316 316i CompactCHF 1'100Occasion04.200024...</td>\n",
       "      <td>CHF 1'100</td>\n",
       "      <td>316i Compact</td>\n",
       "      <td>Occasion04.2000248.013 kmAutomatBenzin6300 (ZG)</td>\n",
       "    </tr>\n",
       "    <tr>\n",
       "      <th>4</th>\n",
       "      <td>1705078003-5</td>\n",
       "      <td>https://www.comparis.ch/carfinder/marktplatz/b...</td>\n",
       "      <td>BMW 530 530xi SteptronicCHF 10'900ab CHF 175 /...</td>\n",
       "      <td>CHF 10'900</td>\n",
       "      <td>530xi Steptronic</td>\n",
       "      <td>Occasion06.2008160.000 kmAutomatBenzin6010 (LU)</td>\n",
       "    </tr>\n",
       "  </tbody>\n",
       "</table>\n",
       "</div>"
      ],
      "text/plain": [
       "  web-scraper-order                              web-scraper-start-url  \\\n",
       "0      1705078003-1  https://www.comparis.ch/carfinder/marktplatz/b...   \n",
       "1      1705078003-2  https://www.comparis.ch/carfinder/marktplatz/b...   \n",
       "2      1705078003-3  https://www.comparis.ch/carfinder/marktplatz/b...   \n",
       "3      1705078003-4  https://www.comparis.ch/carfinder/marktplatz/b...   \n",
       "4      1705078003-5  https://www.comparis.ch/carfinder/marktplatz/b...   \n",
       "\n",
       "                                            text_raw   price_raw  \\\n",
       "0  BMW X3 X3 xDrive 20d xLine SteptronicCHF 22'90...  CHF 22'900   \n",
       "1  BMW 540 540iCHF 13'750ab CHF 220 / Monat5 / 6O...  CHF 13'750   \n",
       "2  BMW 225 Active Tourer 225xe iPerformance Activ...  CHF 28'800   \n",
       "3  BMW 316 316i CompactCHF 1'100Occasion04.200024...   CHF 1'100   \n",
       "4  BMW 530 530xi SteptronicCHF 10'900ab CHF 175 /...  CHF 10'900   \n",
       "\n",
       "                                           model_raw  \\\n",
       "0                     X3 xDrive 20d xLine Steptronic   \n",
       "1                                               540i   \n",
       "2  225xe iPerformance Active Tourer Steptronic M ...   \n",
       "3                                       316i Compact   \n",
       "4                                   530xi Steptronic   \n",
       "\n",
       "                      type_year_km_transmission_fuel  \n",
       "0    Occasion05.2016119.500 kmAutomatDiesel1227 (GE)  \n",
       "1    Occasion05.2006124.900 kmAutomatBenzin4461 (BL)  \n",
       "2  Occasion09.201928.950 kmAutomatBenzin/Elektro4...  \n",
       "3    Occasion04.2000248.013 kmAutomatBenzin6300 (ZG)  \n",
       "4    Occasion06.2008160.000 kmAutomatBenzin6010 (LU)  "
      ]
     },
     "execution_count": 78,
     "metadata": {},
     "output_type": "execute_result"
    }
   ],
   "source": [
    "# Show .csv - files in the directory\n",
    "flist = fnmatch.filter(os.listdir('.'), '*.csv')\n",
    "for i in flist:\n",
    "    print(i)\n",
    "\n",
    "# Read the data to a pandas data frame\n",
    "df = pd.read_csv('comparis_bmw.csv', sep=',', encoding='utf-8')\n",
    "\n",
    "# Show first records of data frame\n",
    "df.head()"
   ]
  },
  {
   "cell_type": "markdown",
   "id": "b95e9f0e",
   "metadata": {},
   "source": [
    "## Count number of rows and columns in the data frame"
   ]
  },
  {
   "cell_type": "code",
   "execution_count": 79,
   "id": "ec7391ad",
   "metadata": {},
   "outputs": [
    {
     "name": "stdout",
     "output_type": "stream",
     "text": [
      "Dimension: (990, 6)\n",
      "Number of rows: 990\n",
      "Number of columns: 6\n"
     ]
    }
   ],
   "source": [
    "# Dimension (rows, columns)\n",
    "print('Dimension:', df.shape)\n",
    "\n",
    "# Number of rows\n",
    "print('Number of rows:', df.shape[0])\n",
    "\n",
    "# Number of columns\n",
    "print('Number of columns:', df.shape[1])"
   ]
  },
  {
   "cell_type": "markdown",
   "id": "ace6d22c",
   "metadata": {},
   "source": [
    "## Get data types (raw-format from web scraping)"
   ]
  },
  {
   "cell_type": "code",
   "execution_count": 80,
   "id": "dd9244a5",
   "metadata": {},
   "outputs": [
    {
     "data": {
      "text/plain": [
       "web-scraper-order                 object\n",
       "web-scraper-start-url             object\n",
       "text_raw                          object\n",
       "price_raw                         object\n",
       "model_raw                         object\n",
       "type_year_km_transmission_fuel    object\n",
       "dtype: object"
      ]
     },
     "execution_count": 80,
     "metadata": {},
     "output_type": "execute_result"
    }
   ],
   "source": [
    "# Get data types (note that in pandas, a string is referred to as 'object')\n",
    "df.dtypes"
   ]
  },
  {
   "cell_type": "markdown",
   "id": "9ea951fd",
   "metadata": {},
   "source": [
    "## Extract and save relevant information from raw data using regular expressions (regex)"
   ]
  },
  {
   "cell_type": "markdown",
   "id": "7c3be629",
   "metadata": {},
   "source": [
    "### Output type_year_km_transmission_fuel"
   ]
  },
  {
   "cell_type": "code",
   "execution_count": 81,
   "id": "090ef7a8",
   "metadata": {},
   "outputs": [
    {
     "name": "stdout",
     "output_type": "stream",
     "text": [
      "0      Occasion05.2016119.500 kmAutomatDiesel1227 (GE)\n",
      "1      Occasion05.2006124.900 kmAutomatBenzin4461 (BL)\n",
      "2    Occasion09.201928.950 kmAutomatBenzin/Elektro4...\n",
      "3      Occasion04.2000248.013 kmAutomatBenzin6300 (ZG)\n",
      "4      Occasion06.2008160.000 kmAutomatBenzin6010 (LU)\n",
      "Name: type_year_km_transmission_fuel, dtype: object \n",
      "\n"
     ]
    }
   ],
   "source": [
    "print(df['type_year_km_transmission_fuel'].head(5), '\\n')"
   ]
  },
  {
   "cell_type": "markdown",
   "id": "e8c4e3e2",
   "metadata": {},
   "source": [
    "## Extract and save relevant information from raw data using regular expressions (regex)"
   ]
  },
  {
   "cell_type": "markdown",
   "id": "bc6f9b0e",
   "metadata": {},
   "source": [
    "### Extract Location"
   ]
  },
  {
   "cell_type": "code",
   "execution_count": 82,
   "id": "37d31afe",
   "metadata": {},
   "outputs": [
    {
     "name": "stdout",
     "output_type": "stream",
     "text": [
      "0      Occasion05.2016119.500 kmAutomatDiesel1227 (GE)\n",
      "1      Occasion05.2006124.900 kmAutomatBenzin4461 (BL)\n",
      "2    Occasion09.201928.950 kmAutomatBenzin/Elektro4...\n",
      "3      Occasion04.2000248.013 kmAutomatBenzin6300 (ZG)\n",
      "4      Occasion06.2008160.000 kmAutomatBenzin6010 (LU)\n",
      "Name: type_year_km_transmission_fuel, dtype: object \n",
      "\n",
      "0    GE\n",
      "1    BL\n",
      "2    BL\n",
      "3    ZG\n",
      "4    LU\n",
      "Name: Location, dtype: object\n"
     ]
    }
   ],
   "source": [
    "# Extrahiere Location\n",
    "Location = []\n",
    "for item in df['type_year_km_transmission_fuel']:\n",
    "    location = re.findall(r'\\((.*?)\\)', item)\n",
    "    try:\n",
    "        Location.append(location[0])\n",
    "    except:\n",
    "        Location.append(None)\n",
    "\n",
    "# Füge Location als neue Spalte hinzu\n",
    "df['Location'] = pd.Series(Location, dtype='str')\n",
    "\n",
    "# Zeige die ersten 5 Werte \n",
    "print(df['type_year_km_transmission_fuel'].head(5), '\\n')\n",
    "print(df['Location'].head(5))"
   ]
  },
  {
   "cell_type": "markdown",
   "id": "8bbe8192",
   "metadata": {},
   "source": [
    "### Extract PLZ"
   ]
  },
  {
   "cell_type": "code",
   "execution_count": 83,
   "id": "8df3d52b",
   "metadata": {},
   "outputs": [
    {
     "name": "stdout",
     "output_type": "stream",
     "text": [
      "0      Occasion05.2016119.500 kmAutomatDiesel1227 (GE)\n",
      "1      Occasion05.2006124.900 kmAutomatBenzin4461 (BL)\n",
      "2    Occasion09.201928.950 kmAutomatBenzin/Elektro4...\n",
      "3      Occasion04.2000248.013 kmAutomatBenzin6300 (ZG)\n",
      "4      Occasion06.2008160.000 kmAutomatBenzin6010 (LU)\n",
      "Name: type_year_km_transmission_fuel, dtype: object \n",
      "\n",
      "0    1227\n",
      "1    4461\n",
      "2    4460\n",
      "3    6300\n",
      "4    6010\n",
      "Name: PLZ, dtype: Int64\n"
     ]
    }
   ],
   "source": [
    "# Extrahiere PLZ\n",
    "PLZ = []\n",
    "for item in df['type_year_km_transmission_fuel']:\n",
    "    plz = re.search(r'(\\d{4}) \\(([^)]+)\\)', item)\n",
    "    if plz:\n",
    "        PLZ.append(plz.group(1))\n",
    "    else:\n",
    "        PLZ.append(None)\n",
    "\n",
    "# Füge PLZ als neue Spalte hinzu\n",
    "df['PLZ'] = pd.Series(PLZ, dtype=\"Int64\")\n",
    "\n",
    "# Zeige die ersten 5 Werte\n",
    "print(df['type_year_km_transmission_fuel'].head(5), '\\n')\n",
    "print(df['PLZ'].head(5))"
   ]
  },
  {
   "cell_type": "markdown",
   "id": "34aa8785",
   "metadata": {},
   "source": [
    "### Extract km"
   ]
  },
  {
   "cell_type": "code",
   "execution_count": 84,
   "id": "2cdcab4e",
   "metadata": {},
   "outputs": [
    {
     "name": "stdout",
     "output_type": "stream",
     "text": [
      "0      Occasion05.2016119.500 kmAutomatDiesel1227 (GE)\n",
      "1      Occasion05.2006124.900 kmAutomatBenzin4461 (BL)\n",
      "2    Occasion09.201928.950 kmAutomatBenzin/Elektro4...\n",
      "3      Occasion04.2000248.013 kmAutomatBenzin6300 (ZG)\n",
      "4      Occasion06.2008160.000 kmAutomatBenzin6010 (LU)\n",
      "Name: type_year_km_transmission_fuel, dtype: object \n",
      "\n",
      "0    119.500\n",
      "1    124.900\n",
      "2     28.950\n",
      "3    248.013\n",
      "4    160.000\n",
      "Name: km_raw, dtype: object\n"
     ]
    }
   ],
   "source": [
    "# Extrahiere km\n",
    "KM = []\n",
    "for item in df['type_year_km_transmission_fuel']:\n",
    "    km_raw = re.search(r'.\\d{4}(\\d+\\.\\d+)', item)\n",
    "    if km_raw:\n",
    "        KM.append(km_raw.group(1))\n",
    "    else:\n",
    "        KM.append(None)\n",
    "\n",
    "# Füge Year als neue Spalte hinzu\n",
    "df['km_raw'] = pd.Series(KM, dtype=\"object\")\n",
    "\n",
    "# Zeige die ersten 5 Werte\n",
    "print(df['type_year_km_transmission_fuel'].head(5), '\\n')\n",
    "print(df['km_raw'].head(5))"
   ]
  },
  {
   "cell_type": "markdown",
   "id": "65b229a4",
   "metadata": {},
   "source": [
    "### Extract year"
   ]
  },
  {
   "cell_type": "code",
   "execution_count": 85,
   "id": "3ed1d18a",
   "metadata": {},
   "outputs": [
    {
     "name": "stdout",
     "output_type": "stream",
     "text": [
      "0      Occasion05.2016119.500 kmAutomatDiesel1227 (GE)\n",
      "1      Occasion05.2006124.900 kmAutomatBenzin4461 (BL)\n",
      "2    Occasion09.201928.950 kmAutomatBenzin/Elektro4...\n",
      "3      Occasion04.2000248.013 kmAutomatBenzin6300 (ZG)\n",
      "4      Occasion06.2008160.000 kmAutomatBenzin6010 (LU)\n",
      "Name: type_year_km_transmission_fuel, dtype: object \n",
      "\n",
      "0    2016\n",
      "1    2006\n",
      "2    2019\n",
      "3    2000\n",
      "4    2008\n",
      "Name: Year, dtype: Int64\n"
     ]
    }
   ],
   "source": [
    "# Extrahiere year\n",
    "YEAR = []\n",
    "for item in df['type_year_km_transmission_fuel']:\n",
    "    year = re.search(r'.(\\d{4})', item)\n",
    "    if year:\n",
    "        YEAR.append(year.group(1))\n",
    "    else:\n",
    "        YEAR.append(None)\n",
    "\n",
    "# Füge Year als neue Spalte hinzu\n",
    "df['Year'] = pd.Series(YEAR, dtype=\"Int64\")\n",
    "\n",
    "# Zeige die ersten 5 Werte\n",
    "print(df['type_year_km_transmission_fuel'].head(5), '\\n')\n",
    "print(df['Year'].head(5))"
   ]
  },
  {
   "cell_type": "markdown",
   "id": "abdb8659",
   "metadata": {},
   "source": [
    "### Extraction of all Information"
   ]
  },
  {
   "cell_type": "code",
   "execution_count": 86,
   "id": "a773d87a",
   "metadata": {},
   "outputs": [
    {
     "name": "stdout",
     "output_type": "stream",
     "text": [
      "       Type     Year  Kilometers Transmission    Fuel   PLZ Location\n",
      "0  Occasion  05.2016  119.500 km      Automat  Diesel  1227       GE\n",
      "1  Occasion  05.2006  124.900 km      Automat  Benzin  4461       BL\n",
      "2       NaN      NaN         NaN          NaN     NaN   NaN      NaN\n",
      "3  Occasion  04.2000  248.013 km      Automat  Benzin  6300       ZG\n",
      "4  Occasion  06.2008  160.000 km      Automat  Benzin  6010       LU\n"
     ]
    }
   ],
   "source": [
    "# Extrahieren von Typ, Jahr, Kilometerstand, Getriebeart, Treibstofftyp, Postleitzahl und Location\n",
    "extracted = df['type_year_km_transmission_fuel'].str.extract(r'(\\w+)(\\d{2}.\\d{4})(\\d+\\.\\d+ km)([A-Z]\\w+)([A-Z]\\w+)(\\d{4}) \\(([^)]+)\\)')\n",
    "extracted.columns = ['Type', 'Year', 'Kilometers', 'Transmission', 'Fuel', 'PLZ', 'Location']\n",
    "\n",
    "# Ausgabe der ersten 5 extrahierten Datensätze\n",
    "print(extracted.head())"
   ]
  },
  {
   "cell_type": "markdown",
   "id": "328e7c20",
   "metadata": {},
   "source": [
    "### Output price_raw"
   ]
  },
  {
   "cell_type": "code",
   "execution_count": 87,
   "id": "3cc43c29",
   "metadata": {},
   "outputs": [
    {
     "name": "stdout",
     "output_type": "stream",
     "text": [
      "0    CHF 22'900\n",
      "1    CHF 13'750\n",
      "2    CHF 28'800\n",
      "3     CHF 1'100\n",
      "4    CHF 10'900\n",
      "Name: price_raw, dtype: object \n",
      "\n"
     ]
    }
   ],
   "source": [
    "print(df['price_raw'].head(5), '\\n')"
   ]
  },
  {
   "cell_type": "code",
   "execution_count": 88,
   "id": "05e068d7",
   "metadata": {},
   "outputs": [
    {
     "name": "stdout",
     "output_type": "stream",
     "text": [
      "0    CHF 22'900\n",
      "1    CHF 13'750\n",
      "2    CHF 28'800\n",
      "3     CHF 1'100\n",
      "4    CHF 10'900\n",
      "Name: price_raw, dtype: object \n",
      "\n",
      "0    22900\n",
      "1    13750\n",
      "2    28800\n",
      "3     1100\n",
      "4    10900\n",
      "Name: price, dtype: Int64\n"
     ]
    }
   ],
   "source": [
    "# Verwende str.extract(), um Zahlen aus der 'price_raw'-Spalte zu extrahieren\n",
    "df['price'] = df['price_raw'].str.extract(r\"(\\d+['\\d+]*)\", expand=False)\n",
    "df['price'] = df['price'].str.replace(\"'\", \"\").astype('Int64')  # Entferne Apostrophe und ändere den Datentyp in 'Int64'\n",
    "\n",
    "# Gib die ersten 5 Werte der 'price_raw'- und 'price'-Spalten aus\n",
    "print(df['price_raw'].head(5), '\\n')\n",
    "print(df['price'].head(5))"
   ]
  },
  {
   "cell_type": "markdown",
   "id": "a24c824c",
   "metadata": {},
   "source": [
    "### Output km_raw"
   ]
  },
  {
   "cell_type": "code",
   "execution_count": 89,
   "metadata": {},
   "outputs": [
    {
     "name": "stdout",
     "output_type": "stream",
     "text": [
      "0    119.500\n",
      "1    124.900\n",
      "2     28.950\n",
      "3    248.013\n",
      "4    160.000\n",
      "Name: km_raw, dtype: object \n",
      "\n"
     ]
    }
   ],
   "source": [
    "print(df['km_raw'].head(5), '\\n')"
   ]
  },
  {
   "cell_type": "code",
   "execution_count": 90,
   "metadata": {},
   "outputs": [
    {
     "name": "stdout",
     "output_type": "stream",
     "text": [
      "0    119.500\n",
      "1    124.900\n",
      "2     28.950\n",
      "3    248.013\n",
      "4    160.000\n",
      "Name: km_raw, dtype: object \n",
      "\n",
      "0    119500\n",
      "1    124900\n",
      "2     28950\n",
      "3    248013\n",
      "4    160000\n",
      "Name: km, dtype: Int64\n"
     ]
    }
   ],
   "source": [
    "# Verwende str.extract(), um Zahlen aus der 'km'-Spalte zu extrahieren\n",
    "df['km'] = df['km_raw'].str.extract(r\"(\\d+\\.\\d+)\", expand=False)\n",
    "df['km'] = df['km_raw'].str.replace(\".\", \"\").astype('Int64')  # Entferne Apostrophe und ändere den Datentyp in 'Int64'\n",
    "\n",
    "# Gib die ersten 5 Werte der 'km'- und 'km'-Spalten aus\n",
    "print(df['km_raw'].head(5), '\\n')\n",
    "print(df['km'].head(5))"
   ]
  },
  {
   "cell_type": "markdown",
   "id": "1eec753f",
   "metadata": {},
   "source": [
    "### Get data types of all variables including the new ones"
   ]
  },
  {
   "cell_type": "code",
   "execution_count": 91,
   "id": "add08f2e",
   "metadata": {},
   "outputs": [
    {
     "data": {
      "text/plain": [
       "web-scraper-order                 object\n",
       "web-scraper-start-url             object\n",
       "text_raw                          object\n",
       "price_raw                         object\n",
       "model_raw                         object\n",
       "type_year_km_transmission_fuel    object\n",
       "Location                          object\n",
       "PLZ                                Int64\n",
       "km_raw                            object\n",
       "Year                               Int64\n",
       "price                              Int64\n",
       "km                                 Int64\n",
       "dtype: object"
      ]
     },
     "execution_count": 91,
     "metadata": {},
     "output_type": "execute_result"
    }
   ],
   "source": [
    "df.dtypes"
   ]
  },
  {
   "cell_type": "markdown",
   "id": "d35207c1",
   "metadata": {},
   "source": [
    "## Create additional variables"
   ]
  },
  {
   "cell_type": "markdown",
   "id": "90c99140",
   "metadata": {},
   "source": [
    "### Change string 'text_raw' to uppercase "
   ]
  },
  {
   "cell_type": "code",
   "execution_count": 92,
   "id": "5a79532f",
   "metadata": {},
   "outputs": [
    {
     "name": "stdout",
     "output_type": "stream",
     "text": [
      "0    BMW X3 X3 XDRIVE 20D XLINE STEPTRONICCHF 22'90...\n",
      "1    BMW 540 540ICHF 13'750AB CHF 220 / MONAT5 / 6O...\n",
      "2    BMW 225 ACTIVE TOURER 225XE IPERFORMANCE ACTIV...\n",
      "3    BMW 316 316I COMPACTCHF 1'100OCCASION04.200024...\n",
      "4    BMW 530 530XI STEPTRONICCHF 10'900AB CHF 175 /...\n",
      "5    BMW X5 X5 XDRIVE 40D STEPTRONICCHF 33'900AB CH...\n",
      "6    BMW 525 525D TOURINGCHF 3'3005.5 / 6OCCASION10...\n",
      "7    BMW 225 ACTIVE TOURER 225I XDRIVE ACTIVE TOURE...\n",
      "8    BMW 435 435I COUPÉ XDRIVE SPORT LINE STEPTRONI...\n",
      "9    BMW X5 X5 XDRIVE 48V 40D M SPORT PRO STEPTRONI...\n",
      "Name: text_raw, dtype: object\n"
     ]
    }
   ],
   "source": [
    "# Change strings to uppercase\n",
    "\n",
    "df['text_raw'] = df['text_raw'].str.upper()\n",
    "print(df['text_raw'].head(10))"
   ]
  },
  {
   "cell_type": "code",
   "execution_count": 93,
   "id": "08fcea3b",
   "metadata": {},
   "outputs": [
    {
     "name": "stdout",
     "output_type": "stream",
     "text": [
      "BMW X3 X3 XDRIVE 20D XLINE STEPTRONICCHF 22'900AB CHF 367 / MONAT4 / 6OCCASION05.2016119.500 KMAUTOMATDIESEL1227 (GE)PREISCHF 22'900FINANZIERUNGAB CHF 367 / MONAT4 / 6ANFRAGEN MERKENDETAILS\n"
     ]
    }
   ],
   "source": [
    "# Show first item of variable 'text_raw'\n",
    "print(df['text_raw'][0])"
   ]
  },
  {
   "cell_type": "markdown",
   "id": "6f265fd9",
   "metadata": {},
   "source": [
    "### Create new binary variables (0/1) luxury, competition, xDrive, automat"
   ]
  },
  {
   "cell_type": "code",
   "execution_count": 94,
   "id": "55134fec",
   "metadata": {},
   "outputs": [
    {
     "name": "stdout",
     "output_type": "stream",
     "text": [
      "23\n",
      "52\n",
      "662\n",
      "883\n"
     ]
    },
    {
     "data": {
      "text/html": [
       "<div>\n",
       "<style scoped>\n",
       "    .dataframe tbody tr th:only-of-type {\n",
       "        vertical-align: middle;\n",
       "    }\n",
       "\n",
       "    .dataframe tbody tr th {\n",
       "        vertical-align: top;\n",
       "    }\n",
       "\n",
       "    .dataframe thead th {\n",
       "        text-align: right;\n",
       "    }\n",
       "</style>\n",
       "<table border=\"1\" class=\"dataframe\">\n",
       "  <thead>\n",
       "    <tr style=\"text-align: right;\">\n",
       "      <th></th>\n",
       "      <th>text_raw</th>\n",
       "      <th>luxury</th>\n",
       "      <th>competition</th>\n",
       "      <th>xDrive</th>\n",
       "      <th>automat</th>\n",
       "    </tr>\n",
       "  </thead>\n",
       "  <tbody>\n",
       "    <tr>\n",
       "      <th>0</th>\n",
       "      <td>BMW X3 X3 XDRIVE 20D XLINE STEPTRONICCHF 22'90...</td>\n",
       "      <td>0</td>\n",
       "      <td>0</td>\n",
       "      <td>1</td>\n",
       "      <td>1</td>\n",
       "    </tr>\n",
       "    <tr>\n",
       "      <th>1</th>\n",
       "      <td>BMW 540 540ICHF 13'750AB CHF 220 / MONAT5 / 6O...</td>\n",
       "      <td>0</td>\n",
       "      <td>0</td>\n",
       "      <td>0</td>\n",
       "      <td>1</td>\n",
       "    </tr>\n",
       "    <tr>\n",
       "      <th>2</th>\n",
       "      <td>BMW 225 ACTIVE TOURER 225XE IPERFORMANCE ACTIV...</td>\n",
       "      <td>0</td>\n",
       "      <td>0</td>\n",
       "      <td>0</td>\n",
       "      <td>1</td>\n",
       "    </tr>\n",
       "    <tr>\n",
       "      <th>3</th>\n",
       "      <td>BMW 316 316I COMPACTCHF 1'100OCCASION04.200024...</td>\n",
       "      <td>0</td>\n",
       "      <td>0</td>\n",
       "      <td>0</td>\n",
       "      <td>1</td>\n",
       "    </tr>\n",
       "    <tr>\n",
       "      <th>4</th>\n",
       "      <td>BMW 530 530XI STEPTRONICCHF 10'900AB CHF 175 /...</td>\n",
       "      <td>0</td>\n",
       "      <td>0</td>\n",
       "      <td>0</td>\n",
       "      <td>1</td>\n",
       "    </tr>\n",
       "    <tr>\n",
       "      <th>...</th>\n",
       "      <td>...</td>\n",
       "      <td>...</td>\n",
       "      <td>...</td>\n",
       "      <td>...</td>\n",
       "      <td>...</td>\n",
       "    </tr>\n",
       "    <tr>\n",
       "      <th>985</th>\n",
       "      <td>BMW 520 520D TOURING STEPTRONICCHF 12'000AB CH...</td>\n",
       "      <td>0</td>\n",
       "      <td>0</td>\n",
       "      <td>0</td>\n",
       "      <td>1</td>\n",
       "    </tr>\n",
       "    <tr>\n",
       "      <th>986</th>\n",
       "      <td>BMW 535 535I XDRIVE TOURING STEPTRONICCHF 12'5...</td>\n",
       "      <td>0</td>\n",
       "      <td>0</td>\n",
       "      <td>1</td>\n",
       "      <td>1</td>\n",
       "    </tr>\n",
       "    <tr>\n",
       "      <th>987</th>\n",
       "      <td>BMW 330 330I XDRIVE STEPTRONIC M SPORTCHF 42'8...</td>\n",
       "      <td>0</td>\n",
       "      <td>0</td>\n",
       "      <td>1</td>\n",
       "      <td>1</td>\n",
       "    </tr>\n",
       "    <tr>\n",
       "      <th>988</th>\n",
       "      <td>BMW X3 X3 XDRIVE 30D STEPTRONICCHF 11'600AB CH...</td>\n",
       "      <td>0</td>\n",
       "      <td>0</td>\n",
       "      <td>1</td>\n",
       "      <td>1</td>\n",
       "    </tr>\n",
       "    <tr>\n",
       "      <th>989</th>\n",
       "      <td>BMW X3 X3 M40D 48V STEPTRONIC INDIVIDUALCHF 65...</td>\n",
       "      <td>0</td>\n",
       "      <td>0</td>\n",
       "      <td>0</td>\n",
       "      <td>1</td>\n",
       "    </tr>\n",
       "  </tbody>\n",
       "</table>\n",
       "<p>990 rows × 5 columns</p>\n",
       "</div>"
      ],
      "text/plain": [
       "                                              text_raw  luxury  competition  \\\n",
       "0    BMW X3 X3 XDRIVE 20D XLINE STEPTRONICCHF 22'90...       0            0   \n",
       "1    BMW 540 540ICHF 13'750AB CHF 220 / MONAT5 / 6O...       0            0   \n",
       "2    BMW 225 ACTIVE TOURER 225XE IPERFORMANCE ACTIV...       0            0   \n",
       "3    BMW 316 316I COMPACTCHF 1'100OCCASION04.200024...       0            0   \n",
       "4    BMW 530 530XI STEPTRONICCHF 10'900AB CHF 175 /...       0            0   \n",
       "..                                                 ...     ...          ...   \n",
       "985  BMW 520 520D TOURING STEPTRONICCHF 12'000AB CH...       0            0   \n",
       "986  BMW 535 535I XDRIVE TOURING STEPTRONICCHF 12'5...       0            0   \n",
       "987  BMW 330 330I XDRIVE STEPTRONIC M SPORTCHF 42'8...       0            0   \n",
       "988  BMW X3 X3 XDRIVE 30D STEPTRONICCHF 11'600AB CH...       0            0   \n",
       "989  BMW X3 X3 M40D 48V STEPTRONIC INDIVIDUALCHF 65...       0            0   \n",
       "\n",
       "     xDrive  automat  \n",
       "0         1        1  \n",
       "1         0        1  \n",
       "2         0        1  \n",
       "3         0        1  \n",
       "4         0        1  \n",
       "..      ...      ...  \n",
       "985       0        1  \n",
       "986       1        1  \n",
       "987       1        1  \n",
       "988       1        1  \n",
       "989       0        1  \n",
       "\n",
       "[990 rows x 5 columns]"
      ]
     },
     "execution_count": 94,
     "metadata": {},
     "output_type": "execute_result"
    }
   ],
   "source": [
    "# Create patterns which can be used to search the variable 'text_raw'\n",
    "patternLuxury = '(LUXURY)'\n",
    "patternCompetition = '(COMPETITION)'\n",
    "patternXdrive = '(XDRIVE)'\n",
    "patternAutomat = '(AUTOMAT)'\n",
    "\n",
    "# Create new variables as binary dummy (0/1) variable\n",
    "# text_raw beinhaltet mehr Informationen\n",
    "df['luxury'] = df['text_raw'].str.contains(pat = patternLuxury).astype(int)\n",
    "df['competition'] = df['text_raw'].str.contains(pat = patternCompetition).astype(int)\n",
    "df['xDrive'] = df['text_raw'].str.contains(pat = patternXdrive).astype(int)\n",
    "df['automat'] = df['text_raw'].str.contains(pat = patternAutomat).astype(int)\n",
    "\n",
    "print(df['luxury'].sum())\n",
    "print(df['competition'].sum())\n",
    "print(df['xDrive'].sum())\n",
    "print(df['automat'].sum())\n",
    "\n",
    "# Show values\n",
    "df[['text_raw','luxury', 'competition','xDrive','automat']]"
   ]
  },
  {
   "cell_type": "markdown",
   "id": "32915363",
   "metadata": {},
   "source": [
    "### Create new categorical variable based on km"
   ]
  },
  {
   "cell_type": "code",
   "execution_count": 95,
   "id": "9f6f2346",
   "metadata": {},
   "outputs": [
    {
     "data": {
      "text/html": [
       "<div>\n",
       "<style scoped>\n",
       "    .dataframe tbody tr th:only-of-type {\n",
       "        vertical-align: middle;\n",
       "    }\n",
       "\n",
       "    .dataframe tbody tr th {\n",
       "        vertical-align: top;\n",
       "    }\n",
       "\n",
       "    .dataframe thead th {\n",
       "        text-align: right;\n",
       "    }\n",
       "</style>\n",
       "<table border=\"1\" class=\"dataframe\">\n",
       "  <thead>\n",
       "    <tr style=\"text-align: right;\">\n",
       "      <th></th>\n",
       "      <th>km</th>\n",
       "      <th>km_cat</th>\n",
       "    </tr>\n",
       "  </thead>\n",
       "  <tbody>\n",
       "    <tr>\n",
       "      <th>0</th>\n",
       "      <td>119500</td>\n",
       "      <td>50-120k</td>\n",
       "    </tr>\n",
       "    <tr>\n",
       "      <th>1</th>\n",
       "      <td>124900</td>\n",
       "      <td>120k+</td>\n",
       "    </tr>\n",
       "    <tr>\n",
       "      <th>2</th>\n",
       "      <td>28950</td>\n",
       "      <td>0-50k</td>\n",
       "    </tr>\n",
       "    <tr>\n",
       "      <th>3</th>\n",
       "      <td>248013</td>\n",
       "      <td>120k+</td>\n",
       "    </tr>\n",
       "    <tr>\n",
       "      <th>4</th>\n",
       "      <td>160000</td>\n",
       "      <td>120k+</td>\n",
       "    </tr>\n",
       "    <tr>\n",
       "      <th>5</th>\n",
       "      <td>125900</td>\n",
       "      <td>120k+</td>\n",
       "    </tr>\n",
       "    <tr>\n",
       "      <th>6</th>\n",
       "      <td>336000</td>\n",
       "      <td>120k+</td>\n",
       "    </tr>\n",
       "    <tr>\n",
       "      <th>7</th>\n",
       "      <td>97000</td>\n",
       "      <td>50-120k</td>\n",
       "    </tr>\n",
       "    <tr>\n",
       "      <th>8</th>\n",
       "      <td>112500</td>\n",
       "      <td>50-120k</td>\n",
       "    </tr>\n",
       "    <tr>\n",
       "      <th>9</th>\n",
       "      <td>&lt;NA&gt;</td>\n",
       "      <td>NaN</td>\n",
       "    </tr>\n",
       "  </tbody>\n",
       "</table>\n",
       "</div>"
      ],
      "text/plain": [
       "       km   km_cat\n",
       "0  119500  50-120k\n",
       "1  124900    120k+\n",
       "2   28950    0-50k\n",
       "3  248013    120k+\n",
       "4  160000    120k+\n",
       "5  125900    120k+\n",
       "6  336000    120k+\n",
       "7   97000  50-120k\n",
       "8  112500  50-120k\n",
       "9    <NA>      NaN"
      ]
     },
     "execution_count": 95,
     "metadata": {},
     "output_type": "execute_result"
    }
   ],
   "source": [
    "# Define classes (labels)\n",
    "labels = ['0-50k', '50-120k', '120k+']\n",
    "\n",
    "# Use the .cut method from pandas to divide the numeric values in classes\n",
    "df[\"km_cat\"] = pd.cut(df['km'], bins=[0, 50000, 120000, 500000], labels=labels)\n",
    "\n",
    "# Show original data and classes\n",
    "df[['km', 'km_cat']].head(10)"
   ]
  },
  {
   "cell_type": "markdown",
   "id": "0602b41c",
   "metadata": {},
   "source": [
    "### Create new numeric variable 'km_per_year'"
   ]
  },
  {
   "cell_type": "code",
   "execution_count": 96,
   "id": "1d5af8bd",
   "metadata": {},
   "outputs": [
    {
     "data": {
      "text/html": [
       "<div>\n",
       "<style scoped>\n",
       "    .dataframe tbody tr th:only-of-type {\n",
       "        vertical-align: middle;\n",
       "    }\n",
       "\n",
       "    .dataframe tbody tr th {\n",
       "        vertical-align: top;\n",
       "    }\n",
       "\n",
       "    .dataframe thead th {\n",
       "        text-align: right;\n",
       "    }\n",
       "</style>\n",
       "<table border=\"1\" class=\"dataframe\">\n",
       "  <thead>\n",
       "    <tr style=\"text-align: right;\">\n",
       "      <th></th>\n",
       "      <th>Year</th>\n",
       "      <th>km</th>\n",
       "      <th>price</th>\n",
       "      <th>km_per_year</th>\n",
       "    </tr>\n",
       "  </thead>\n",
       "  <tbody>\n",
       "    <tr>\n",
       "      <th>0</th>\n",
       "      <td>2016</td>\n",
       "      <td>119500</td>\n",
       "      <td>22900</td>\n",
       "      <td>14937.5</td>\n",
       "    </tr>\n",
       "    <tr>\n",
       "      <th>1</th>\n",
       "      <td>2006</td>\n",
       "      <td>124900</td>\n",
       "      <td>13750</td>\n",
       "      <td>6938.89</td>\n",
       "    </tr>\n",
       "    <tr>\n",
       "      <th>2</th>\n",
       "      <td>2019</td>\n",
       "      <td>28950</td>\n",
       "      <td>28800</td>\n",
       "      <td>5790.0</td>\n",
       "    </tr>\n",
       "    <tr>\n",
       "      <th>3</th>\n",
       "      <td>2000</td>\n",
       "      <td>248013</td>\n",
       "      <td>1100</td>\n",
       "      <td>10333.88</td>\n",
       "    </tr>\n",
       "    <tr>\n",
       "      <th>4</th>\n",
       "      <td>2008</td>\n",
       "      <td>160000</td>\n",
       "      <td>10900</td>\n",
       "      <td>10000.0</td>\n",
       "    </tr>\n",
       "    <tr>\n",
       "      <th>5</th>\n",
       "      <td>2015</td>\n",
       "      <td>125900</td>\n",
       "      <td>33900</td>\n",
       "      <td>13988.89</td>\n",
       "    </tr>\n",
       "    <tr>\n",
       "      <th>6</th>\n",
       "      <td>2004</td>\n",
       "      <td>336000</td>\n",
       "      <td>3300</td>\n",
       "      <td>16800.0</td>\n",
       "    </tr>\n",
       "    <tr>\n",
       "      <th>7</th>\n",
       "      <td>2017</td>\n",
       "      <td>97000</td>\n",
       "      <td>13500</td>\n",
       "      <td>13857.14</td>\n",
       "    </tr>\n",
       "    <tr>\n",
       "      <th>8</th>\n",
       "      <td>2014</td>\n",
       "      <td>112500</td>\n",
       "      <td>22950</td>\n",
       "      <td>11250.0</td>\n",
       "    </tr>\n",
       "    <tr>\n",
       "      <th>9</th>\n",
       "      <td>2024</td>\n",
       "      <td>&lt;NA&gt;</td>\n",
       "      <td>112300</td>\n",
       "      <td>&lt;NA&gt;</td>\n",
       "    </tr>\n",
       "  </tbody>\n",
       "</table>\n",
       "</div>"
      ],
      "text/plain": [
       "   Year      km   price  km_per_year\n",
       "0  2016  119500   22900      14937.5\n",
       "1  2006  124900   13750      6938.89\n",
       "2  2019   28950   28800       5790.0\n",
       "3  2000  248013    1100     10333.88\n",
       "4  2008  160000   10900      10000.0\n",
       "5  2015  125900   33900     13988.89\n",
       "6  2004  336000    3300      16800.0\n",
       "7  2017   97000   13500     13857.14\n",
       "8  2014  112500   22950      11250.0\n",
       "9  2024    <NA>  112300         <NA>"
      ]
     },
     "execution_count": 96,
     "metadata": {},
     "output_type": "execute_result"
    }
   ],
   "source": [
    "# Create the new variable\n",
    "df['km_per_year'] = round(df['km'] / (2024-df['Year']), 2)\n",
    "\n",
    "# Show values\n",
    "df[['Year','km','price','km_per_year']].head(10)"
   ]
  },
  {
   "cell_type": "markdown",
   "id": "877584e6",
   "metadata": {},
   "source": [
    "### Create new categorical variable based on km"
   ]
  },
  {
   "cell_type": "code",
   "execution_count": 97,
   "id": "8b9b7e30",
   "metadata": {},
   "outputs": [
    {
     "data": {
      "text/html": [
       "<div>\n",
       "<style scoped>\n",
       "    .dataframe tbody tr th:only-of-type {\n",
       "        vertical-align: middle;\n",
       "    }\n",
       "\n",
       "    .dataframe tbody tr th {\n",
       "        vertical-align: top;\n",
       "    }\n",
       "\n",
       "    .dataframe thead th {\n",
       "        text-align: right;\n",
       "    }\n",
       "</style>\n",
       "<table border=\"1\" class=\"dataframe\">\n",
       "  <thead>\n",
       "    <tr style=\"text-align: right;\">\n",
       "      <th></th>\n",
       "      <th>km_per_year</th>\n",
       "      <th>km_cat</th>\n",
       "      <th>km_per_year_cat</th>\n",
       "    </tr>\n",
       "  </thead>\n",
       "  <tbody>\n",
       "    <tr>\n",
       "      <th>0</th>\n",
       "      <td>14937.5</td>\n",
       "      <td>50-120k</td>\n",
       "      <td>medium</td>\n",
       "    </tr>\n",
       "    <tr>\n",
       "      <th>1</th>\n",
       "      <td>6938.89</td>\n",
       "      <td>120k+</td>\n",
       "      <td>low</td>\n",
       "    </tr>\n",
       "    <tr>\n",
       "      <th>2</th>\n",
       "      <td>5790.0</td>\n",
       "      <td>0-50k</td>\n",
       "      <td>low</td>\n",
       "    </tr>\n",
       "    <tr>\n",
       "      <th>3</th>\n",
       "      <td>10333.88</td>\n",
       "      <td>120k+</td>\n",
       "      <td>medium</td>\n",
       "    </tr>\n",
       "    <tr>\n",
       "      <th>4</th>\n",
       "      <td>10000.0</td>\n",
       "      <td>120k+</td>\n",
       "      <td>low</td>\n",
       "    </tr>\n",
       "    <tr>\n",
       "      <th>5</th>\n",
       "      <td>13988.89</td>\n",
       "      <td>120k+</td>\n",
       "      <td>medium</td>\n",
       "    </tr>\n",
       "    <tr>\n",
       "      <th>6</th>\n",
       "      <td>16800.0</td>\n",
       "      <td>120k+</td>\n",
       "      <td>high</td>\n",
       "    </tr>\n",
       "    <tr>\n",
       "      <th>7</th>\n",
       "      <td>13857.14</td>\n",
       "      <td>50-120k</td>\n",
       "      <td>medium</td>\n",
       "    </tr>\n",
       "    <tr>\n",
       "      <th>8</th>\n",
       "      <td>11250.0</td>\n",
       "      <td>50-120k</td>\n",
       "      <td>medium</td>\n",
       "    </tr>\n",
       "    <tr>\n",
       "      <th>9</th>\n",
       "      <td>&lt;NA&gt;</td>\n",
       "      <td>NaN</td>\n",
       "      <td>NaN</td>\n",
       "    </tr>\n",
       "  </tbody>\n",
       "</table>\n",
       "</div>"
      ],
      "text/plain": [
       "   km_per_year   km_cat km_per_year_cat\n",
       "0      14937.5  50-120k          medium\n",
       "1      6938.89    120k+             low\n",
       "2       5790.0    0-50k             low\n",
       "3     10333.88    120k+          medium\n",
       "4      10000.0    120k+             low\n",
       "5     13988.89    120k+          medium\n",
       "6      16800.0    120k+            high\n",
       "7     13857.14  50-120k          medium\n",
       "8      11250.0  50-120k          medium\n",
       "9         <NA>      NaN             NaN"
      ]
     },
     "execution_count": 97,
     "metadata": {},
     "output_type": "execute_result"
    }
   ],
   "source": [
    "# Define classes (labels)\n",
    "labels = ['low', 'medium', 'high']\n",
    "\n",
    "# Use the .cut method from pandas to divide the numeric values in classes\n",
    "df[\"km_per_year_cat\"] = pd.cut(df['km_per_year'], bins=[0, 10000, 15000, 50000], labels=labels)\n",
    "\n",
    "# Show original data and classes\n",
    "df[['km_per_year','km_cat','km_per_year_cat']].head(10)"
   ]
  },
  {
   "cell_type": "markdown",
   "id": "0a4e96f5",
   "metadata": {},
   "source": [
    "## Count and identify missing values (if any)"
   ]
  },
  {
   "cell_type": "code",
   "execution_count": 98,
   "id": "d8ca212a",
   "metadata": {},
   "outputs": [
    {
     "name": "stdout",
     "output_type": "stream",
     "text": [
      "web-scraper-order                   0\n",
      "web-scraper-start-url               0\n",
      "text_raw                            0\n",
      "price_raw                           0\n",
      "model_raw                           0\n",
      "type_year_km_transmission_fuel      0\n",
      "Location                            0\n",
      "PLZ                                 0\n",
      "km_raw                            113\n",
      "Year                                0\n",
      "price                               0\n",
      "km                                113\n",
      "luxury                              0\n",
      "competition                         0\n",
      "xDrive                              0\n",
      "automat                             0\n",
      "km_cat                            113\n",
      "km_per_year                       113\n",
      "km_per_year_cat                   118\n",
      "dtype: int64\n"
     ]
    },
    {
     "data": {
      "text/html": [
       "<div>\n",
       "<style scoped>\n",
       "    .dataframe tbody tr th:only-of-type {\n",
       "        vertical-align: middle;\n",
       "    }\n",
       "\n",
       "    .dataframe tbody tr th {\n",
       "        vertical-align: top;\n",
       "    }\n",
       "\n",
       "    .dataframe thead th {\n",
       "        text-align: right;\n",
       "    }\n",
       "</style>\n",
       "<table border=\"1\" class=\"dataframe\">\n",
       "  <thead>\n",
       "    <tr style=\"text-align: right;\">\n",
       "      <th></th>\n",
       "      <th>web-scraper-order</th>\n",
       "      <th>web-scraper-start-url</th>\n",
       "      <th>text_raw</th>\n",
       "      <th>price_raw</th>\n",
       "      <th>model_raw</th>\n",
       "      <th>type_year_km_transmission_fuel</th>\n",
       "      <th>Location</th>\n",
       "      <th>PLZ</th>\n",
       "      <th>km_raw</th>\n",
       "      <th>Year</th>\n",
       "      <th>price</th>\n",
       "      <th>km</th>\n",
       "      <th>luxury</th>\n",
       "      <th>competition</th>\n",
       "      <th>xDrive</th>\n",
       "      <th>automat</th>\n",
       "      <th>km_cat</th>\n",
       "      <th>km_per_year</th>\n",
       "      <th>km_per_year_cat</th>\n",
       "    </tr>\n",
       "  </thead>\n",
       "  <tbody>\n",
       "    <tr>\n",
       "      <th>9</th>\n",
       "      <td>1705078003-10</td>\n",
       "      <td>https://www.comparis.ch/carfinder/marktplatz/b...</td>\n",
       "      <td>BMW X5 X5 XDRIVE 48V 40D M SPORT PRO STEPTRONI...</td>\n",
       "      <td>CHF 112'300</td>\n",
       "      <td>X5 xDrive 48V 40d M Sport Pro Steptronic</td>\n",
       "      <td>Occasion01.202410 kmAutomatElektro/Diesel1530 ...</td>\n",
       "      <td>VD</td>\n",
       "      <td>1530</td>\n",
       "      <td>None</td>\n",
       "      <td>2024</td>\n",
       "      <td>112300</td>\n",
       "      <td>&lt;NA&gt;</td>\n",
       "      <td>0</td>\n",
       "      <td>0</td>\n",
       "      <td>1</td>\n",
       "      <td>1</td>\n",
       "      <td>NaN</td>\n",
       "      <td>&lt;NA&gt;</td>\n",
       "      <td>NaN</td>\n",
       "    </tr>\n",
       "    <tr>\n",
       "      <th>11</th>\n",
       "      <td>1705078007-12</td>\n",
       "      <td>https://www.comparis.ch/carfinder/marktplatz/b...</td>\n",
       "      <td>BMW X3 X3 XDRIVE 30ECHF 86'999AB CHF 1'393 / M...</td>\n",
       "      <td>CHF 86'999</td>\n",
       "      <td>X3 xDrive 30e</td>\n",
       "      <td>Neuwagen10 kmAutomatBenzin/Elektro4147 (BL)</td>\n",
       "      <td>BL</td>\n",
       "      <td>4147</td>\n",
       "      <td>None</td>\n",
       "      <td>4147</td>\n",
       "      <td>86999</td>\n",
       "      <td>&lt;NA&gt;</td>\n",
       "      <td>0</td>\n",
       "      <td>0</td>\n",
       "      <td>1</td>\n",
       "      <td>1</td>\n",
       "      <td>NaN</td>\n",
       "      <td>&lt;NA&gt;</td>\n",
       "      <td>NaN</td>\n",
       "    </tr>\n",
       "    <tr>\n",
       "      <th>12</th>\n",
       "      <td>1705078007-13</td>\n",
       "      <td>https://www.comparis.ch/carfinder/marktplatz/b...</td>\n",
       "      <td>BMW X1 X1 XDRIVE 30ECHF 69'900AB CHF 1'119 / M...</td>\n",
       "      <td>CHF 69'900</td>\n",
       "      <td>X1 xDrive 30e</td>\n",
       "      <td>Neuwagen10 kmAutomatBenzin/Elektro3048 (BE)</td>\n",
       "      <td>BE</td>\n",
       "      <td>3048</td>\n",
       "      <td>None</td>\n",
       "      <td>3048</td>\n",
       "      <td>69900</td>\n",
       "      <td>&lt;NA&gt;</td>\n",
       "      <td>0</td>\n",
       "      <td>0</td>\n",
       "      <td>1</td>\n",
       "      <td>1</td>\n",
       "      <td>NaN</td>\n",
       "      <td>&lt;NA&gt;</td>\n",
       "      <td>NaN</td>\n",
       "    </tr>\n",
       "    <tr>\n",
       "      <th>14</th>\n",
       "      <td>1705078007-15</td>\n",
       "      <td>https://www.comparis.ch/carfinder/marktplatz/b...</td>\n",
       "      <td>BMW IX IX1 XDRIVE 30 M SPORTCHF 71'900AB CHF 1...</td>\n",
       "      <td>CHF 71'900</td>\n",
       "      <td>iX1 xDrive 30 M Sport</td>\n",
       "      <td>Neuwagen10 kmAutomatElektro8048 (ZH)</td>\n",
       "      <td>ZH</td>\n",
       "      <td>8048</td>\n",
       "      <td>None</td>\n",
       "      <td>8048</td>\n",
       "      <td>71900</td>\n",
       "      <td>&lt;NA&gt;</td>\n",
       "      <td>0</td>\n",
       "      <td>0</td>\n",
       "      <td>1</td>\n",
       "      <td>1</td>\n",
       "      <td>NaN</td>\n",
       "      <td>&lt;NA&gt;</td>\n",
       "      <td>NaN</td>\n",
       "    </tr>\n",
       "    <tr>\n",
       "      <th>15</th>\n",
       "      <td>1705078007-16</td>\n",
       "      <td>https://www.comparis.ch/carfinder/marktplatz/b...</td>\n",
       "      <td>BMW IX IX XDRIVE40CHF 99'900AB CHF 1'599 / MON...</td>\n",
       "      <td>CHF 99'900</td>\n",
       "      <td>iX xDrive40</td>\n",
       "      <td>Neuwagen10 kmAutomatElektro9500 (SG)</td>\n",
       "      <td>SG</td>\n",
       "      <td>9500</td>\n",
       "      <td>None</td>\n",
       "      <td>9500</td>\n",
       "      <td>99900</td>\n",
       "      <td>&lt;NA&gt;</td>\n",
       "      <td>0</td>\n",
       "      <td>0</td>\n",
       "      <td>1</td>\n",
       "      <td>1</td>\n",
       "      <td>NaN</td>\n",
       "      <td>&lt;NA&gt;</td>\n",
       "      <td>NaN</td>\n",
       "    </tr>\n",
       "  </tbody>\n",
       "</table>\n",
       "</div>"
      ],
      "text/plain": [
       "   web-scraper-order                              web-scraper-start-url  \\\n",
       "9      1705078003-10  https://www.comparis.ch/carfinder/marktplatz/b...   \n",
       "11     1705078007-12  https://www.comparis.ch/carfinder/marktplatz/b...   \n",
       "12     1705078007-13  https://www.comparis.ch/carfinder/marktplatz/b...   \n",
       "14     1705078007-15  https://www.comparis.ch/carfinder/marktplatz/b...   \n",
       "15     1705078007-16  https://www.comparis.ch/carfinder/marktplatz/b...   \n",
       "\n",
       "                                             text_raw    price_raw  \\\n",
       "9   BMW X5 X5 XDRIVE 48V 40D M SPORT PRO STEPTRONI...  CHF 112'300   \n",
       "11  BMW X3 X3 XDRIVE 30ECHF 86'999AB CHF 1'393 / M...   CHF 86'999   \n",
       "12  BMW X1 X1 XDRIVE 30ECHF 69'900AB CHF 1'119 / M...   CHF 69'900   \n",
       "14  BMW IX IX1 XDRIVE 30 M SPORTCHF 71'900AB CHF 1...   CHF 71'900   \n",
       "15  BMW IX IX XDRIVE40CHF 99'900AB CHF 1'599 / MON...   CHF 99'900   \n",
       "\n",
       "                                   model_raw  \\\n",
       "9   X5 xDrive 48V 40d M Sport Pro Steptronic   \n",
       "11                             X3 xDrive 30e   \n",
       "12                             X1 xDrive 30e   \n",
       "14                     iX1 xDrive 30 M Sport   \n",
       "15                               iX xDrive40   \n",
       "\n",
       "                       type_year_km_transmission_fuel Location   PLZ km_raw  \\\n",
       "9   Occasion01.202410 kmAutomatElektro/Diesel1530 ...       VD  1530   None   \n",
       "11        Neuwagen10 kmAutomatBenzin/Elektro4147 (BL)       BL  4147   None   \n",
       "12        Neuwagen10 kmAutomatBenzin/Elektro3048 (BE)       BE  3048   None   \n",
       "14               Neuwagen10 kmAutomatElektro8048 (ZH)       ZH  8048   None   \n",
       "15               Neuwagen10 kmAutomatElektro9500 (SG)       SG  9500   None   \n",
       "\n",
       "    Year   price    km  luxury  competition  xDrive  automat km_cat  \\\n",
       "9   2024  112300  <NA>       0            0       1        1    NaN   \n",
       "11  4147   86999  <NA>       0            0       1        1    NaN   \n",
       "12  3048   69900  <NA>       0            0       1        1    NaN   \n",
       "14  8048   71900  <NA>       0            0       1        1    NaN   \n",
       "15  9500   99900  <NA>       0            0       1        1    NaN   \n",
       "\n",
       "    km_per_year km_per_year_cat  \n",
       "9          <NA>             NaN  \n",
       "11         <NA>             NaN  \n",
       "12         <NA>             NaN  \n",
       "14         <NA>             NaN  \n",
       "15         <NA>             NaN  "
      ]
     },
     "execution_count": 98,
     "metadata": {},
     "output_type": "execute_result"
    }
   ],
   "source": [
    "# Count missing values\n",
    "print(pd.isna(df).sum())\n",
    "\n",
    "# Identify rows with missing values\n",
    "df[df.isna().any(axis=1)].head()"
   ]
  },
  {
   "cell_type": "markdown",
   "id": "f1740797",
   "metadata": {},
   "source": [
    "## Count and identify duplicated values (if any)"
   ]
  },
  {
   "cell_type": "markdown",
   "id": "31e260fb",
   "metadata": {},
   "source": [
    "It seems like there are no duplicates in the DataFrame"
   ]
  },
  {
   "cell_type": "code",
   "execution_count": 99,
   "id": "86604f48",
   "metadata": {},
   "outputs": [
    {
     "name": "stdout",
     "output_type": "stream",
     "text": [
      "0\n"
     ]
    },
    {
     "data": {
      "text/html": [
       "<div>\n",
       "<style scoped>\n",
       "    .dataframe tbody tr th:only-of-type {\n",
       "        vertical-align: middle;\n",
       "    }\n",
       "\n",
       "    .dataframe tbody tr th {\n",
       "        vertical-align: top;\n",
       "    }\n",
       "\n",
       "    .dataframe thead th {\n",
       "        text-align: right;\n",
       "    }\n",
       "</style>\n",
       "<table border=\"1\" class=\"dataframe\">\n",
       "  <thead>\n",
       "    <tr style=\"text-align: right;\">\n",
       "      <th></th>\n",
       "      <th>web-scraper-order</th>\n",
       "      <th>web-scraper-start-url</th>\n",
       "      <th>text_raw</th>\n",
       "      <th>price_raw</th>\n",
       "      <th>model_raw</th>\n",
       "      <th>type_year_km_transmission_fuel</th>\n",
       "      <th>Location</th>\n",
       "      <th>PLZ</th>\n",
       "      <th>km_raw</th>\n",
       "      <th>Year</th>\n",
       "      <th>price</th>\n",
       "      <th>km</th>\n",
       "      <th>luxury</th>\n",
       "      <th>competition</th>\n",
       "      <th>xDrive</th>\n",
       "      <th>automat</th>\n",
       "      <th>km_cat</th>\n",
       "      <th>km_per_year</th>\n",
       "      <th>km_per_year_cat</th>\n",
       "    </tr>\n",
       "  </thead>\n",
       "  <tbody>\n",
       "  </tbody>\n",
       "</table>\n",
       "</div>"
      ],
      "text/plain": [
       "Empty DataFrame\n",
       "Columns: [web-scraper-order, web-scraper-start-url, text_raw, price_raw, model_raw, type_year_km_transmission_fuel, Location, PLZ, km_raw, Year, price, km, luxury, competition, xDrive, automat, km_cat, km_per_year, km_per_year_cat]\n",
       "Index: []"
      ]
     },
     "execution_count": 99,
     "metadata": {},
     "output_type": "execute_result"
    }
   ],
   "source": [
    "# Count duplicated values\n",
    "print(df.duplicated().sum())\n",
    "\n",
    "# Identify rows with duplicated values, e.g.:\n",
    "df[df[['web-scraper-order', 'text_raw', 'model_raw']].duplicated()]"
   ]
  },
  {
   "cell_type": "markdown",
   "id": "165f8f9f",
   "metadata": {},
   "source": [
    "### Save data to file"
   ]
  },
  {
   "cell_type": "code",
   "execution_count": 100,
   "id": "3c2773d3",
   "metadata": {},
   "outputs": [],
   "source": [
    "df.to_csv('bmw_data_prepared.csv', \n",
    "          sep=\",\", \n",
    "          encoding='utf-8',\n",
    "          index=False)"
   ]
  },
  {
   "cell_type": "markdown",
   "id": "8eea77f3",
   "metadata": {},
   "source": [
    "### SQLLite3"
   ]
  },
  {
   "cell_type": "code",
   "execution_count": 101,
   "id": "94aea7ce",
   "metadata": {},
   "outputs": [],
   "source": [
    "import sqlite3\n",
    " \n",
    "# Daten laden, indem Sie den vollständigen Pfad zur Datei angeben\n",
    "bereinigte_daten = pd.read_csv('/workspaces/DA_Project/Project/Minimum/2&3/bmw_data_prepared.csv')\n",
    " \n",
    "# Verbindung zur Datenbank herstellen\n",
    "conn = sqlite3.connect('bmw_datenbank.db')\n",
    " \n",
    "# Daten in die Datenbank einfügen\n",
    "bereinigte_daten.to_sql('bmw_tabelle', conn, index=False, if_exists='replace')\n",
    " \n",
    "# Verbindung schließen\n",
    "conn.close()"
   ]
  },
  {
   "cell_type": "markdown",
   "id": "86257783",
   "metadata": {},
   "source": [
    "### Jupyter notebook --footer info-- (please always provide this at the end of each submitted notebook)"
   ]
  },
  {
   "cell_type": "code",
   "execution_count": 102,
   "id": "7f5bf8aa",
   "metadata": {},
   "outputs": [
    {
     "name": "stdout",
     "output_type": "stream",
     "text": [
      "-----------------------------------\n",
      "POSIX\n",
      "Linux | 6.2.0-1018-azure\n",
      "Datetime: 2024-01-13 12:17:28\n",
      "Python Version: 3.10.13\n",
      "-----------------------------------\n"
     ]
    }
   ],
   "source": [
    "import os\n",
    "import platform\n",
    "import socket\n",
    "from platform import python_version\n",
    "from datetime import datetime\n",
    "\n",
    "print('-----------------------------------')\n",
    "print(os.name.upper())\n",
    "print(platform.system(), '|', platform.release())\n",
    "print('Datetime:', datetime.now().strftime(\"%Y-%m-%d %H:%M:%S\"))\n",
    "print('Python Version:', python_version())\n",
    "print('-----------------------------------')"
   ]
  }
 ],
 "metadata": {
  "kernelspec": {
   "display_name": "Python 3 (ipykernel)",
   "language": "python",
   "name": "python3"
  },
  "language_info": {
   "codemirror_mode": {
    "name": "ipython",
    "version": 3
   },
   "file_extension": ".py",
   "mimetype": "text/x-python",
   "name": "python",
   "nbconvert_exporter": "python",
   "pygments_lexer": "ipython3",
   "version": "3.10.13"
  }
 },
 "nbformat": 4,
 "nbformat_minor": 5
}
