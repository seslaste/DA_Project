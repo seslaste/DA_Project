{
 "cells": [
  {
   "cell_type": "markdown",
   "id": "d766870b",
   "metadata": {},
   "source": [
    "# Combining & organizing data"
   ]
  },
  {
   "cell_type": "markdown",
   "id": "56c4a43d",
   "metadata": {},
   "source": [
    "## Libraries and settings"
   ]
  },
  {
   "cell_type": "code",
   "execution_count": 1,
   "id": "06ae6c4d",
   "metadata": {},
   "outputs": [
    {
     "name": "stdout",
     "output_type": "stream",
     "text": [
      "/workspaces/DA_Project/Project/Minimum/4/Vorarbeit\n"
     ]
    }
   ],
   "source": [
    "# Libraries\n",
    "import os\n",
    "import pandas as pd\n",
    "import numpy as np\n",
    "import fnmatch\n",
    "\n",
    "# Ignore warnings\n",
    "import warnings\n",
    "warnings.filterwarnings(\"ignore\")\n",
    "\n",
    "# Show current working directory\n",
    "print(os.getcwd())"
   ]
  },
  {
   "cell_type": "markdown",
   "id": "9043cb40",
   "metadata": {},
   "source": [
    "## Importing the prepared rental apartments data"
   ]
  },
  {
   "cell_type": "code",
   "execution_count": 2,
   "id": "0e0224b2",
   "metadata": {},
   "outputs": [
    {
     "name": "stdout",
     "output_type": "stream",
     "text": [
      "(990, 8)\n"
     ]
    },
    {
     "data": {
      "text/html": [
       "<div>\n",
       "<style scoped>\n",
       "    .dataframe tbody tr th:only-of-type {\n",
       "        vertical-align: middle;\n",
       "    }\n",
       "\n",
       "    .dataframe tbody tr th {\n",
       "        vertical-align: top;\n",
       "    }\n",
       "\n",
       "    .dataframe thead th {\n",
       "        text-align: right;\n",
       "    }\n",
       "</style>\n",
       "<table border=\"1\" class=\"dataframe\">\n",
       "  <thead>\n",
       "    <tr style=\"text-align: right;\">\n",
       "      <th></th>\n",
       "      <th>web-scraper-order</th>\n",
       "      <th>model_raw</th>\n",
       "      <th>Location</th>\n",
       "      <th>PLZ</th>\n",
       "      <th>Year</th>\n",
       "      <th>price</th>\n",
       "      <th>km</th>\n",
       "      <th>km_per_year</th>\n",
       "    </tr>\n",
       "  </thead>\n",
       "  <tbody>\n",
       "    <tr>\n",
       "      <th>0</th>\n",
       "      <td>1705078003-1</td>\n",
       "      <td>X3 xDrive 20d xLine Steptronic</td>\n",
       "      <td>GE</td>\n",
       "      <td>1227</td>\n",
       "      <td>2016</td>\n",
       "      <td>22900</td>\n",
       "      <td>119500.0</td>\n",
       "      <td>14937.50</td>\n",
       "    </tr>\n",
       "    <tr>\n",
       "      <th>1</th>\n",
       "      <td>1705078003-2</td>\n",
       "      <td>540i</td>\n",
       "      <td>BL</td>\n",
       "      <td>4461</td>\n",
       "      <td>2006</td>\n",
       "      <td>13750</td>\n",
       "      <td>124900.0</td>\n",
       "      <td>6938.89</td>\n",
       "    </tr>\n",
       "    <tr>\n",
       "      <th>2</th>\n",
       "      <td>1705078003-3</td>\n",
       "      <td>225xe iPerformance Active Tourer Steptronic M ...</td>\n",
       "      <td>BL</td>\n",
       "      <td>4460</td>\n",
       "      <td>2019</td>\n",
       "      <td>28800</td>\n",
       "      <td>28950.0</td>\n",
       "      <td>5790.00</td>\n",
       "    </tr>\n",
       "    <tr>\n",
       "      <th>3</th>\n",
       "      <td>1705078003-4</td>\n",
       "      <td>316i Compact</td>\n",
       "      <td>ZG</td>\n",
       "      <td>6300</td>\n",
       "      <td>2000</td>\n",
       "      <td>1100</td>\n",
       "      <td>248013.0</td>\n",
       "      <td>10333.88</td>\n",
       "    </tr>\n",
       "    <tr>\n",
       "      <th>4</th>\n",
       "      <td>1705078003-5</td>\n",
       "      <td>530xi Steptronic</td>\n",
       "      <td>LU</td>\n",
       "      <td>6010</td>\n",
       "      <td>2008</td>\n",
       "      <td>10900</td>\n",
       "      <td>160000.0</td>\n",
       "      <td>10000.00</td>\n",
       "    </tr>\n",
       "  </tbody>\n",
       "</table>\n",
       "</div>"
      ],
      "text/plain": [
       "  web-scraper-order                                          model_raw  \\\n",
       "0      1705078003-1                     X3 xDrive 20d xLine Steptronic   \n",
       "1      1705078003-2                                               540i   \n",
       "2      1705078003-3  225xe iPerformance Active Tourer Steptronic M ...   \n",
       "3      1705078003-4                                       316i Compact   \n",
       "4      1705078003-5                                   530xi Steptronic   \n",
       "\n",
       "  Location   PLZ  Year  price        km  km_per_year  \n",
       "0       GE  1227  2016  22900  119500.0     14937.50  \n",
       "1       BL  4461  2006  13750  124900.0      6938.89  \n",
       "2       BL  4460  2019  28800   28950.0      5790.00  \n",
       "3       ZG  6300  2000   1100  248013.0     10333.88  \n",
       "4       LU  6010  2008  10900  160000.0     10000.00  "
      ]
     },
     "execution_count": 2,
     "metadata": {},
     "output_type": "execute_result"
    }
   ],
   "source": [
    "# Read data to pandas data frame\n",
    "df_orig = pd.read_csv('bmw_data_prepared.csv', \n",
    "                      sep=',', \n",
    "                      encoding='utf-8')\n",
    "\n",
    "# Copy of data with selected colums\n",
    "columns = [ 'web-scraper-order', \n",
    "            'model_raw',\n",
    "            'Location',\n",
    "            'PLZ',\n",
    "            'Year',\n",
    "            'price',\n",
    "            'km',\n",
    "            'km_per_year',]\n",
    "df = df_orig[columns]\n",
    "\n",
    "# Get number of rows and columns\n",
    "print(df.shape)\n",
    "\n",
    "# Show first records\n",
    "df.head(5)"
   ]
  },
  {
   "cell_type": "markdown",
   "id": "5c201f19",
   "metadata": {},
   "source": [
    "### Export data to file"
   ]
  },
  {
   "cell_type": "code",
   "execution_count": 3,
   "id": "d7ab8250",
   "metadata": {},
   "outputs": [
    {
     "name": "stdout",
     "output_type": "stream",
     "text": [
      "web-scraper-order    0\n",
      "model_raw            0\n",
      "Location             0\n",
      "PLZ                  0\n",
      "Year                 0\n",
      "price                0\n",
      "km                   0\n",
      "km_per_year          0\n",
      "dtype: int64\n",
      "(877, 8)\n"
     ]
    }
   ],
   "source": [
    "# Remove missing values which may have ocured from the merging process\n",
    "df = df.dropna()\n",
    "\n",
    "# Check for missing values per column\n",
    "print(df.isna().sum())\n",
    "\n",
    "# Count number of rows and columns\n",
    "print(df.shape)\n",
    "\n",
    "# Export apartment data to file\n",
    "df.to_csv('bmw_data_enriched.csv',\n",
    "            sep=',',\n",
    "            encoding='utf-8')"
   ]
  },
  {
   "cell_type": "markdown",
   "id": "9cec2fdf",
   "metadata": {},
   "source": [
    "### Jupyter notebook --footer info-- (please always provide this at the end of each submitted notebook)"
   ]
  },
  {
   "cell_type": "code",
   "execution_count": 4,
   "id": "1ae752a7",
   "metadata": {},
   "outputs": [
    {
     "name": "stdout",
     "output_type": "stream",
     "text": [
      "-----------------------------------\n",
      "POSIX\n",
      "Linux | 6.2.0-1018-azure\n",
      "Datetime: 2024-01-12 17:20:55\n",
      "Python Version: 3.10.13\n",
      "-----------------------------------\n"
     ]
    }
   ],
   "source": [
    "import os\n",
    "import platform\n",
    "import socket\n",
    "from platform import python_version\n",
    "from datetime import datetime\n",
    "\n",
    "print('-----------------------------------')\n",
    "print(os.name.upper())\n",
    "print(platform.system(), '|', platform.release())\n",
    "print('Datetime:', datetime.now().strftime(\"%Y-%m-%d %H:%M:%S\"))\n",
    "print('Python Version:', python_version())\n",
    "print('-----------------------------------')"
   ]
  }
 ],
 "metadata": {
  "kernelspec": {
   "display_name": "Python 3 (ipykernel)",
   "language": "python",
   "name": "python3"
  },
  "language_info": {
   "codemirror_mode": {
    "name": "ipython",
    "version": 3
   },
   "file_extension": ".py",
   "mimetype": "text/x-python",
   "name": "python",
   "nbconvert_exporter": "python",
   "pygments_lexer": "ipython3",
   "version": "3.10.13"
  }
 },
 "nbformat": 4,
 "nbformat_minor": 5
}
