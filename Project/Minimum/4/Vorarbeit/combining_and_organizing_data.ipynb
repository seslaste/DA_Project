{
 "cells": [
  {
   "cell_type": "markdown",
   "id": "d766870b",
   "metadata": {},
   "source": [
    "# Combining & organizing data"
   ]
  },
  {
   "cell_type": "markdown",
   "id": "56c4a43d",
   "metadata": {},
   "source": [
    "## Libraries and settings"
   ]
  },
  {
   "cell_type": "code",
   "execution_count": 4,
   "id": "06ae6c4d",
   "metadata": {},
   "outputs": [
    {
     "name": "stdout",
     "output_type": "stream",
     "text": [
      "/workspaces/DA_Project/Project/Minimum/4/Vorarbeit\n"
     ]
    }
   ],
   "source": [
    "# Libraries\n",
    "import os\n",
    "import pandas as pd\n",
    "import numpy as np\n",
    "import fnmatch\n",
    "\n",
    "# Ignore warnings\n",
    "import warnings\n",
    "warnings.filterwarnings(\"ignore\")\n",
    "\n",
    "# Show current working directory\n",
    "print(os.getcwd())"
   ]
  },
  {
   "cell_type": "markdown",
   "id": "9043cb40",
   "metadata": {},
   "source": [
    "## Importing the prepared rental apartments data"
   ]
  },
  {
   "cell_type": "code",
   "execution_count": 5,
   "id": "0e0224b2",
   "metadata": {},
   "outputs": [
    {
     "name": "stdout",
     "output_type": "stream",
     "text": [
      "(50, 8)\n"
     ]
    },
    {
     "data": {
      "text/html": [
       "<div>\n",
       "<style scoped>\n",
       "    .dataframe tbody tr th:only-of-type {\n",
       "        vertical-align: middle;\n",
       "    }\n",
       "\n",
       "    .dataframe tbody tr th {\n",
       "        vertical-align: top;\n",
       "    }\n",
       "\n",
       "    .dataframe thead th {\n",
       "        text-align: right;\n",
       "    }\n",
       "</style>\n",
       "<table border=\"1\" class=\"dataframe\">\n",
       "  <thead>\n",
       "    <tr style=\"text-align: right;\">\n",
       "      <th></th>\n",
       "      <th>web-scraper-order</th>\n",
       "      <th>model_raw</th>\n",
       "      <th>Location</th>\n",
       "      <th>PLZ</th>\n",
       "      <th>Year</th>\n",
       "      <th>price</th>\n",
       "      <th>km</th>\n",
       "      <th>km_per_year</th>\n",
       "    </tr>\n",
       "  </thead>\n",
       "  <tbody>\n",
       "    <tr>\n",
       "      <th>0</th>\n",
       "      <td>1704481912-1</td>\n",
       "      <td>220d xDrive Gran Tourer Steptronic</td>\n",
       "      <td>VD</td>\n",
       "      <td>1299</td>\n",
       "      <td>2017</td>\n",
       "      <td>21000</td>\n",
       "      <td>107000</td>\n",
       "      <td>15285.71</td>\n",
       "    </tr>\n",
       "    <tr>\n",
       "      <th>1</th>\n",
       "      <td>1704481912-2</td>\n",
       "      <td>X5M Steptronic</td>\n",
       "      <td>SG</td>\n",
       "      <td>8730</td>\n",
       "      <td>2016</td>\n",
       "      <td>38500</td>\n",
       "      <td>171000</td>\n",
       "      <td>21375.00</td>\n",
       "    </tr>\n",
       "    <tr>\n",
       "      <th>2</th>\n",
       "      <td>1704481912-3</td>\n",
       "      <td>X3 M40d Individual Steptronic</td>\n",
       "      <td>FR</td>\n",
       "      <td>3178</td>\n",
       "      <td>2019</td>\n",
       "      <td>44990</td>\n",
       "      <td>88900</td>\n",
       "      <td>17780.00</td>\n",
       "    </tr>\n",
       "    <tr>\n",
       "      <th>3</th>\n",
       "      <td>1704481912-4</td>\n",
       "      <td>X5 xDrive 30d Steptronic</td>\n",
       "      <td>BL</td>\n",
       "      <td>4461</td>\n",
       "      <td>2016</td>\n",
       "      <td>26500</td>\n",
       "      <td>164900</td>\n",
       "      <td>20612.50</td>\n",
       "    </tr>\n",
       "    <tr>\n",
       "      <th>4</th>\n",
       "      <td>1704481912-5</td>\n",
       "      <td>320i Cabriolet Steptronic</td>\n",
       "      <td>BL</td>\n",
       "      <td>4461</td>\n",
       "      <td>2010</td>\n",
       "      <td>16750</td>\n",
       "      <td>79600</td>\n",
       "      <td>5685.71</td>\n",
       "    </tr>\n",
       "  </tbody>\n",
       "</table>\n",
       "</div>"
      ],
      "text/plain": [
       "  web-scraper-order                           model_raw Location   PLZ  Year  \\\n",
       "0      1704481912-1  220d xDrive Gran Tourer Steptronic       VD  1299  2017   \n",
       "1      1704481912-2                      X5M Steptronic       SG  8730  2016   \n",
       "2      1704481912-3       X3 M40d Individual Steptronic       FR  3178  2019   \n",
       "3      1704481912-4            X5 xDrive 30d Steptronic       BL  4461  2016   \n",
       "4      1704481912-5           320i Cabriolet Steptronic       BL  4461  2010   \n",
       "\n",
       "   price      km  km_per_year  \n",
       "0  21000  107000     15285.71  \n",
       "1  38500  171000     21375.00  \n",
       "2  44990   88900     17780.00  \n",
       "3  26500  164900     20612.50  \n",
       "4  16750   79600      5685.71  "
      ]
     },
     "execution_count": 5,
     "metadata": {},
     "output_type": "execute_result"
    }
   ],
   "source": [
    "# Read data to pandas data frame\n",
    "df_orig = pd.read_csv('bmw_data_prepared.csv', \n",
    "                      sep=',', \n",
    "                      encoding='utf-8')\n",
    "\n",
    "# Copy of data with selected colums\n",
    "columns = [ 'web-scraper-order', \n",
    "            'model_raw',\n",
    "            'Location',\n",
    "            'PLZ',\n",
    "            'Year',\n",
    "            'price',\n",
    "            'km',\n",
    "            'km_per_year',]\n",
    "df = df_orig[columns]\n",
    "\n",
    "# Get number of rows and columns\n",
    "print(df.shape)\n",
    "\n",
    "# Show first records\n",
    "df.head(5)"
   ]
  },
  {
   "cell_type": "markdown",
   "id": "5c201f19",
   "metadata": {},
   "source": [
    "### Export data to file"
   ]
  },
  {
   "cell_type": "code",
   "execution_count": 6,
   "id": "d7ab8250",
   "metadata": {},
   "outputs": [
    {
     "name": "stdout",
     "output_type": "stream",
     "text": [
      "web-scraper-order    0\n",
      "model_raw            0\n",
      "Location             0\n",
      "PLZ                  0\n",
      "Year                 0\n",
      "price                0\n",
      "km                   0\n",
      "km_per_year          0\n",
      "dtype: int64\n",
      "(50, 8)\n"
     ]
    }
   ],
   "source": [
    "# Remove missing values which may have ocured from the merging process\n",
    "df = df.dropna()\n",
    "\n",
    "# Check for missing values per column\n",
    "print(df.isna().sum())\n",
    "\n",
    "# Count number of rows and columns\n",
    "print(df.shape)\n",
    "\n",
    "# Export apartment data to file\n",
    "df.to_csv('bmw_data_enriched.csv',\n",
    "            sep=',',\n",
    "            encoding='utf-8')"
   ]
  },
  {
   "cell_type": "markdown",
   "id": "9cec2fdf",
   "metadata": {},
   "source": [
    "### Jupyter notebook --footer info-- (please always provide this at the end of each submitted notebook)"
   ]
  },
  {
   "cell_type": "code",
   "execution_count": null,
   "id": "1ae752a7",
   "metadata": {},
   "outputs": [
    {
     "name": "stdout",
     "output_type": "stream",
     "text": [
      "-----------------------------------\n",
      "POSIX\n",
      "Linux | 6.2.0-1018-azure\n",
      "Datetime: 2024-01-08 16:32:24\n",
      "Python Version: 3.10.13\n",
      "-----------------------------------\n"
     ]
    }
   ],
   "source": [
    "import os\n",
    "import platform\n",
    "import socket\n",
    "from platform import python_version\n",
    "from datetime import datetime\n",
    "\n",
    "print('-----------------------------------')\n",
    "print(os.name.upper())\n",
    "print(platform.system(), '|', platform.release())\n",
    "print('Datetime:', datetime.now().strftime(\"%Y-%m-%d %H:%M:%S\"))\n",
    "print('Python Version:', python_version())\n",
    "print('-----------------------------------')"
   ]
  }
 ],
 "metadata": {
  "kernelspec": {
   "display_name": "Python 3 (ipykernel)",
   "language": "python",
   "name": "python3"
  },
  "language_info": {
   "codemirror_mode": {
    "name": "ipython",
    "version": 3
   },
   "file_extension": ".py",
   "mimetype": "text/x-python",
   "name": "python",
   "nbconvert_exporter": "python",
   "pygments_lexer": "ipython3",
   "version": "3.10.13"
  }
 },
 "nbformat": 4,
 "nbformat_minor": 5
}
