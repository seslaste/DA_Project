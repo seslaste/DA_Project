{
 "cells": [
  {
   "cell_type": "markdown",
   "metadata": {},
   "source": [
    "# Exploratory data analysis (EDA) of apartments data"
   ]
  },
  {
   "cell_type": "markdown",
   "metadata": {},
   "source": [
    "## Libraries and settings"
   ]
  },
  {
   "cell_type": "code",
   "execution_count": 1197,
   "metadata": {},
   "outputs": [
    {
     "name": "stdout",
     "output_type": "stream",
     "text": [
      "/workspaces/DA_Project/Project/Minimum/4\n"
     ]
    }
   ],
   "source": [
    "# Libraries\n",
    "import os\n",
    "import pandas as pd\n",
    "import numpy as np\n",
    "import seaborn as sns\n",
    "import matplotlib.pyplot as plt\n",
    "import statsmodels.api as sm\n",
    "import pylab as py\n",
    "\n",
    "# seaborn graphics settings\n",
    "sns.set(color_codes=True)\n",
    "\n",
    "# Ignore warnings\n",
    "import warnings\n",
    "warnings.filterwarnings(\"ignore\")\n",
    "\n",
    "# Show current working directory\n",
    "print(os.getcwd())"
   ]
  },
  {
   "cell_type": "markdown",
   "metadata": {},
   "source": [
    "## Univariate non-graphical exploratory data analysis (EDA)"
   ]
  },
  {
   "cell_type": "markdown",
   "metadata": {},
   "source": [
    "### Importing the enriched apartment data"
   ]
  },
  {
   "cell_type": "code",
   "execution_count": 1198,
   "metadata": {},
   "outputs": [
    {
     "data": {
      "text/html": [
       "<div>\n",
       "<style scoped>\n",
       "    .dataframe tbody tr th:only-of-type {\n",
       "        vertical-align: middle;\n",
       "    }\n",
       "\n",
       "    .dataframe tbody tr th {\n",
       "        vertical-align: top;\n",
       "    }\n",
       "\n",
       "    .dataframe thead th {\n",
       "        text-align: right;\n",
       "    }\n",
       "</style>\n",
       "<table border=\"1\" class=\"dataframe\">\n",
       "  <thead>\n",
       "    <tr style=\"text-align: right;\">\n",
       "      <th></th>\n",
       "      <th>web-scraper-order</th>\n",
       "      <th>model_raw</th>\n",
       "      <th>Location</th>\n",
       "      <th>PLZ</th>\n",
       "      <th>Year</th>\n",
       "      <th>price</th>\n",
       "      <th>km</th>\n",
       "      <th>km_per_year</th>\n",
       "    </tr>\n",
       "  </thead>\n",
       "  <tbody>\n",
       "    <tr>\n",
       "      <th>0</th>\n",
       "      <td>1704481912-1</td>\n",
       "      <td>220d xDrive Gran Tourer Steptronic</td>\n",
       "      <td>VD</td>\n",
       "      <td>1299</td>\n",
       "      <td>2017</td>\n",
       "      <td>21000</td>\n",
       "      <td>107000</td>\n",
       "      <td>15285.71</td>\n",
       "    </tr>\n",
       "    <tr>\n",
       "      <th>1</th>\n",
       "      <td>1704481912-2</td>\n",
       "      <td>X5M Steptronic</td>\n",
       "      <td>SG</td>\n",
       "      <td>8730</td>\n",
       "      <td>2016</td>\n",
       "      <td>38500</td>\n",
       "      <td>171000</td>\n",
       "      <td>21375.00</td>\n",
       "    </tr>\n",
       "    <tr>\n",
       "      <th>2</th>\n",
       "      <td>1704481912-3</td>\n",
       "      <td>X3 M40d Individual Steptronic</td>\n",
       "      <td>FR</td>\n",
       "      <td>3178</td>\n",
       "      <td>2019</td>\n",
       "      <td>44990</td>\n",
       "      <td>88900</td>\n",
       "      <td>17780.00</td>\n",
       "    </tr>\n",
       "    <tr>\n",
       "      <th>3</th>\n",
       "      <td>1704481912-4</td>\n",
       "      <td>X5 xDrive 30d Steptronic</td>\n",
       "      <td>BL</td>\n",
       "      <td>4461</td>\n",
       "      <td>2016</td>\n",
       "      <td>26500</td>\n",
       "      <td>164900</td>\n",
       "      <td>20612.50</td>\n",
       "    </tr>\n",
       "    <tr>\n",
       "      <th>4</th>\n",
       "      <td>1704481912-5</td>\n",
       "      <td>320i Cabriolet Steptronic</td>\n",
       "      <td>BL</td>\n",
       "      <td>4461</td>\n",
       "      <td>2010</td>\n",
       "      <td>16750</td>\n",
       "      <td>79600</td>\n",
       "      <td>5685.71</td>\n",
       "    </tr>\n",
       "  </tbody>\n",
       "</table>\n",
       "</div>"
      ],
      "text/plain": [
       "  web-scraper-order                           model_raw Location   PLZ  Year  \\\n",
       "0      1704481912-1  220d xDrive Gran Tourer Steptronic       VD  1299  2017   \n",
       "1      1704481912-2                      X5M Steptronic       SG  8730  2016   \n",
       "2      1704481912-3       X3 M40d Individual Steptronic       FR  3178  2019   \n",
       "3      1704481912-4            X5 xDrive 30d Steptronic       BL  4461  2016   \n",
       "4      1704481912-5           320i Cabriolet Steptronic       BL  4461  2010   \n",
       "\n",
       "   price      km  km_per_year  \n",
       "0  21000  107000     15285.71  \n",
       "1  38500  171000     21375.00  \n",
       "2  44990   88900     17780.00  \n",
       "3  26500  164900     20612.50  \n",
       "4  16750   79600      5685.71  "
      ]
     },
     "execution_count": 1198,
     "metadata": {},
     "output_type": "execute_result"
    }
   ],
   "source": [
    "# Read and select variables\n",
    "df = pd.read_csv(\"bmw_data_enriched.csv\")[[ 'web-scraper-order', \n",
    "                                                        'model_raw',\n",
    "                                                        'Location',\n",
    "                                                        'PLZ',\n",
    "                                                        'Year',\n",
    "                                                        'price',\n",
    "                                                        'km',\n",
    "                                                        'km_per_year',]]\n",
    "\n",
    "# Remove duplicates\n",
    "df = df.drop_duplicates()\n",
    "df.head(5)\n",
    "\n",
    "# Remove missing values\n",
    "df = df.dropna()\n",
    "df.head(5)"
   ]
  },
  {
   "cell_type": "markdown",
   "metadata": {},
   "source": [
    "### Quantiles original values"
   ]
  },
  {
   "cell_type": "code",
   "execution_count": 1199,
   "metadata": {},
   "outputs": [
    {
     "data": {
      "text/html": [
       "<div>\n",
       "<style scoped>\n",
       "    .dataframe tbody tr th:only-of-type {\n",
       "        vertical-align: middle;\n",
       "    }\n",
       "\n",
       "    .dataframe tbody tr th {\n",
       "        vertical-align: top;\n",
       "    }\n",
       "\n",
       "    .dataframe thead th {\n",
       "        text-align: right;\n",
       "    }\n",
       "</style>\n",
       "<table border=\"1\" class=\"dataframe\">\n",
       "  <thead>\n",
       "    <tr style=\"text-align: right;\">\n",
       "      <th></th>\n",
       "      <th>price</th>\n",
       "      <th>km</th>\n",
       "      <th>km_per_year</th>\n",
       "      <th>Year</th>\n",
       "    </tr>\n",
       "  </thead>\n",
       "  <tbody>\n",
       "    <tr>\n",
       "      <th>0.05</th>\n",
       "      <td>8900.0</td>\n",
       "      <td>33600.0</td>\n",
       "      <td>5685.71</td>\n",
       "      <td>2007.0</td>\n",
       "    </tr>\n",
       "    <tr>\n",
       "      <th>0.10</th>\n",
       "      <td>15965.0</td>\n",
       "      <td>57270.0</td>\n",
       "      <td>8128.57</td>\n",
       "      <td>2009.7</td>\n",
       "    </tr>\n",
       "    <tr>\n",
       "      <th>0.25</th>\n",
       "      <td>21000.0</td>\n",
       "      <td>79600.0</td>\n",
       "      <td>11070.00</td>\n",
       "      <td>2014.0</td>\n",
       "    </tr>\n",
       "    <tr>\n",
       "      <th>0.50</th>\n",
       "      <td>25700.0</td>\n",
       "      <td>98550.0</td>\n",
       "      <td>13788.66</td>\n",
       "      <td>2016.5</td>\n",
       "    </tr>\n",
       "    <tr>\n",
       "      <th>0.75</th>\n",
       "      <td>38500.0</td>\n",
       "      <td>164900.0</td>\n",
       "      <td>17780.00</td>\n",
       "      <td>2019.0</td>\n",
       "    </tr>\n",
       "    <tr>\n",
       "      <th>0.90</th>\n",
       "      <td>46880.0</td>\n",
       "      <td>178900.0</td>\n",
       "      <td>20688.75</td>\n",
       "      <td>2019.1</td>\n",
       "    </tr>\n",
       "    <tr>\n",
       "      <th>0.95</th>\n",
       "      <td>63890.0</td>\n",
       "      <td>250000.0</td>\n",
       "      <td>21375.00</td>\n",
       "      <td>2020.0</td>\n",
       "    </tr>\n",
       "  </tbody>\n",
       "</table>\n",
       "</div>"
      ],
      "text/plain": [
       "        price        km  km_per_year    Year\n",
       "0.05   8900.0   33600.0      5685.71  2007.0\n",
       "0.10  15965.0   57270.0      8128.57  2009.7\n",
       "0.25  21000.0   79600.0     11070.00  2014.0\n",
       "0.50  25700.0   98550.0     13788.66  2016.5\n",
       "0.75  38500.0  164900.0     17780.00  2019.0\n",
       "0.90  46880.0  178900.0     20688.75  2019.1\n",
       "0.95  63890.0  250000.0     21375.00  2020.0"
      ]
     },
     "execution_count": 1199,
     "metadata": {},
     "output_type": "execute_result"
    }
   ],
   "source": [
    "df[['price','km', 'km_per_year', 'Year']].quantile(q=[0.05, 0.10, 0.25, 0.50, 0.75, 0.90, 0.95]).round(2)"
   ]
  },
  {
   "cell_type": "markdown",
   "metadata": {},
   "source": [
    "### Shape (number of rows and colums)"
   ]
  },
  {
   "cell_type": "code",
   "execution_count": 1200,
   "metadata": {},
   "outputs": [
    {
     "name": "stdout",
     "output_type": "stream",
     "text": [
      "(50, 8)\n"
     ]
    }
   ],
   "source": [
    "# Number of rows and columns\n",
    "print(df.shape)"
   ]
  },
  {
   "cell_type": "markdown",
   "metadata": {},
   "source": [
    "### Data types"
   ]
  },
  {
   "cell_type": "code",
   "execution_count": 1201,
   "metadata": {},
   "outputs": [
    {
     "data": {
      "text/plain": [
       "web-scraper-order     object\n",
       "model_raw             object\n",
       "Location              object\n",
       "PLZ                    int64\n",
       "Year                   int64\n",
       "price                  int64\n",
       "km                     int64\n",
       "km_per_year          float64\n",
       "dtype: object"
      ]
     },
     "execution_count": 1201,
     "metadata": {},
     "output_type": "execute_result"
    }
   ],
   "source": [
    "df.dtypes"
   ]
  },
  {
   "cell_type": "markdown",
   "metadata": {},
   "source": [
    "### Summary statistics of numeric variables"
   ]
  },
  {
   "cell_type": "code",
   "execution_count": 1202,
   "metadata": {},
   "outputs": [
    {
     "data": {
      "text/html": [
       "<div>\n",
       "<style scoped>\n",
       "    .dataframe tbody tr th:only-of-type {\n",
       "        vertical-align: middle;\n",
       "    }\n",
       "\n",
       "    .dataframe tbody tr th {\n",
       "        vertical-align: top;\n",
       "    }\n",
       "\n",
       "    .dataframe thead th {\n",
       "        text-align: right;\n",
       "    }\n",
       "</style>\n",
       "<table border=\"1\" class=\"dataframe\">\n",
       "  <thead>\n",
       "    <tr style=\"text-align: right;\">\n",
       "      <th></th>\n",
       "      <th>PLZ</th>\n",
       "      <th>Year</th>\n",
       "      <th>price</th>\n",
       "      <th>km</th>\n",
       "      <th>km_per_year</th>\n",
       "    </tr>\n",
       "  </thead>\n",
       "  <tbody>\n",
       "    <tr>\n",
       "      <th>count</th>\n",
       "      <td>50.000000</td>\n",
       "      <td>50.000000</td>\n",
       "      <td>50.000000</td>\n",
       "      <td>50.000000</td>\n",
       "      <td>50.000000</td>\n",
       "    </tr>\n",
       "    <tr>\n",
       "      <th>mean</th>\n",
       "      <td>5012.800000</td>\n",
       "      <td>2015.500000</td>\n",
       "      <td>30392.000000</td>\n",
       "      <td>115570.000000</td>\n",
       "      <td>13976.623000</td>\n",
       "    </tr>\n",
       "    <tr>\n",
       "      <th>std</th>\n",
       "      <td>2224.004102</td>\n",
       "      <td>3.970555</td>\n",
       "      <td>15336.657966</td>\n",
       "      <td>60732.435102</td>\n",
       "      <td>4833.729511</td>\n",
       "    </tr>\n",
       "    <tr>\n",
       "      <th>min</th>\n",
       "      <td>1299.000000</td>\n",
       "      <td>2007.000000</td>\n",
       "      <td>8900.000000</td>\n",
       "      <td>33600.000000</td>\n",
       "      <td>5685.710000</td>\n",
       "    </tr>\n",
       "    <tr>\n",
       "      <th>25%</th>\n",
       "      <td>3930.000000</td>\n",
       "      <td>2014.000000</td>\n",
       "      <td>21000.000000</td>\n",
       "      <td>79600.000000</td>\n",
       "      <td>11070.000000</td>\n",
       "    </tr>\n",
       "    <tr>\n",
       "      <th>50%</th>\n",
       "      <td>4461.000000</td>\n",
       "      <td>2016.500000</td>\n",
       "      <td>25700.000000</td>\n",
       "      <td>98550.000000</td>\n",
       "      <td>13788.655000</td>\n",
       "    </tr>\n",
       "    <tr>\n",
       "      <th>75%</th>\n",
       "      <td>6210.000000</td>\n",
       "      <td>2019.000000</td>\n",
       "      <td>38500.000000</td>\n",
       "      <td>164900.000000</td>\n",
       "      <td>17780.000000</td>\n",
       "    </tr>\n",
       "    <tr>\n",
       "      <th>max</th>\n",
       "      <td>8735.000000</td>\n",
       "      <td>2020.000000</td>\n",
       "      <td>63890.000000</td>\n",
       "      <td>250000.000000</td>\n",
       "      <td>21375.000000</td>\n",
       "    </tr>\n",
       "  </tbody>\n",
       "</table>\n",
       "</div>"
      ],
      "text/plain": [
       "               PLZ         Year         price             km   km_per_year\n",
       "count    50.000000    50.000000     50.000000      50.000000     50.000000\n",
       "mean   5012.800000  2015.500000  30392.000000  115570.000000  13976.623000\n",
       "std    2224.004102     3.970555  15336.657966   60732.435102   4833.729511\n",
       "min    1299.000000  2007.000000   8900.000000   33600.000000   5685.710000\n",
       "25%    3930.000000  2014.000000  21000.000000   79600.000000  11070.000000\n",
       "50%    4461.000000  2016.500000  25700.000000   98550.000000  13788.655000\n",
       "75%    6210.000000  2019.000000  38500.000000  164900.000000  17780.000000\n",
       "max    8735.000000  2020.000000  63890.000000  250000.000000  21375.000000"
      ]
     },
     "execution_count": 1202,
     "metadata": {},
     "output_type": "execute_result"
    }
   ],
   "source": [
    "df.describe()"
   ]
  },
  {
   "cell_type": "markdown",
   "metadata": {},
   "source": [
    "### Statistical measures (min, max, std, mean, median, count) for selected variables"
   ]
  },
  {
   "cell_type": "code",
   "execution_count": 1203,
   "metadata": {},
   "outputs": [
    {
     "name": "stdout",
     "output_type": "stream",
     "text": [
      "Price: Count: 50 Min: 8900 Max: 63890 Mean: 30392.0 Median: 13788.7 Std: 4833.7\n",
      "km: Count: 50 Min: 33600 Max: 250000 Mean: 115570.0 Median: 98550.0 Std: 60732.4\n",
      "km_per_year: Count: 50 Min: 5685.7 Max: 21375.0 Mean: 13976.6 Median: 13788.7 Std: 4833.7\n"
     ]
    }
   ],
   "source": [
    "# Price\n",
    "print('Price:',\n",
    "      'Count:', round(df.price.count(), 1),\n",
    "      'Min:', round(df.price.min(), 1),\n",
    "      'Max:', round(df.price.max(), 1),\n",
    "      'Mean:', round(df.price.mean(), 1),\n",
    "      'Median:', round(df.km_per_year.median(), 1),\n",
    "      'Std:', round(df.km_per_year.std(), 1))\n",
    "\n",
    "# km\n",
    "print('km:',\n",
    "      'Count:', round(df.km.count(), 1),\n",
    "      'Min:', round(df.km.min(), 1),\n",
    "      'Max:', round(df.km.max(), 1),\n",
    "      'Mean:', round(df.km.mean(), 1),\n",
    "      'Median:', round(df.km.median(), 1),\n",
    "      'Std:', round(df.km.std(), 1))\n",
    "\n",
    "# km_per_year\n",
    "print('km_per_year:',\n",
    "      'Count:', round(df.km_per_year.count(), 1),\n",
    "      'Min:', round(df.km_per_year.min(), 1),\n",
    "      'Max:', round(df.km_per_year.max(), 1),\n",
    "      'Mean:', round(df.km_per_year.mean(), 1),\n",
    "      'Median:', round(df.km_per_year.median(), 1),\n",
    "      'Std:', round(df.km_per_year.std(), 1))"
   ]
  },
  {
   "cell_type": "markdown",
   "metadata": {},
   "source": [
    "### Skewness"
   ]
  },
  {
   "cell_type": "code",
   "execution_count": 1204,
   "metadata": {},
   "outputs": [
    {
     "data": {
      "text/plain": [
       "km_per_year   -0.021068\n",
       "km             0.908023\n",
       "km_per_year   -0.021068\n",
       "dtype: float64"
      ]
     },
     "execution_count": 1204,
     "metadata": {},
     "output_type": "execute_result"
    }
   ],
   "source": [
    "df[['km_per_year','km', 'km_per_year']].skew()"
   ]
  },
  {
   "cell_type": "markdown",
   "metadata": {},
   "source": [
    "### Kurtosis"
   ]
  },
  {
   "cell_type": "code",
   "execution_count": 1205,
   "metadata": {},
   "outputs": [
    {
     "data": {
      "text/plain": [
       "price          0.088432\n",
       "km             0.192401\n",
       "km_per_year   -0.883904\n",
       "dtype: float64"
      ]
     },
     "execution_count": 1205,
     "metadata": {},
     "output_type": "execute_result"
    }
   ],
   "source": [
    "df[['price','km', 'km_per_year']].kurtosis()"
   ]
  },
  {
   "cell_type": "markdown",
   "metadata": {},
   "source": [
    "### Extreme values"
   ]
  },
  {
   "cell_type": "code",
   "execution_count": 1206,
   "metadata": {},
   "outputs": [
    {
     "data": {
      "text/html": [
       "<div>\n",
       "<style scoped>\n",
       "    .dataframe tbody tr th:only-of-type {\n",
       "        vertical-align: middle;\n",
       "    }\n",
       "\n",
       "    .dataframe tbody tr th {\n",
       "        vertical-align: top;\n",
       "    }\n",
       "\n",
       "    .dataframe thead th {\n",
       "        text-align: right;\n",
       "    }\n",
       "</style>\n",
       "<table border=\"1\" class=\"dataframe\">\n",
       "  <thead>\n",
       "    <tr style=\"text-align: right;\">\n",
       "      <th></th>\n",
       "      <th>web-scraper-order</th>\n",
       "      <th>model_raw</th>\n",
       "      <th>Location</th>\n",
       "      <th>PLZ</th>\n",
       "      <th>Year</th>\n",
       "      <th>price</th>\n",
       "      <th>km</th>\n",
       "      <th>km_per_year</th>\n",
       "    </tr>\n",
       "  </thead>\n",
       "  <tbody>\n",
       "  </tbody>\n",
       "</table>\n",
       "</div>"
      ],
      "text/plain": [
       "Empty DataFrame\n",
       "Columns: [web-scraper-order, model_raw, Location, PLZ, Year, price, km, km_per_year]\n",
       "Index: []"
      ]
     },
     "execution_count": 1206,
     "metadata": {},
     "output_type": "execute_result"
    }
   ],
   "source": [
    "# Very low mileage per year\n",
    "df[df['km_per_year'] <= 5000]"
   ]
  },
  {
   "cell_type": "code",
   "execution_count": 1207,
   "metadata": {},
   "outputs": [
    {
     "data": {
      "text/html": [
       "<div>\n",
       "<style scoped>\n",
       "    .dataframe tbody tr th:only-of-type {\n",
       "        vertical-align: middle;\n",
       "    }\n",
       "\n",
       "    .dataframe tbody tr th {\n",
       "        vertical-align: top;\n",
       "    }\n",
       "\n",
       "    .dataframe thead th {\n",
       "        text-align: right;\n",
       "    }\n",
       "</style>\n",
       "<table border=\"1\" class=\"dataframe\">\n",
       "  <thead>\n",
       "    <tr style=\"text-align: right;\">\n",
       "      <th></th>\n",
       "      <th>web-scraper-order</th>\n",
       "      <th>model_raw</th>\n",
       "      <th>Location</th>\n",
       "      <th>PLZ</th>\n",
       "      <th>Year</th>\n",
       "      <th>price</th>\n",
       "      <th>km</th>\n",
       "      <th>km_per_year</th>\n",
       "    </tr>\n",
       "  </thead>\n",
       "  <tbody>\n",
       "    <tr>\n",
       "      <th>1</th>\n",
       "      <td>1704481912-2</td>\n",
       "      <td>X5M Steptronic</td>\n",
       "      <td>SG</td>\n",
       "      <td>8730</td>\n",
       "      <td>2016</td>\n",
       "      <td>38500</td>\n",
       "      <td>171000</td>\n",
       "      <td>21375.0</td>\n",
       "    </tr>\n",
       "    <tr>\n",
       "      <th>3</th>\n",
       "      <td>1704481912-4</td>\n",
       "      <td>X5 xDrive 30d Steptronic</td>\n",
       "      <td>BL</td>\n",
       "      <td>4461</td>\n",
       "      <td>2016</td>\n",
       "      <td>26500</td>\n",
       "      <td>164900</td>\n",
       "      <td>20612.5</td>\n",
       "    </tr>\n",
       "    <tr>\n",
       "      <th>11</th>\n",
       "      <td>1704481916-12</td>\n",
       "      <td>X5M Steptronic</td>\n",
       "      <td>SG</td>\n",
       "      <td>8730</td>\n",
       "      <td>2016</td>\n",
       "      <td>38500</td>\n",
       "      <td>171000</td>\n",
       "      <td>21375.0</td>\n",
       "    </tr>\n",
       "    <tr>\n",
       "      <th>13</th>\n",
       "      <td>1704481916-14</td>\n",
       "      <td>X5 xDrive 30d Steptronic</td>\n",
       "      <td>BL</td>\n",
       "      <td>4461</td>\n",
       "      <td>2016</td>\n",
       "      <td>26500</td>\n",
       "      <td>164900</td>\n",
       "      <td>20612.5</td>\n",
       "    </tr>\n",
       "    <tr>\n",
       "      <th>21</th>\n",
       "      <td>1704481921-22</td>\n",
       "      <td>X5M Steptronic</td>\n",
       "      <td>SG</td>\n",
       "      <td>8730</td>\n",
       "      <td>2016</td>\n",
       "      <td>38500</td>\n",
       "      <td>171000</td>\n",
       "      <td>21375.0</td>\n",
       "    </tr>\n",
       "    <tr>\n",
       "      <th>23</th>\n",
       "      <td>1704481921-24</td>\n",
       "      <td>X5 xDrive 30d Steptronic</td>\n",
       "      <td>BL</td>\n",
       "      <td>4461</td>\n",
       "      <td>2016</td>\n",
       "      <td>26500</td>\n",
       "      <td>164900</td>\n",
       "      <td>20612.5</td>\n",
       "    </tr>\n",
       "    <tr>\n",
       "      <th>31</th>\n",
       "      <td>1704481925-32</td>\n",
       "      <td>X5M Steptronic</td>\n",
       "      <td>SG</td>\n",
       "      <td>8730</td>\n",
       "      <td>2016</td>\n",
       "      <td>38500</td>\n",
       "      <td>171000</td>\n",
       "      <td>21375.0</td>\n",
       "    </tr>\n",
       "    <tr>\n",
       "      <th>33</th>\n",
       "      <td>1704481925-34</td>\n",
       "      <td>X5 xDrive 30d Steptronic</td>\n",
       "      <td>BL</td>\n",
       "      <td>4461</td>\n",
       "      <td>2016</td>\n",
       "      <td>26500</td>\n",
       "      <td>164900</td>\n",
       "      <td>20612.5</td>\n",
       "    </tr>\n",
       "    <tr>\n",
       "      <th>41</th>\n",
       "      <td>1704481929-42</td>\n",
       "      <td>X5M Steptronic</td>\n",
       "      <td>SG</td>\n",
       "      <td>8730</td>\n",
       "      <td>2016</td>\n",
       "      <td>38500</td>\n",
       "      <td>171000</td>\n",
       "      <td>21375.0</td>\n",
       "    </tr>\n",
       "    <tr>\n",
       "      <th>43</th>\n",
       "      <td>1704481929-44</td>\n",
       "      <td>X5 xDrive 30d Steptronic</td>\n",
       "      <td>BL</td>\n",
       "      <td>4461</td>\n",
       "      <td>2016</td>\n",
       "      <td>26500</td>\n",
       "      <td>164900</td>\n",
       "      <td>20612.5</td>\n",
       "    </tr>\n",
       "  </tbody>\n",
       "</table>\n",
       "</div>"
      ],
      "text/plain": [
       "   web-scraper-order                 model_raw Location   PLZ  Year  price  \\\n",
       "1       1704481912-2            X5M Steptronic       SG  8730  2016  38500   \n",
       "3       1704481912-4  X5 xDrive 30d Steptronic       BL  4461  2016  26500   \n",
       "11     1704481916-12            X5M Steptronic       SG  8730  2016  38500   \n",
       "13     1704481916-14  X5 xDrive 30d Steptronic       BL  4461  2016  26500   \n",
       "21     1704481921-22            X5M Steptronic       SG  8730  2016  38500   \n",
       "23     1704481921-24  X5 xDrive 30d Steptronic       BL  4461  2016  26500   \n",
       "31     1704481925-32            X5M Steptronic       SG  8730  2016  38500   \n",
       "33     1704481925-34  X5 xDrive 30d Steptronic       BL  4461  2016  26500   \n",
       "41     1704481929-42            X5M Steptronic       SG  8730  2016  38500   \n",
       "43     1704481929-44  X5 xDrive 30d Steptronic       BL  4461  2016  26500   \n",
       "\n",
       "        km  km_per_year  \n",
       "1   171000      21375.0  \n",
       "3   164900      20612.5  \n",
       "11  171000      21375.0  \n",
       "13  164900      20612.5  \n",
       "21  171000      21375.0  \n",
       "23  164900      20612.5  \n",
       "31  171000      21375.0  \n",
       "33  164900      20612.5  \n",
       "41  171000      21375.0  \n",
       "43  164900      20612.5  "
      ]
     },
     "execution_count": 1207,
     "metadata": {},
     "output_type": "execute_result"
    }
   ],
   "source": [
    "# Very high mileage per year\n",
    "df[df['km_per_year'] >= 20000]"
   ]
  },
  {
   "cell_type": "markdown",
   "metadata": {},
   "source": [
    "### Get a list of categories of categorical variable"
   ]
  },
  {
   "cell_type": "code",
   "execution_count": 1208,
   "metadata": {},
   "outputs": [
    {
     "data": {
      "text/plain": [
       "array([ 5685.71,  8400.  , 11070.  , 11980.  , 12871.43, 14705.88,\n",
       "       15285.71, 17780.  , 20612.5 , 21375.  ])"
      ]
     },
     "execution_count": 1208,
     "metadata": {},
     "output_type": "execute_result"
    }
   ],
   "source": [
    "np.array(pd.Categorical(df['km_per_year']).categories)"
   ]
  },
  {
   "cell_type": "markdown",
   "metadata": {},
   "source": [
    "## Multivariate non-graphical exploratory data analysis (EDA)"
   ]
  },
  {
   "cell_type": "markdown",
   "metadata": {},
   "source": [
    "### Cross-tabulation"
   ]
  },
  {
   "cell_type": "code",
   "execution_count": 1209,
   "metadata": {},
   "outputs": [
    {
     "data": {
      "text/html": [
       "<div>\n",
       "<style scoped>\n",
       "    .dataframe tbody tr th:only-of-type {\n",
       "        vertical-align: middle;\n",
       "    }\n",
       "\n",
       "    .dataframe tbody tr th {\n",
       "        vertical-align: top;\n",
       "    }\n",
       "\n",
       "    .dataframe thead th {\n",
       "        text-align: right;\n",
       "    }\n",
       "</style>\n",
       "<table border=\"1\" class=\"dataframe\">\n",
       "  <thead>\n",
       "    <tr style=\"text-align: right;\">\n",
       "      <th>Year</th>\n",
       "      <th>2007</th>\n",
       "      <th>2010</th>\n",
       "      <th>2014</th>\n",
       "      <th>2016</th>\n",
       "      <th>2017</th>\n",
       "      <th>2019</th>\n",
       "      <th>2020</th>\n",
       "    </tr>\n",
       "    <tr>\n",
       "      <th>km_per_year</th>\n",
       "      <th></th>\n",
       "      <th></th>\n",
       "      <th></th>\n",
       "      <th></th>\n",
       "      <th></th>\n",
       "      <th></th>\n",
       "      <th></th>\n",
       "    </tr>\n",
       "  </thead>\n",
       "  <tbody>\n",
       "    <tr>\n",
       "      <th>5685.71</th>\n",
       "      <td>0</td>\n",
       "      <td>5</td>\n",
       "      <td>0</td>\n",
       "      <td>0</td>\n",
       "      <td>0</td>\n",
       "      <td>0</td>\n",
       "      <td>0</td>\n",
       "    </tr>\n",
       "    <tr>\n",
       "      <th>8400.00</th>\n",
       "      <td>0</td>\n",
       "      <td>0</td>\n",
       "      <td>0</td>\n",
       "      <td>0</td>\n",
       "      <td>0</td>\n",
       "      <td>0</td>\n",
       "      <td>5</td>\n",
       "    </tr>\n",
       "    <tr>\n",
       "      <th>11070.00</th>\n",
       "      <td>0</td>\n",
       "      <td>0</td>\n",
       "      <td>5</td>\n",
       "      <td>0</td>\n",
       "      <td>0</td>\n",
       "      <td>0</td>\n",
       "      <td>0</td>\n",
       "    </tr>\n",
       "    <tr>\n",
       "      <th>11980.00</th>\n",
       "      <td>0</td>\n",
       "      <td>0</td>\n",
       "      <td>0</td>\n",
       "      <td>0</td>\n",
       "      <td>0</td>\n",
       "      <td>5</td>\n",
       "      <td>0</td>\n",
       "    </tr>\n",
       "    <tr>\n",
       "      <th>12871.43</th>\n",
       "      <td>0</td>\n",
       "      <td>0</td>\n",
       "      <td>0</td>\n",
       "      <td>0</td>\n",
       "      <td>5</td>\n",
       "      <td>0</td>\n",
       "      <td>0</td>\n",
       "    </tr>\n",
       "    <tr>\n",
       "      <th>14705.88</th>\n",
       "      <td>5</td>\n",
       "      <td>0</td>\n",
       "      <td>0</td>\n",
       "      <td>0</td>\n",
       "      <td>0</td>\n",
       "      <td>0</td>\n",
       "      <td>0</td>\n",
       "    </tr>\n",
       "    <tr>\n",
       "      <th>15285.71</th>\n",
       "      <td>0</td>\n",
       "      <td>0</td>\n",
       "      <td>0</td>\n",
       "      <td>0</td>\n",
       "      <td>5</td>\n",
       "      <td>0</td>\n",
       "      <td>0</td>\n",
       "    </tr>\n",
       "    <tr>\n",
       "      <th>17780.00</th>\n",
       "      <td>0</td>\n",
       "      <td>0</td>\n",
       "      <td>0</td>\n",
       "      <td>0</td>\n",
       "      <td>0</td>\n",
       "      <td>5</td>\n",
       "      <td>0</td>\n",
       "    </tr>\n",
       "    <tr>\n",
       "      <th>20612.50</th>\n",
       "      <td>0</td>\n",
       "      <td>0</td>\n",
       "      <td>0</td>\n",
       "      <td>5</td>\n",
       "      <td>0</td>\n",
       "      <td>0</td>\n",
       "      <td>0</td>\n",
       "    </tr>\n",
       "    <tr>\n",
       "      <th>21375.00</th>\n",
       "      <td>0</td>\n",
       "      <td>0</td>\n",
       "      <td>0</td>\n",
       "      <td>5</td>\n",
       "      <td>0</td>\n",
       "      <td>0</td>\n",
       "      <td>0</td>\n",
       "    </tr>\n",
       "  </tbody>\n",
       "</table>\n",
       "</div>"
      ],
      "text/plain": [
       "Year         2007  2010  2014  2016  2017  2019  2020\n",
       "km_per_year                                          \n",
       "5685.71         0     5     0     0     0     0     0\n",
       "8400.00         0     0     0     0     0     0     5\n",
       "11070.00        0     0     5     0     0     0     0\n",
       "11980.00        0     0     0     0     0     5     0\n",
       "12871.43        0     0     0     0     5     0     0\n",
       "14705.88        5     0     0     0     0     0     0\n",
       "15285.71        0     0     0     0     5     0     0\n",
       "17780.00        0     0     0     0     0     5     0\n",
       "20612.50        0     0     0     5     0     0     0\n",
       "21375.00        0     0     0     5     0     0     0"
      ]
     },
     "execution_count": 1209,
     "metadata": {},
     "output_type": "execute_result"
    }
   ],
   "source": [
    "pd.crosstab(df['km_per_year'], df['Year'])"
   ]
  },
  {
   "cell_type": "markdown",
   "metadata": {},
   "source": [
    "### Pivot tables"
   ]
  },
  {
   "cell_type": "code",
   "execution_count": 1210,
   "metadata": {},
   "outputs": [
    {
     "data": {
      "text/html": [
       "<div>\n",
       "<style scoped>\n",
       "    .dataframe tbody tr th:only-of-type {\n",
       "        vertical-align: middle;\n",
       "    }\n",
       "\n",
       "    .dataframe tbody tr th {\n",
       "        vertical-align: top;\n",
       "    }\n",
       "\n",
       "    .dataframe thead tr th {\n",
       "        text-align: left;\n",
       "    }\n",
       "\n",
       "    .dataframe thead tr:last-of-type th {\n",
       "        text-align: right;\n",
       "    }\n",
       "</style>\n",
       "<table border=\"1\" class=\"dataframe\">\n",
       "  <thead>\n",
       "    <tr>\n",
       "      <th></th>\n",
       "      <th></th>\n",
       "      <th colspan=\"2\" halign=\"left\">km</th>\n",
       "      <th colspan=\"2\" halign=\"left\">km_per_year</th>\n",
       "    </tr>\n",
       "    <tr>\n",
       "      <th></th>\n",
       "      <th></th>\n",
       "      <th>count</th>\n",
       "      <th>mean</th>\n",
       "      <th>count</th>\n",
       "      <th>mean</th>\n",
       "    </tr>\n",
       "    <tr>\n",
       "      <th>Year</th>\n",
       "      <th>price</th>\n",
       "      <th></th>\n",
       "      <th></th>\n",
       "      <th></th>\n",
       "      <th></th>\n",
       "    </tr>\n",
       "  </thead>\n",
       "  <tbody>\n",
       "    <tr>\n",
       "      <th>2007</th>\n",
       "      <th>8900</th>\n",
       "      <td>5</td>\n",
       "      <td>250000.0</td>\n",
       "      <td>5</td>\n",
       "      <td>14705.88</td>\n",
       "    </tr>\n",
       "    <tr>\n",
       "      <th>2010</th>\n",
       "      <th>16750</th>\n",
       "      <td>5</td>\n",
       "      <td>79600.0</td>\n",
       "      <td>5</td>\n",
       "      <td>5685.71</td>\n",
       "    </tr>\n",
       "    <tr>\n",
       "      <th>2014</th>\n",
       "      <th>21500</th>\n",
       "      <td>5</td>\n",
       "      <td>110700.0</td>\n",
       "      <td>5</td>\n",
       "      <td>11070.00</td>\n",
       "    </tr>\n",
       "    <tr>\n",
       "      <th rowspan=\"2\" valign=\"top\">2016</th>\n",
       "      <th>26500</th>\n",
       "      <td>5</td>\n",
       "      <td>164900.0</td>\n",
       "      <td>5</td>\n",
       "      <td>20612.50</td>\n",
       "    </tr>\n",
       "    <tr>\n",
       "      <th>38500</th>\n",
       "      <td>5</td>\n",
       "      <td>171000.0</td>\n",
       "      <td>5</td>\n",
       "      <td>21375.00</td>\n",
       "    </tr>\n",
       "    <tr>\n",
       "      <th rowspan=\"2\" valign=\"top\">2017</th>\n",
       "      <th>21000</th>\n",
       "      <td>5</td>\n",
       "      <td>107000.0</td>\n",
       "      <td>5</td>\n",
       "      <td>15285.71</td>\n",
       "    </tr>\n",
       "    <tr>\n",
       "      <th>24900</th>\n",
       "      <td>5</td>\n",
       "      <td>90100.0</td>\n",
       "      <td>5</td>\n",
       "      <td>12871.43</td>\n",
       "    </tr>\n",
       "    <tr>\n",
       "      <th rowspan=\"2\" valign=\"top\">2019</th>\n",
       "      <th>44990</th>\n",
       "      <td>5</td>\n",
       "      <td>88900.0</td>\n",
       "      <td>5</td>\n",
       "      <td>17780.00</td>\n",
       "    </tr>\n",
       "    <tr>\n",
       "      <th>63890</th>\n",
       "      <td>5</td>\n",
       "      <td>59900.0</td>\n",
       "      <td>5</td>\n",
       "      <td>11980.00</td>\n",
       "    </tr>\n",
       "    <tr>\n",
       "      <th>2020</th>\n",
       "      <th>36990</th>\n",
       "      <td>5</td>\n",
       "      <td>33600.0</td>\n",
       "      <td>5</td>\n",
       "      <td>8400.00</td>\n",
       "    </tr>\n",
       "  </tbody>\n",
       "</table>\n",
       "</div>"
      ],
      "text/plain": [
       "              km           km_per_year          \n",
       "           count      mean       count      mean\n",
       "Year price                                      \n",
       "2007 8900      5  250000.0           5  14705.88\n",
       "2010 16750     5   79600.0           5   5685.71\n",
       "2014 21500     5  110700.0           5  11070.00\n",
       "2016 26500     5  164900.0           5  20612.50\n",
       "     38500     5  171000.0           5  21375.00\n",
       "2017 21000     5  107000.0           5  15285.71\n",
       "     24900     5   90100.0           5  12871.43\n",
       "2019 44990     5   88900.0           5  17780.00\n",
       "     63890     5   59900.0           5  11980.00\n",
       "2020 36990     5   33600.0           5   8400.00"
      ]
     },
     "execution_count": 1210,
     "metadata": {},
     "output_type": "execute_result"
    }
   ],
   "source": [
    "# Using pivot_table to reshape the data and calculate means \n",
    "pd.pivot_table(df[['Year','price','km','km_per_year']],\n",
    "               index=['Year','price'],\n",
    "               values=['km','km_per_year'],\n",
    "               aggfunc=(np.mean, 'count'))"
   ]
  },
  {
   "cell_type": "markdown",
   "metadata": {},
   "source": [
    "### Correlation matrix"
   ]
  },
  {
   "cell_type": "code",
   "execution_count": 1211,
   "metadata": {},
   "outputs": [
    {
     "data": {
      "text/html": [
       "<div>\n",
       "<style scoped>\n",
       "    .dataframe tbody tr th:only-of-type {\n",
       "        vertical-align: middle;\n",
       "    }\n",
       "\n",
       "    .dataframe tbody tr th {\n",
       "        vertical-align: top;\n",
       "    }\n",
       "\n",
       "    .dataframe thead th {\n",
       "        text-align: right;\n",
       "    }\n",
       "</style>\n",
       "<table border=\"1\" class=\"dataframe\">\n",
       "  <thead>\n",
       "    <tr style=\"text-align: right;\">\n",
       "      <th></th>\n",
       "      <th>Year</th>\n",
       "      <th>price</th>\n",
       "      <th>km</th>\n",
       "      <th>km_per_year</th>\n",
       "    </tr>\n",
       "  </thead>\n",
       "  <tbody>\n",
       "    <tr>\n",
       "      <th>Year</th>\n",
       "      <td>1.000000</td>\n",
       "      <td>0.989992</td>\n",
       "      <td>-0.994683</td>\n",
       "      <td>-0.966418</td>\n",
       "    </tr>\n",
       "    <tr>\n",
       "      <th>price</th>\n",
       "      <td>0.989992</td>\n",
       "      <td>1.000000</td>\n",
       "      <td>-0.972035</td>\n",
       "      <td>-0.926008</td>\n",
       "    </tr>\n",
       "    <tr>\n",
       "      <th>km</th>\n",
       "      <td>-0.994683</td>\n",
       "      <td>-0.972035</td>\n",
       "      <td>1.000000</td>\n",
       "      <td>0.987709</td>\n",
       "    </tr>\n",
       "    <tr>\n",
       "      <th>km_per_year</th>\n",
       "      <td>-0.966418</td>\n",
       "      <td>-0.926008</td>\n",
       "      <td>0.987709</td>\n",
       "      <td>1.000000</td>\n",
       "    </tr>\n",
       "  </tbody>\n",
       "</table>\n",
       "</div>"
      ],
      "text/plain": [
       "                 Year     price        km  km_per_year\n",
       "Year         1.000000  0.989992 -0.994683    -0.966418\n",
       "price        0.989992  1.000000 -0.972035    -0.926008\n",
       "km          -0.994683 -0.972035  1.000000     0.987709\n",
       "km_per_year -0.966418 -0.926008  0.987709     1.000000"
      ]
     },
     "execution_count": 1211,
     "metadata": {},
     "output_type": "execute_result"
    }
   ],
   "source": [
    "corr = df[['Year','price','km','km_per_year']].cov().corr()\n",
    "corr"
   ]
  },
  {
   "cell_type": "markdown",
   "metadata": {},
   "source": [
    "### Covariance matrix"
   ]
  },
  {
   "cell_type": "code",
   "execution_count": 1212,
   "metadata": {},
   "outputs": [
    {
     "data": {
      "text/html": [
       "<div>\n",
       "<style scoped>\n",
       "    .dataframe tbody tr th:only-of-type {\n",
       "        vertical-align: middle;\n",
       "    }\n",
       "\n",
       "    .dataframe tbody tr th {\n",
       "        vertical-align: top;\n",
       "    }\n",
       "\n",
       "    .dataframe thead th {\n",
       "        text-align: right;\n",
       "    }\n",
       "</style>\n",
       "<table border=\"1\" class=\"dataframe\">\n",
       "  <thead>\n",
       "    <tr style=\"text-align: right;\">\n",
       "      <th></th>\n",
       "      <th>Year</th>\n",
       "      <th>price</th>\n",
       "      <th>km</th>\n",
       "      <th>km_per_year</th>\n",
       "    </tr>\n",
       "  </thead>\n",
       "  <tbody>\n",
       "    <tr>\n",
       "      <th>Year</th>\n",
       "      <td>15.765306</td>\n",
       "      <td>4.580204e+04</td>\n",
       "      <td>-1.625765e+05</td>\n",
       "      <td>3.297253e+03</td>\n",
       "    </tr>\n",
       "    <tr>\n",
       "      <th>price</th>\n",
       "      <td>45802.040816</td>\n",
       "      <td>2.352131e+08</td>\n",
       "      <td>-4.767713e+08</td>\n",
       "      <td>1.051586e+07</td>\n",
       "    </tr>\n",
       "    <tr>\n",
       "      <th>km</th>\n",
       "      <td>-162576.530612</td>\n",
       "      <td>-4.767713e+08</td>\n",
       "      <td>3.688429e+09</td>\n",
       "      <td>1.664914e+08</td>\n",
       "    </tr>\n",
       "    <tr>\n",
       "      <th>km_per_year</th>\n",
       "      <td>3297.252551</td>\n",
       "      <td>1.051586e+07</td>\n",
       "      <td>1.664914e+08</td>\n",
       "      <td>2.336494e+07</td>\n",
       "    </tr>\n",
       "  </tbody>\n",
       "</table>\n",
       "</div>"
      ],
      "text/plain": [
       "                      Year         price            km   km_per_year\n",
       "Year             15.765306  4.580204e+04 -1.625765e+05  3.297253e+03\n",
       "price         45802.040816  2.352131e+08 -4.767713e+08  1.051586e+07\n",
       "km          -162576.530612 -4.767713e+08  3.688429e+09  1.664914e+08\n",
       "km_per_year    3297.252551  1.051586e+07  1.664914e+08  2.336494e+07"
      ]
     },
     "execution_count": 1212,
     "metadata": {},
     "output_type": "execute_result"
    }
   ],
   "source": [
    "cov = df[['Year','price','km','km_per_year']].cov()\n",
    "cov"
   ]
  },
  {
   "cell_type": "markdown",
   "metadata": {},
   "source": [
    "## Univariate graphical exploratory data analysis (EDA)"
   ]
  },
  {
   "cell_type": "markdown",
   "metadata": {},
   "source": [
    "### Boxplot (seaborn) km"
   ]
  },
  {
   "cell_type": "code",
   "execution_count": 1213,
   "metadata": {},
   "outputs": [
    {
     "data": {
      "text/plain": [
       "<Axes: xlabel='km'>"
      ]
     },
     "execution_count": 1213,
     "metadata": {},
     "output_type": "execute_result"
    },
    {
     "data": {
      "image/png": "[encoded data removed]",
      "text/plain": [
       "<Figure size 800x120 with 1 Axes>"
      ]
     },
     "metadata": {},
     "output_type": "display_data"
    }
   ],
   "source": [
    "plt.figure(figsize=(8,1.2))\n",
    "plt.ticklabel_format(style='plain')\n",
    "sns.boxplot(x=df['km'], color=\"greenyellow\")"
   ]
  },
  {
   "cell_type": "markdown",
   "metadata": {},
   "source": [
    "### Boxplot (seaborn) km per year"
   ]
  },
  {
   "cell_type": "code",
   "execution_count": 1214,
   "metadata": {},
   "outputs": [
    {
     "data": {
      "text/plain": [
       "<Axes: xlabel='km_per_year'>"
      ]
     },
     "execution_count": 1214,
     "metadata": {},
     "output_type": "execute_result"
    },
    {
     "data": {
      "image/png": "[encoded data removed]",
      "text/plain": [
       "<Figure size 800x120 with 1 Axes>"
      ]
     },
     "metadata": {},
     "output_type": "display_data"
    }
   ],
   "source": [
    "plt.figure(figsize=(8,1.2))\n",
    "plt.ticklabel_format(style='plain')\n",
    "sns.boxplot(x=df['km_per_year'], color=\"greenyellow\")"
   ]
  },
  {
   "cell_type": "markdown",
   "metadata": {},
   "source": [
    "### Histogram  (matplotlib)  km"
   ]
  },
  {
   "cell_type": "code",
   "execution_count": 1215,
   "metadata": {},
   "outputs": [
    {
     "data": {
      "image/png": "[encoded data removed]",
      "text/plain": [
       "<Figure size 700x400 with 1 Axes>"
      ]
     },
     "metadata": {},
     "output_type": "display_data"
    }
   ],
   "source": [
    "import matplotlib.pyplot as plt\n",
    "import numpy as np\n",
    "\n",
    "# Plot Histogram\n",
    "fig = plt.figure( figsize=(7,4))\n",
    "\n",
    "plt.xticks(fontsize=14, rotation=0)\n",
    "plt.yticks(fontsize=14, rotation=0)\n",
    "\n",
    "n, bins, patches = plt.hist(x=df['km'], \n",
    "                            bins=25, \n",
    "                            color='#42AD12',\n",
    "                            alpha=0.5, \n",
    "                            rwidth=0.95\n",
    "                   )\n",
    "plt.grid(True)\n",
    "plt.ticklabel_format(style='plain')\n",
    "plt.grid(axis='y', alpha=0.75)\n",
    "\n",
    "# Set labels\n",
    "plt.xlabel('km', fontsize=10, labelpad=10)\n",
    "plt.ylabel('Number of cars', fontsize=10, labelpad=10)\n",
    "plt.title('Histogram of km', fontsize=12, pad=10)\n",
    "\n",
    "# Set fontsize of tick labels\n",
    "plt.xticks(fontsize = 10)\n",
    "plt.yticks(fontsize = 10)\n",
    "\n",
    "plt.show()"
   ]
  },
  {
   "cell_type": "markdown",
   "metadata": {},
   "source": [
    "### Histogram  (matplotlib)  km per year"
   ]
  },
  {
   "cell_type": "code",
   "execution_count": 1216,
   "metadata": {},
   "outputs": [
    {
     "data": {
      "image/png": "[encoded data removed]",
      "text/plain": [
       "<Figure size 700x400 with 1 Axes>"
      ]
     },
     "metadata": {},
     "output_type": "display_data"
    }
   ],
   "source": [
    "import matplotlib.pyplot as plt\n",
    "import numpy as np\n",
    "\n",
    "# Plot Histogram\n",
    "fig = plt.figure( figsize=(7,4))\n",
    "\n",
    "plt.xticks(fontsize=14, rotation=0)\n",
    "plt.yticks(fontsize=14, rotation=0)\n",
    "\n",
    "n, bins, patches = plt.hist(x=df['km_per_year'], \n",
    "                            bins=25, \n",
    "                            color='#42AD12',\n",
    "                            alpha=0.5, \n",
    "                            rwidth=0.95\n",
    "                   )\n",
    "plt.grid(True)\n",
    "plt.ticklabel_format(style='plain')\n",
    "plt.grid(axis='y', alpha=0.75)\n",
    "\n",
    "# Set labels\n",
    "plt.xlabel('km_per_year', fontsize=10, labelpad=10)\n",
    "plt.ylabel('Number of cars', fontsize=10, labelpad=10)\n",
    "plt.title('Histogram of km_per_year', fontsize=12, pad=10)\n",
    "\n",
    "# Set fontsize of tick labels\n",
    "plt.xticks(fontsize = 10)\n",
    "plt.yticks(fontsize = 10)\n",
    "\n",
    "plt.show()"
   ]
  },
  {
   "cell_type": "markdown",
   "metadata": {},
   "source": [
    "### Density plot  (seaborn) km per year"
   ]
  },
  {
   "cell_type": "code",
   "execution_count": 1217,
   "metadata": {},
   "outputs": [
    {
     "data": {
      "image/png": "[encoded data removed]",
      "text/plain": [
       "<Figure size 700x400 with 1 Axes>"
      ]
     },
     "metadata": {},
     "output_type": "display_data"
    }
   ],
   "source": [
    "plt.figure(figsize=(7,4))\n",
    "sns.distplot(df['km_per_year'], \n",
    "             hist=True, \n",
    "             kde=True, \n",
    "             bins=20, \n",
    "             color = 'green',\n",
    "             hist_kws={'edgecolor':'black'},\n",
    "             kde_kws={'linewidth': 2},\n",
    "            )\n",
    "plt.title('Density plot km_per_year', fontsize=12, pad=10)\n",
    "plt.xlabel('km_per_year', fontsize=12, labelpad=10)\n",
    "plt.ylabel('Density', fontsize=12, labelpad=10)\n",
    "plt.grid(True)\n",
    "plt.show()"
   ]
  },
  {
   "cell_type": "markdown",
   "metadata": {},
   "source": [
    "### Density plot  (seaborn) km"
   ]
  },
  {
   "cell_type": "code",
   "execution_count": 1218,
   "metadata": {},
   "outputs": [
    {
     "data": {
      "image/png": "[encoded data removed]",
      "text/plain": [
       "<Figure size 700x400 with 1 Axes>"
      ]
     },
     "metadata": {},
     "output_type": "display_data"
    }
   ],
   "source": [
    "plt.figure(figsize=(7,4))\n",
    "sns.distplot(df['km'], \n",
    "             hist=True, \n",
    "             kde=True, \n",
    "             bins=20, \n",
    "             color = 'green',\n",
    "             hist_kws={'edgecolor':'black'},\n",
    "             kde_kws={'linewidth': 2},\n",
    "            )\n",
    "plt.title('Density plot km', fontsize=12, pad=10)\n",
    "plt.xlabel('km', fontsize=12, labelpad=10)\n",
    "plt.ylabel('Density', fontsize=12, labelpad=10)\n",
    "plt.grid(True)\n",
    "plt.show()"
   ]
  },
  {
   "cell_type": "markdown",
   "metadata": {},
   "source": [
    "### Quantile-Quantile (QQ-) plot km"
   ]
  },
  {
   "cell_type": "code",
   "execution_count": 1219,
   "metadata": {},
   "outputs": [
    {
     "name": "stdout",
     "output_type": "stream",
     "text": [
      "        km       var\n",
      "49   33600 -1.349691\n",
      "39   33600 -1.349691\n",
      "29   33600 -1.349691\n",
      "9    33600 -1.349691\n",
      "19   33600 -1.349691\n",
      "38   59900 -0.916644\n",
      "28   59900 -0.916644\n",
      "48   59900 -0.916644\n",
      "8    59900 -0.916644\n",
      "18   59900 -0.916644\n",
      "44   79600 -0.592270\n",
      "34   79600 -0.592270\n",
      "14   79600 -0.592270\n",
      "24   79600 -0.592270\n",
      "4    79600 -0.592270\n",
      "12   88900 -0.439139\n",
      "42   88900 -0.439139\n",
      "2    88900 -0.439139\n",
      "22   88900 -0.439139\n",
      "32   88900 -0.439139\n",
      "46   90100 -0.419381\n",
      "16   90100 -0.419381\n",
      "36   90100 -0.419381\n",
      "6    90100 -0.419381\n",
      "26   90100 -0.419381\n",
      "40  107000 -0.141111\n",
      "30  107000 -0.141111\n",
      "0   107000 -0.141111\n",
      "10  107000 -0.141111\n",
      "20  107000 -0.141111\n",
      "25  110700 -0.080188\n",
      "5   110700 -0.080188\n",
      "15  110700 -0.080188\n",
      "45  110700 -0.080188\n",
      "35  110700 -0.080188\n",
      "43  164900  0.812251\n",
      "3   164900  0.812251\n",
      "33  164900  0.812251\n",
      "23  164900  0.812251\n",
      "13  164900  0.812251\n",
      "11  171000  0.912692\n",
      "41  171000  0.912692\n",
      "1   171000  0.912692\n",
      "21  171000  0.912692\n",
      "31  171000  0.912692\n",
      "37  250000  2.213479\n",
      "27  250000  2.213479\n",
      "17  250000  2.213479\n",
      "7   250000  2.213479\n",
      "47  250000  2.213479\n"
     ]
    },
    {
     "data": {
      "image/png": "[encoded data removed]",
      "text/plain": [
       "<Figure size 640x480 with 1 Axes>"
      ]
     },
     "metadata": {},
     "output_type": "display_data"
    }
   ],
   "source": [
    "# Variable (standardized)\n",
    "x = 'km'\n",
    "df_qq = df\n",
    "df_qq['var'] = (df[x]-df[x].mean()) / df[x].std()\n",
    "print(df_qq.sort_values('var')[['km', 'var']])\n",
    "    \n",
    "# Plot\n",
    "sm.qqplot(df_qq['var'], line ='45')\n",
    "py.show()"
   ]
  },
  {
   "cell_type": "code",
   "execution_count": 1220,
   "metadata": {},
   "outputs": [
    {
     "data": {
      "text/plain": [
       "[15285.71,\n",
       " 21375.0,\n",
       " 17780.0,\n",
       " 20612.5,\n",
       " 5685.71,\n",
       " 11070.0,\n",
       " 12871.43,\n",
       " 14705.88,\n",
       " 11980.0,\n",
       " 8400.0]"
      ]
     },
     "execution_count": 1220,
     "metadata": {},
     "output_type": "execute_result"
    }
   ],
   "source": [
    "# Group data by km_per_year (only the topmost 15 values are shown)\n",
    "df_bar = df['km_per_year'].value_counts().nlargest(15).sort_values(ascending=True)\n",
    "\n",
    "# Values for barchart\n",
    "napart = list(df_bar.values)\n",
    "index = list(df_bar.index.values)\n",
    "index"
   ]
  },
  {
   "cell_type": "markdown",
   "metadata": {},
   "source": [
    "### Piechart (matplotlib)"
   ]
  },
  {
   "cell_type": "code",
   "execution_count": 1221,
   "metadata": {},
   "outputs": [
    {
     "data": {
      "image/png": "[encoded data removed]",
      "text/plain": [
       "<Figure size 500x500 with 1 Axes>"
      ]
     },
     "metadata": {},
     "output_type": "display_data"
    }
   ],
   "source": [
    "# Group data by km_per_year (only the 8 most frequently occurencies by km_per_year)\n",
    "df_bar = df.km_per_year.value_counts().nlargest(8).sort_values(ascending=True)\n",
    "\n",
    "# Simple bar chart\n",
    "sizes = list(df_bar.values)\n",
    "labels = list(df_bar.index.values)\n",
    "explode = (0, 0, 0, 0, 0.0, 0, 0, 0.1) # increases distance of pieces\n",
    "\n",
    "fig1, ax1 = plt.subplots(figsize=(5,5))\n",
    "ax1.pie(sizes, \n",
    "        labels=labels, \n",
    "        explode=explode,\n",
    "        autopct='%1.1f%%',\n",
    "        shadow=False, \n",
    "        startangle=90)\n",
    "ax1.axis('equal')  # ensures that pie is drawn as a circle.\n",
    "\n",
    "plt.show()"
   ]
  },
  {
   "cell_type": "markdown",
   "metadata": {},
   "source": [
    "## Multivariate graphical exploratory data analysis (EDA)"
   ]
  },
  {
   "cell_type": "markdown",
   "metadata": {},
   "source": [
    "### Scatterplot (matplotlib)"
   ]
  },
  {
   "cell_type": "code",
   "execution_count": 1222,
   "metadata": {},
   "outputs": [
    {
     "data": {
      "image/png": "[encoded data removed]",
      "text/plain": [
       "<Figure size 700x400 with 1 Axes>"
      ]
     },
     "metadata": {},
     "output_type": "display_data"
    }
   ],
   "source": [
    "plt.figure(figsize=(7,4))\n",
    "plt.scatter(df['km'], \n",
    "           df['price'], \n",
    "           color=\"green\", \n",
    "           alpha=1.0,\n",
    "           s=10)\n",
    "plt.title('Scatterplot', fontsize=12)\n",
    "plt.xlabel('km')\n",
    "plt.ylabel('price')\n",
    "plt.show()"
   ]
  },
  {
   "cell_type": "markdown",
   "metadata": {},
   "source": [
    "### Scatterplot (matplotlib) with regression line"
   ]
  },
  {
   "cell_type": "code",
   "execution_count": 1223,
   "metadata": {},
   "outputs": [
    {
     "name": "stdout",
     "output_type": "stream",
     "text": [
      "(50, 9)\n",
      "-0.1292613488056595\n",
      "45330.73408147005\n"
     ]
    },
    {
     "data": {
      "image/png": "[encoded data removed]",
      "text/plain": [
       "<Figure size 700x400 with 1 Axes>"
      ]
     },
     "metadata": {},
     "output_type": "display_data"
    }
   ],
   "source": [
    "# Subset\n",
    "df_sub = df.loc[(df.price >= 1000)]\n",
    "print(df_sub.shape)\n",
    "\n",
    "# Scatterplot\n",
    "plt.figure(figsize=(7,4))\n",
    "plt.plot(df_sub.km, \n",
    "         df_sub.price, \n",
    "         'o', \n",
    "         markersize=3.5,\n",
    "         color=\"green\")\n",
    "\n",
    "# Regression line (b = slope, a=intercept)\n",
    "b, a = np.polyfit(df_sub.km, df_sub.price, 1)\n",
    "print(b)\n",
    "print(a)\n",
    "\n",
    "# Plot regression line\n",
    "plt.plot(df_sub.km, \n",
    "         b*df_sub.km + a, \n",
    "         linewidth=1,\n",
    "         linestyle='dashed',\n",
    "         color='darkred')\n",
    "\n",
    "# Add title and axes labels\n",
    "plt.title('Scatterplot with regression line', fontsize=12)\n",
    "plt.ylabel('price', fontsize=12)\n",
    "plt.xlabel('km', fontsize=12)\n",
    "\n",
    "# Set fontsize of tick labels\n",
    "plt.xticks(fontsize = 10)\n",
    "plt.yticks(fontsize = 10)\n",
    "\n",
    "plt.show()"
   ]
  },
  {
   "cell_type": "markdown",
   "metadata": {},
   "source": [
    "### Scatterplot-matrix (seaborn)"
   ]
  },
  {
   "cell_type": "code",
   "execution_count": 1224,
   "metadata": {},
   "outputs": [
    {
     "data": {
      "text/plain": [
       "<seaborn.axisgrid.PairGrid at 0x7f54ff618430>"
      ]
     },
     "execution_count": 1224,
     "metadata": {},
     "output_type": "execute_result"
    },
    {
     "data": {
      "image/png": "[encoded data removed]",
      "text/plain": [
       "<Figure size 480x480 with 20 Axes>"
      ]
     },
     "metadata": {},
     "output_type": "display_data"
    }
   ],
   "source": [
    "sns.set(style=\"ticks\", font_scale=0.8)\n",
    "g = sns.PairGrid(df[[   'Year',\n",
    "                        'price',\n",
    "                        'km',\n",
    "                        'km_per_year']], \n",
    "                 height=1.2, \n",
    "                 aspect=1)\n",
    "g.map_upper(sns.scatterplot,color='darkgreen', s=10)\n",
    "g.map_lower(sns.scatterplot, color='darkgreen', s=10)\n",
    "g.map_diag(plt.hist, color='brown')"
   ]
  },
  {
   "cell_type": "markdown",
   "metadata": {},
   "source": [
    "### Hexagonal binning plot  (matplotlib)"
   ]
  },
  {
   "cell_type": "code",
   "execution_count": 1225,
   "metadata": {},
   "outputs": [
    {
     "name": "stdout",
     "output_type": "stream",
     "text": [
      "(30, 9)\n"
     ]
    },
    {
     "data": {
      "image/png": "[encoded data removed]",
      "text/plain": [
       "<Figure size 700x400 with 2 Axes>"
      ]
     },
     "metadata": {},
     "output_type": "display_data"
    }
   ],
   "source": [
    "# Subset\n",
    "df_sub = df.loc[(df.km <= 120000) & (df.price <= 60000)]\n",
    "print(df_sub.shape)\n",
    "\n",
    "# Plot\n",
    "fig = plt.figure( figsize=(7,4) )\n",
    "plt.hexbin(df_sub.km, df_sub.price, gridsize=30, cmap='Greens')\n",
    "\n",
    "# Set labels\n",
    "plt.xlabel('km', fontsize=12, labelpad=10)\n",
    "plt.ylabel('price', fontsize=12, labelpad=10)\n",
    "plt.title('Two-dimensional histogram of price versus km', fontsize=12, pad=10)\n",
    "\n",
    "cb = plt.colorbar(label='count in bin')\n",
    "cb.set_label('counts in bin')"
   ]
  },
  {
   "cell_type": "markdown",
   "metadata": {},
   "source": [
    "### Correlation heatmap (seaborn)"
   ]
  },
  {
   "cell_type": "code",
   "execution_count": 1226,
   "metadata": {},
   "outputs": [
    {
     "data": {
      "text/plain": [
       "<Axes: >"
      ]
     },
     "execution_count": 1226,
     "metadata": {},
     "output_type": "execute_result"
    },
    {
     "data": {
      "image/png": "[encoded data removed]",
      "text/plain": [
       "<Figure size 700x400 with 2 Axes>"
      ]
     },
     "metadata": {},
     "output_type": "display_data"
    }
   ],
   "source": [
    "# Set font size for plot\n",
    "sns.set(font_scale=0.8)\n",
    "\n",
    "# Create correlation matrix as the basis for the heatmap\n",
    "plt.figure(figsize=(7,4))\n",
    "corr = df[[  'Year',\n",
    "                    'price',\n",
    "                    'km',\n",
    "                    'km_per_year']].corr().round(2)\n",
    "\n",
    "# Plot heatmap\n",
    "sns.heatmap(corr, \n",
    "            cmap=\"BrBG\", \n",
    "            annot=True)"
   ]
  },
  {
   "cell_type": "markdown",
   "metadata": {},
   "source": [
    "### Bubble plot (seaborn)"
   ]
  },
  {
   "cell_type": "code",
   "execution_count": 1227,
   "metadata": {},
   "outputs": [
    {
     "data": {
      "text/plain": [
       "<matplotlib.legend.Legend at 0x7f54fa7966b0>"
      ]
     },
     "execution_count": 1227,
     "metadata": {},
     "output_type": "execute_result"
    },
    {
     "data": {
      "image/png": "[encoded data removed]",
      "text/plain": [
       "<Figure size 700x400 with 1 Axes>"
      ]
     },
     "metadata": {},
     "output_type": "display_data"
    }
   ],
   "source": [
    "# Subset of df\n",
    "df_sub = df.loc[(df['km_per_year'] >= 2000) & (df['km_per_year'] <= 15000)]\n",
    "\n",
    "plt.figure(figsize=(7,4))\n",
    "plt.ticklabel_format(style='plain')\n",
    "cmap = sns.cubehelix_palette(dark=.3, light=3, as_cmap=True)\n",
    "\n",
    "ax = sns.scatterplot(x=\"km\", \n",
    "                     y=\"price\",\n",
    "                     size=\"km_per_year\", # determines bubble size\n",
    "                     hue=\"Year\",  # determines color\n",
    "                     palette=\"Set2\",\n",
    "                     data=df_sub)\n",
    "\n",
    "# Set title and axes\n",
    "ax.set_title('Price vs km', fontsize = 12)\n",
    "ax.set_xlabel('km', fontsize = 10)\n",
    "ax.set_ylabel('price', fontsize = 10)\n",
    "ax.legend([],[], frameon=False) # skip legend"
   ]
  },
  {
   "cell_type": "markdown",
   "metadata": {},
   "source": [
    "### Jupyter notebook --footer info-- (please always provide this at the end of each submitted notebook)"
   ]
  },
  {
   "cell_type": "code",
   "execution_count": 1228,
   "metadata": {},
   "outputs": [
    {
     "name": "stdout",
     "output_type": "stream",
     "text": [
      "-----------------------------------\n",
      "POSIX\n",
      "Linux | 6.2.0-1018-azure\n",
      "Datetime: 2024-01-11 21:48:20\n",
      "Python Version: 3.10.13\n",
      "-----------------------------------\n"
     ]
    }
   ],
   "source": [
    "import os\n",
    "import platform\n",
    "import socket\n",
    "from platform import python_version\n",
    "from datetime import datetime\n",
    "\n",
    "print('-----------------------------------')\n",
    "print(os.name.upper())\n",
    "print(platform.system(), '|', platform.release())\n",
    "print('Datetime:', datetime.now().strftime(\"%Y-%m-%d %H:%M:%S\"))\n",
    "print('Python Version:', python_version())\n",
    "print('-----------------------------------')"
   ]
  }
 ],
 "metadata": {
  "gist": {
   "data": {
    "description": "histogram.ipynb",
    "public": false
   },
   "id": ""
  },
  "interpreter": {
   "hash": "80dd4b6cd41cca4ee92644ecda36a6b995104716f495f2fe281559cced81c062"
  },
  "kernelspec": {
   "display_name": "Python 3 (ipykernel)",
   "language": "python",
   "name": "python3"
  },
  "language_info": {
   "codemirror_mode": {
    "name": "ipython",
    "version": 3
   },
   "file_extension": ".py",
   "mimetype": "text/x-python",
   "name": "python",
   "nbconvert_exporter": "python",
   "pygments_lexer": "ipython3",
   "version": "3.10.13"
  },
  "toc": {
   "base_numbering": 1,
   "nav_menu": {},
   "number_sections": true,
   "sideBar": true,
   "skip_h1_title": false,
   "title_cell": "Table of Contents",
   "title_sidebar": "Contents",
   "toc_cell": false,
   "toc_position": {
    "height": "calc(100% - 180px)",
    "left": "10px",
    "top": "150px",
    "width": "196.075px"
   },
   "toc_section_display": true,
   "toc_window_display": true
  }
 },
 "nbformat": 4,
 "nbformat_minor": 2
}
