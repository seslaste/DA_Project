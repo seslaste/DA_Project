{
 "cells": [
  {
   "cell_type": "markdown",
   "id": "3d6541ed",
   "metadata": {},
   "source": [
    "# Analysis of contingency tables"
   ]
  },
  {
   "cell_type": "markdown",
   "id": "a4150db8",
   "metadata": {},
   "source": [
    "## Libraries and settings"
   ]
  },
  {
   "cell_type": "code",
   "execution_count": 119,
   "id": "20f0e969",
   "metadata": {},
   "outputs": [
    {
     "name": "stdout",
     "output_type": "stream",
     "text": [
      "/workspaces/DA_Project/Project/Additional/4\n"
     ]
    }
   ],
   "source": [
    "# Libraries\n",
    "import os\n",
    "import numpy as np\n",
    "import pandas as pd\n",
    "import matplotlib.pyplot as plt\n",
    "from scipy.stats import chi2\n",
    "from scipy.stats import chi2_contingency\n",
    "\n",
    "# Ignore warnings\n",
    "import warnings\n",
    "warnings.filterwarnings('ignore')\n",
    "\n",
    "# Get current working directory\n",
    "print(os.getcwd())"
   ]
  },
  {
   "cell_type": "markdown",
   "id": "25567b4c",
   "metadata": {},
   "source": [
    "## Import the apartment data"
   ]
  },
  {
   "cell_type": "code",
   "execution_count": 120,
   "id": "46a899e8",
   "metadata": {},
   "outputs": [
    {
     "data": {
      "text/html": [
       "<div>\n",
       "<style scoped>\n",
       "    .dataframe tbody tr th:only-of-type {\n",
       "        vertical-align: middle;\n",
       "    }\n",
       "\n",
       "    .dataframe tbody tr th {\n",
       "        vertical-align: top;\n",
       "    }\n",
       "\n",
       "    .dataframe thead th {\n",
       "        text-align: right;\n",
       "    }\n",
       "</style>\n",
       "<table border=\"1\" class=\"dataframe\">\n",
       "  <thead>\n",
       "    <tr style=\"text-align: right;\">\n",
       "      <th></th>\n",
       "      <th>bmw_id</th>\n",
       "      <th>web-scraper-start-url</th>\n",
       "      <th>text_raw</th>\n",
       "      <th>price_raw</th>\n",
       "      <th>model_raw</th>\n",
       "      <th>type_year_km_transmission_fuel</th>\n",
       "      <th>Location</th>\n",
       "      <th>PLZ</th>\n",
       "      <th>km_raw</th>\n",
       "      <th>Year</th>\n",
       "      <th>price</th>\n",
       "      <th>km</th>\n",
       "      <th>luxury</th>\n",
       "      <th>competition</th>\n",
       "      <th>xDrive</th>\n",
       "      <th>automat</th>\n",
       "      <th>km_cat</th>\n",
       "      <th>km_per_year</th>\n",
       "      <th>km_per_year_cat</th>\n",
       "    </tr>\n",
       "  </thead>\n",
       "  <tbody>\n",
       "    <tr>\n",
       "      <th>0</th>\n",
       "      <td>1705078003-1</td>\n",
       "      <td>https://www.comparis.ch/carfinder/marktplatz/b...</td>\n",
       "      <td>BMW X3 X3 XDRIVE 20D XLINE STEPTRONICCHF 22'90...</td>\n",
       "      <td>CHF 22'900</td>\n",
       "      <td>X3 xDrive 20d xLine Steptronic</td>\n",
       "      <td>Occasion05.2016119.500 kmAutomatDiesel1227 (GE)</td>\n",
       "      <td>GE</td>\n",
       "      <td>1227</td>\n",
       "      <td>119.500</td>\n",
       "      <td>2016</td>\n",
       "      <td>22900</td>\n",
       "      <td>119500.0</td>\n",
       "      <td>0</td>\n",
       "      <td>0</td>\n",
       "      <td>1</td>\n",
       "      <td>1</td>\n",
       "      <td>50-120k</td>\n",
       "      <td>14937.50</td>\n",
       "      <td>medium</td>\n",
       "    </tr>\n",
       "    <tr>\n",
       "      <th>1</th>\n",
       "      <td>1705078003-2</td>\n",
       "      <td>https://www.comparis.ch/carfinder/marktplatz/b...</td>\n",
       "      <td>BMW 540 540ICHF 13'750AB CHF 220 / MONAT5 / 6O...</td>\n",
       "      <td>CHF 13'750</td>\n",
       "      <td>540i</td>\n",
       "      <td>Occasion05.2006124.900 kmAutomatBenzin4461 (BL)</td>\n",
       "      <td>BL</td>\n",
       "      <td>4461</td>\n",
       "      <td>124.900</td>\n",
       "      <td>2006</td>\n",
       "      <td>13750</td>\n",
       "      <td>124900.0</td>\n",
       "      <td>0</td>\n",
       "      <td>0</td>\n",
       "      <td>0</td>\n",
       "      <td>1</td>\n",
       "      <td>120k+</td>\n",
       "      <td>6938.89</td>\n",
       "      <td>low</td>\n",
       "    </tr>\n",
       "    <tr>\n",
       "      <th>2</th>\n",
       "      <td>1705078003-3</td>\n",
       "      <td>https://www.comparis.ch/carfinder/marktplatz/b...</td>\n",
       "      <td>BMW 225 ACTIVE TOURER 225XE IPERFORMANCE ACTIV...</td>\n",
       "      <td>CHF 28'800</td>\n",
       "      <td>225xe iPerformance Active Tourer Steptronic M ...</td>\n",
       "      <td>Occasion09.201928.950 kmAutomatBenzin/Elektro4...</td>\n",
       "      <td>BL</td>\n",
       "      <td>4460</td>\n",
       "      <td>28.950</td>\n",
       "      <td>2019</td>\n",
       "      <td>28800</td>\n",
       "      <td>28950.0</td>\n",
       "      <td>0</td>\n",
       "      <td>0</td>\n",
       "      <td>0</td>\n",
       "      <td>1</td>\n",
       "      <td>0-50k</td>\n",
       "      <td>5790.00</td>\n",
       "      <td>low</td>\n",
       "    </tr>\n",
       "    <tr>\n",
       "      <th>3</th>\n",
       "      <td>1705078003-4</td>\n",
       "      <td>https://www.comparis.ch/carfinder/marktplatz/b...</td>\n",
       "      <td>BMW 316 316I COMPACTCHF 1'100OCCASION04.200024...</td>\n",
       "      <td>CHF 1'100</td>\n",
       "      <td>316i Compact</td>\n",
       "      <td>Occasion04.2000248.013 kmAutomatBenzin6300 (ZG)</td>\n",
       "      <td>ZG</td>\n",
       "      <td>6300</td>\n",
       "      <td>248.013</td>\n",
       "      <td>2000</td>\n",
       "      <td>1100</td>\n",
       "      <td>248013.0</td>\n",
       "      <td>0</td>\n",
       "      <td>0</td>\n",
       "      <td>0</td>\n",
       "      <td>1</td>\n",
       "      <td>120k+</td>\n",
       "      <td>10333.88</td>\n",
       "      <td>medium</td>\n",
       "    </tr>\n",
       "    <tr>\n",
       "      <th>4</th>\n",
       "      <td>1705078003-5</td>\n",
       "      <td>https://www.comparis.ch/carfinder/marktplatz/b...</td>\n",
       "      <td>BMW 530 530XI STEPTRONICCHF 10'900AB CHF 175 /...</td>\n",
       "      <td>CHF 10'900</td>\n",
       "      <td>530xi Steptronic</td>\n",
       "      <td>Occasion06.2008160.000 kmAutomatBenzin6010 (LU)</td>\n",
       "      <td>LU</td>\n",
       "      <td>6010</td>\n",
       "      <td>160.000</td>\n",
       "      <td>2008</td>\n",
       "      <td>10900</td>\n",
       "      <td>160000.0</td>\n",
       "      <td>0</td>\n",
       "      <td>0</td>\n",
       "      <td>0</td>\n",
       "      <td>1</td>\n",
       "      <td>120k+</td>\n",
       "      <td>10000.00</td>\n",
       "      <td>low</td>\n",
       "    </tr>\n",
       "  </tbody>\n",
       "</table>\n",
       "</div>"
      ],
      "text/plain": [
       "         bmw_id                              web-scraper-start-url  \\\n",
       "0  1705078003-1  https://www.comparis.ch/carfinder/marktplatz/b...   \n",
       "1  1705078003-2  https://www.comparis.ch/carfinder/marktplatz/b...   \n",
       "2  1705078003-3  https://www.comparis.ch/carfinder/marktplatz/b...   \n",
       "3  1705078003-4  https://www.comparis.ch/carfinder/marktplatz/b...   \n",
       "4  1705078003-5  https://www.comparis.ch/carfinder/marktplatz/b...   \n",
       "\n",
       "                                            text_raw   price_raw  \\\n",
       "0  BMW X3 X3 XDRIVE 20D XLINE STEPTRONICCHF 22'90...  CHF 22'900   \n",
       "1  BMW 540 540ICHF 13'750AB CHF 220 / MONAT5 / 6O...  CHF 13'750   \n",
       "2  BMW 225 ACTIVE TOURER 225XE IPERFORMANCE ACTIV...  CHF 28'800   \n",
       "3  BMW 316 316I COMPACTCHF 1'100OCCASION04.200024...   CHF 1'100   \n",
       "4  BMW 530 530XI STEPTRONICCHF 10'900AB CHF 175 /...  CHF 10'900   \n",
       "\n",
       "                                           model_raw  \\\n",
       "0                     X3 xDrive 20d xLine Steptronic   \n",
       "1                                               540i   \n",
       "2  225xe iPerformance Active Tourer Steptronic M ...   \n",
       "3                                       316i Compact   \n",
       "4                                   530xi Steptronic   \n",
       "\n",
       "                      type_year_km_transmission_fuel Location   PLZ   km_raw  \\\n",
       "0    Occasion05.2016119.500 kmAutomatDiesel1227 (GE)       GE  1227  119.500   \n",
       "1    Occasion05.2006124.900 kmAutomatBenzin4461 (BL)       BL  4461  124.900   \n",
       "2  Occasion09.201928.950 kmAutomatBenzin/Elektro4...       BL  4460   28.950   \n",
       "3    Occasion04.2000248.013 kmAutomatBenzin6300 (ZG)       ZG  6300  248.013   \n",
       "4    Occasion06.2008160.000 kmAutomatBenzin6010 (LU)       LU  6010  160.000   \n",
       "\n",
       "   Year  price        km  luxury  competition  xDrive  automat   km_cat  \\\n",
       "0  2016  22900  119500.0       0            0       1        1  50-120k   \n",
       "1  2006  13750  124900.0       0            0       0        1    120k+   \n",
       "2  2019  28800   28950.0       0            0       0        1    0-50k   \n",
       "3  2000   1100  248013.0       0            0       0        1    120k+   \n",
       "4  2008  10900  160000.0       0            0       0        1    120k+   \n",
       "\n",
       "   km_per_year km_per_year_cat  \n",
       "0     14937.50          medium  \n",
       "1      6938.89             low  \n",
       "2      5790.00             low  \n",
       "3     10333.88          medium  \n",
       "4     10000.00             low  "
      ]
     },
     "execution_count": 120,
     "metadata": {},
     "output_type": "execute_result"
    }
   ],
   "source": [
    "# Read data to pandas data frame\n",
    "df_orig = pd.read_csv('bmw_data_prepared.csv', \n",
    "                      sep=',', \n",
    "                      encoding='utf-8')\n",
    "\n",
    "# Copy of data with selected colums\n",
    "columns = [ 'web-scraper-order', \n",
    "                    'model_raw',\n",
    "                    'Location',\n",
    "                    'PLZ',\n",
    "                    'Year',\n",
    "                    'price',\n",
    "                    'km',\n",
    "                    'luxury',\n",
    "                    'competition',\n",
    "                    'xDrive',\n",
    "                    'automat',\n",
    "                    'km_cat',\n",
    "                    'km_per_year',\n",
    "                    'km_per_year_cat']\n",
    "df = df_orig[columns]\n",
    "\n",
    "# Rename variable 'web-scraper-order' to 'apmt_id'\n",
    "df_orig = df_orig.rename(columns={'web-scraper-order': 'bmw_id'})\n",
    "\n",
    "# Remove missing values\n",
    "df = df_orig.dropna()\n",
    "df.head(5)\n",
    "\n",
    "# Remove duplicates\n",
    "df = df.drop_duplicates()\n",
    "df.head(5)"
   ]
  },
  {
   "cell_type": "markdown",
   "id": "e74fbc77",
   "metadata": {},
   "source": [
    "## Create a new categorical variable based on the price_per_m2"
   ]
  },
  {
   "cell_type": "markdown",
   "id": "e56c7240",
   "metadata": {},
   "source": [
    "### Plot histogram of price_per_m2"
   ]
  },
  {
   "cell_type": "code",
   "execution_count": 121,
   "id": "6edbede0",
   "metadata": {},
   "outputs": [
    {
     "data": {
      "image/png": "[encoded data removed]",
      "text/plain": [
       "<Figure size 700x400 with 1 Axes>"
      ]
     },
     "metadata": {},
     "output_type": "display_data"
    }
   ],
   "source": [
    "# Plot Histogram\n",
    "fig = plt.figure( figsize=(7,4))\n",
    "plt.xticks(fontsize=14, rotation=0)\n",
    "plt.yticks(fontsize=14, rotation=0)\n",
    "n, bins, patches = plt.hist(x=df['km_per_year'], \n",
    "                            bins=20, \n",
    "                            color='#42AD12',\n",
    "                            alpha=0.5, \n",
    "                            rwidth=0.95\n",
    "                   )\n",
    "plt.grid(True)\n",
    "plt.ticklabel_format(style='plain')\n",
    "plt.grid(axis='y', alpha=0.75)\n",
    "\n",
    "# Set labels\n",
    "plt.xlabel('km_per_year', fontsize=10, labelpad=10)\n",
    "plt.ylabel('Frequency', fontsize=10, labelpad=10)\n",
    "plt.title('Histogram of km_per_year', fontsize=12, pad=10)\n",
    "\n",
    "# Set fontsize of tick labels\n",
    "plt.xticks(fontsize = 10)\n",
    "plt.yticks(fontsize = 10)\n",
    "\n",
    "plt.show()"
   ]
  },
  {
   "cell_type": "markdown",
   "id": "e6ab41ba",
   "metadata": {},
   "source": [
    "### Show quantiles of price_per_m2"
   ]
  },
  {
   "cell_type": "code",
   "execution_count": 122,
   "id": "0a6b0b5f",
   "metadata": {},
   "outputs": [
    {
     "data": {
      "text/plain": [
       "0.10     6000.0\n",
       "0.25     9400.0\n",
       "0.50    13168.9\n",
       "0.75    17135.4\n",
       "0.90    22150.0\n",
       "Name: km_per_year, dtype: float64"
      ]
     },
     "execution_count": 122,
     "metadata": {},
     "output_type": "execute_result"
    }
   ],
   "source": [
    "qt_price = df['km_per_year'].quantile(q=[0.10, 0.25, 0.50, 0.75, 0.90]).round(1)\n",
    "qt_price"
   ]
  },
  {
   "cell_type": "markdown",
   "id": "6ff41d97",
   "metadata": {},
   "source": [
    "## Create a new categorical variable based on the living area"
   ]
  },
  {
   "cell_type": "markdown",
   "id": "94238fe6",
   "metadata": {},
   "source": [
    "### Plot histogram of area"
   ]
  },
  {
   "cell_type": "code",
   "execution_count": 123,
   "id": "803904ef",
   "metadata": {},
   "outputs": [
    {
     "data": {
      "image/png": "[encoded data removed]",
      "text/plain": [
       "<Figure size 700x400 with 1 Axes>"
      ]
     },
     "metadata": {},
     "output_type": "display_data"
    }
   ],
   "source": [
    "# Plot Histogram\n",
    "fig = plt.figure( figsize=(7,4))\n",
    "plt.xticks(fontsize=14, rotation=0)\n",
    "plt.yticks(fontsize=14, rotation=0)\n",
    "n, bins, patches = plt.hist(x=df['price'], \n",
    "                            bins=20, \n",
    "                            color='blue',\n",
    "                            alpha=0.5, \n",
    "                            rwidth=0.95\n",
    "                   )\n",
    "plt.grid(True)\n",
    "plt.ticklabel_format(style='plain')\n",
    "plt.grid(axis='y', alpha=0.75)\n",
    "\n",
    "# Set labels\n",
    "plt.xlabel('Price', fontsize=10, labelpad=10)\n",
    "plt.ylabel('Frequency', fontsize=10, labelpad=10)\n",
    "plt.title('Histogram of year', fontsize=12, pad=10)\n",
    "\n",
    "# Set fontsize of tick labels\n",
    "plt.xticks(fontsize = 10)\n",
    "plt.yticks(fontsize = 10)\n",
    "\n",
    "plt.show()"
   ]
  },
  {
   "cell_type": "markdown",
   "id": "58c42afd",
   "metadata": {},
   "source": [
    "### Show quantiles of area"
   ]
  },
  {
   "cell_type": "code",
   "execution_count": 124,
   "id": "ddcd2024",
   "metadata": {},
   "outputs": [
    {
     "data": {
      "text/plain": [
       "0.10     7900.0\n",
       "0.25    16500.0\n",
       "0.50    30945.0\n",
       "0.75    51900.0\n",
       "0.90    69900.0\n",
       "Name: price, dtype: float64"
      ]
     },
     "execution_count": 124,
     "metadata": {},
     "output_type": "execute_result"
    }
   ],
   "source": [
    "qt_area = df['price'].quantile(q=[0.10, 0.25, 0.50, 0.75, 0.90]).round(1)\n",
    "qt_area"
   ]
  },
  {
   "cell_type": "markdown",
   "id": "558ab6c0",
   "metadata": {},
   "source": [
    "### Create new categorical variable 'area_cat'"
   ]
  },
  {
   "cell_type": "code",
   "execution_count": 125,
   "id": "7bf77edd",
   "metadata": {},
   "outputs": [
    {
     "data": {
      "text/html": [
       "<div>\n",
       "<style scoped>\n",
       "    .dataframe tbody tr th:only-of-type {\n",
       "        vertical-align: middle;\n",
       "    }\n",
       "\n",
       "    .dataframe tbody tr th {\n",
       "        vertical-align: top;\n",
       "    }\n",
       "\n",
       "    .dataframe thead th {\n",
       "        text-align: right;\n",
       "    }\n",
       "</style>\n",
       "<table border=\"1\" class=\"dataframe\">\n",
       "  <thead>\n",
       "    <tr style=\"text-align: right;\">\n",
       "      <th></th>\n",
       "      <th>price</th>\n",
       "      <th>price_cat</th>\n",
       "    </tr>\n",
       "  </thead>\n",
       "  <tbody>\n",
       "    <tr>\n",
       "      <th>0</th>\n",
       "      <td>22900</td>\n",
       "      <td>15001-30000</td>\n",
       "    </tr>\n",
       "    <tr>\n",
       "      <th>1</th>\n",
       "      <td>13750</td>\n",
       "      <td>0 - 15000</td>\n",
       "    </tr>\n",
       "    <tr>\n",
       "      <th>2</th>\n",
       "      <td>28800</td>\n",
       "      <td>15001-30000</td>\n",
       "    </tr>\n",
       "    <tr>\n",
       "      <th>3</th>\n",
       "      <td>1100</td>\n",
       "      <td>0 - 15000</td>\n",
       "    </tr>\n",
       "    <tr>\n",
       "      <th>4</th>\n",
       "      <td>10900</td>\n",
       "      <td>0 - 15000</td>\n",
       "    </tr>\n",
       "  </tbody>\n",
       "</table>\n",
       "</div>"
      ],
      "text/plain": [
       "   price    price_cat\n",
       "0  22900  15001-30000\n",
       "1  13750    0 - 15000\n",
       "2  28800  15001-30000\n",
       "3   1100    0 - 15000\n",
       "4  10900    0 - 15000"
      ]
     },
     "execution_count": 125,
     "metadata": {},
     "output_type": "execute_result"
    }
   ],
   "source": [
    "# Create labels\n",
    "labels = ['0 - 15000', '15001-30000', '30001 - 50000', '50001 - 100000', '100000+']\n",
    "\n",
    "# Create new categorical variable\n",
    "df[\"price_cat\"] = pd.cut(df['price'], bins=[0, 15001, 30001, 50001, 100001, 500000], labels=labels)\n",
    "\n",
    "# Check values\n",
    "df[['price', 'price_cat']].head(5)"
   ]
  },
  {
   "cell_type": "markdown",
   "id": "59cf08d1",
   "metadata": {},
   "source": [
    "## Create a contingency table with the number of apartments per 'area_cat' versus 'price_cat'"
   ]
  },
  {
   "cell_type": "code",
   "execution_count": 126,
   "id": "53e7c37f",
   "metadata": {},
   "outputs": [
    {
     "data": {
      "text/html": [
       "<div>\n",
       "<style scoped>\n",
       "    .dataframe tbody tr th:only-of-type {\n",
       "        vertical-align: middle;\n",
       "    }\n",
       "\n",
       "    .dataframe tbody tr th {\n",
       "        vertical-align: top;\n",
       "    }\n",
       "\n",
       "    .dataframe thead tr th {\n",
       "        text-align: left;\n",
       "    }\n",
       "\n",
       "    .dataframe thead tr:last-of-type th {\n",
       "        text-align: right;\n",
       "    }\n",
       "</style>\n",
       "<table border=\"1\" class=\"dataframe\">\n",
       "  <thead>\n",
       "    <tr>\n",
       "      <th></th>\n",
       "      <th colspan=\"5\" halign=\"left\">bmw_id</th>\n",
       "    </tr>\n",
       "    <tr>\n",
       "      <th>price_cat</th>\n",
       "      <th>0 - 15000</th>\n",
       "      <th>15001-30000</th>\n",
       "      <th>30001 - 50000</th>\n",
       "      <th>50001 - 100000</th>\n",
       "      <th>100000+</th>\n",
       "    </tr>\n",
       "    <tr>\n",
       "      <th>km_cat</th>\n",
       "      <th></th>\n",
       "      <th></th>\n",
       "      <th></th>\n",
       "      <th></th>\n",
       "      <th></th>\n",
       "    </tr>\n",
       "  </thead>\n",
       "  <tbody>\n",
       "    <tr>\n",
       "      <th>0-50k</th>\n",
       "      <td>1</td>\n",
       "      <td>27</td>\n",
       "      <td>81</td>\n",
       "      <td>142</td>\n",
       "      <td>15</td>\n",
       "    </tr>\n",
       "    <tr>\n",
       "      <th>120k+</th>\n",
       "      <td>183</td>\n",
       "      <td>98</td>\n",
       "      <td>24</td>\n",
       "      <td>3</td>\n",
       "      <td>1</td>\n",
       "    </tr>\n",
       "    <tr>\n",
       "      <th>50-120k</th>\n",
       "      <td>24</td>\n",
       "      <td>99</td>\n",
       "      <td>109</td>\n",
       "      <td>62</td>\n",
       "      <td>3</td>\n",
       "    </tr>\n",
       "  </tbody>\n",
       "</table>\n",
       "</div>"
      ],
      "text/plain": [
       "             bmw_id                                                 \n",
       "price_cat 0 - 15000 15001-30000 30001 - 50000 50001 - 100000 100000+\n",
       "km_cat                                                              \n",
       "0-50k             1          27            81            142      15\n",
       "120k+           183          98            24              3       1\n",
       "50-120k          24          99           109             62       3"
      ]
     },
     "execution_count": 126,
     "metadata": {},
     "output_type": "execute_result"
    }
   ],
   "source": [
    "# Contingency table (numbers in the table are apartments)\n",
    "tab = pd.pivot_table(df[['bmw_id', 'km_cat', 'price_cat']],\n",
    "                     index=['km_cat'],\n",
    "                     columns=['price_cat'], \n",
    "                     aggfunc='count')\n",
    "tab"
   ]
  },
  {
   "cell_type": "markdown",
   "id": "7600df22",
   "metadata": {},
   "source": [
    "## Perform a Chi-square test on the contingency table\n",
    "For details see: https://docs.scipy.org/doc/scipy/reference/generated/scipy.stats.chi2_contingency.html"
   ]
  },
  {
   "cell_type": "code",
   "execution_count": 127,
   "id": "06972c6c",
   "metadata": {},
   "outputs": [
    {
     "name": "stdout",
     "output_type": "stream",
     "text": [
      "Expected frequencies: \n",
      " [[63.4495 68.3303 65.2798 63.1445  5.7959]\n",
      " [73.7064 79.3761 75.8326 73.3521  6.7328]\n",
      " [70.844  76.2936 72.8876 70.5034  6.4713]] \n",
      "\n",
      "Critical value: 15.5073 \n",
      "\n",
      "Test statistic: 536.0713 \n",
      "\n",
      "Degrees of freedom: 8 \n",
      "\n",
      "p-value: 0.0000\n"
     ]
    }
   ],
   "source": [
    "# 1-alpha\n",
    "prob = 0.95\n",
    "\n",
    "# Chi-squared test\n",
    "stat, p, dof, expected = chi2_contingency(tab)\n",
    "\n",
    "# Critical value\n",
    "critical = chi2.ppf(prob, dof)\n",
    "\n",
    "# Print results of the Chi-square test\n",
    "print('Expected frequencies:', '\\n', expected.round(4), '\\n')\n",
    "print('Critical value:', critical.round(4), '\\n')\n",
    "print('Test statistic:', stat.round(4), '\\n')\n",
    "print('Degrees of freedom:', dof, '\\n')\n",
    "print(f'p-value: {p:.4f}')"
   ]
  },
  {
   "cell_type": "markdown",
   "id": "99ec92f1",
   "metadata": {},
   "source": [
    "## Interpretation of the Chi-squared test result"
   ]
  },
  {
   "cell_type": "markdown",
   "id": "d2891001",
   "metadata": {},
   "source": [
    "<p>Because the test statistic is larger than the critical value and the p-value is smaller than our significance level apha=0.05, we can reject the null hypothesis, i.e. there is a statistically significant (at the 0.05 significance-level) association between the price-categories and the living-area categories in the contingence table.</p>"
   ]
  },
  {
   "cell_type": "markdown",
   "id": "1a0f028b",
   "metadata": {},
   "source": [
    "### Jupyter notebook --footer info-- (please always provide this at the end of each submitted notebook)"
   ]
  },
  {
   "cell_type": "code",
   "execution_count": 128,
   "id": "4e63b4e2",
   "metadata": {},
   "outputs": [
    {
     "name": "stdout",
     "output_type": "stream",
     "text": [
      "-----------------------------------\n",
      "POSIX\n",
      "Linux | 6.2.0-1018-azure\n",
      "Datetime: 2024-01-12 20:55:11\n",
      "Python Version: 3.10.13\n",
      "-----------------------------------\n"
     ]
    }
   ],
   "source": [
    "import os\n",
    "import platform\n",
    "import socket\n",
    "from platform import python_version\n",
    "from datetime import datetime\n",
    "\n",
    "print('-----------------------------------')\n",
    "print(os.name.upper())\n",
    "print(platform.system(), '|', platform.release())\n",
    "print('Datetime:', datetime.now().strftime(\"%Y-%m-%d %H:%M:%S\"))\n",
    "print('Python Version:', python_version())\n",
    "print('-----------------------------------')"
   ]
  }
 ],
 "metadata": {
  "kernelspec": {
   "display_name": "Python 3 (ipykernel)",
   "language": "python",
   "name": "python3"
  },
  "language_info": {
   "codemirror_mode": {
    "name": "ipython",
    "version": 3
   },
   "file_extension": ".py",
   "mimetype": "text/x-python",
   "name": "python",
   "nbconvert_exporter": "python",
   "pygments_lexer": "ipython3",
   "version": "3.10.13"
  }
 },
 "nbformat": 4,
 "nbformat_minor": 5
}
